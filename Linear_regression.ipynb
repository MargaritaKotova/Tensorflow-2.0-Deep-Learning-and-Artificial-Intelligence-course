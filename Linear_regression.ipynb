{
  "nbformat": 4,
  "nbformat_minor": 0,
  "metadata": {
    "colab": {
      "name": "Linear regression.ipynb",
      "provenance": []
    },
    "kernelspec": {
      "name": "python3",
      "display_name": "Python 3"
    }
  },
  "cells": [
    {
      "cell_type": "code",
      "metadata": {
        "id": "11_uoZM-IliF",
        "colab_type": "code",
        "colab": {
          "base_uri": "https://localhost:8080/",
          "height": 927
        },
        "outputId": "b363c862-b1b4-41fb-ab97-50e6007634fe"
      },
      "source": [
        " !pip install \"tensorflow>=2.0.0\"\n",
        " import tensorflow as tf\n",
        "print(tf.__version__)"
      ],
      "execution_count": 1,
      "outputs": [
        {
          "output_type": "stream",
          "text": [
            "Collecting tensorflow>=2.0.0\n",
            "\u001b[?25l  Downloading https://files.pythonhosted.org/packages/85/d4/c0cd1057b331bc38b65478302114194bd8e1b9c2bbc06e300935c0e93d90/tensorflow-2.1.0-cp36-cp36m-manylinux2010_x86_64.whl (421.8MB)\n",
            "\u001b[K     |████████████████████████████████| 421.8MB 35kB/s \n",
            "\u001b[?25hRequirement already satisfied: protobuf>=3.8.0 in /usr/local/lib/python3.6/dist-packages (from tensorflow>=2.0.0) (3.10.0)\n",
            "Requirement already satisfied: wrapt>=1.11.1 in /usr/local/lib/python3.6/dist-packages (from tensorflow>=2.0.0) (1.11.2)\n",
            "Requirement already satisfied: grpcio>=1.8.6 in /usr/local/lib/python3.6/dist-packages (from tensorflow>=2.0.0) (1.27.1)\n",
            "Requirement already satisfied: gast==0.2.2 in /usr/local/lib/python3.6/dist-packages (from tensorflow>=2.0.0) (0.2.2)\n",
            "Requirement already satisfied: termcolor>=1.1.0 in /usr/local/lib/python3.6/dist-packages (from tensorflow>=2.0.0) (1.1.0)\n",
            "Requirement already satisfied: keras-preprocessing>=1.1.0 in /usr/local/lib/python3.6/dist-packages (from tensorflow>=2.0.0) (1.1.0)\n",
            "Requirement already satisfied: google-pasta>=0.1.6 in /usr/local/lib/python3.6/dist-packages (from tensorflow>=2.0.0) (0.1.8)\n",
            "Requirement already satisfied: opt-einsum>=2.3.2 in /usr/local/lib/python3.6/dist-packages (from tensorflow>=2.0.0) (3.1.0)\n",
            "Collecting tensorflow-estimator<2.2.0,>=2.1.0rc0\n",
            "\u001b[?25l  Downloading https://files.pythonhosted.org/packages/18/90/b77c328a1304437ab1310b463e533fa7689f4bfc41549593056d812fab8e/tensorflow_estimator-2.1.0-py2.py3-none-any.whl (448kB)\n",
            "\u001b[K     |████████████████████████████████| 450kB 46.1MB/s \n",
            "\u001b[?25hRequirement already satisfied: six>=1.12.0 in /usr/local/lib/python3.6/dist-packages (from tensorflow>=2.0.0) (1.12.0)\n",
            "Requirement already satisfied: scipy==1.4.1; python_version >= \"3\" in /usr/local/lib/python3.6/dist-packages (from tensorflow>=2.0.0) (1.4.1)\n",
            "Collecting tensorboard<2.2.0,>=2.1.0\n",
            "\u001b[?25l  Downloading https://files.pythonhosted.org/packages/d9/41/bbf49b61370e4f4d245d4c6051dfb6db80cec672605c91b1652ac8cc3d38/tensorboard-2.1.1-py3-none-any.whl (3.8MB)\n",
            "\u001b[K     |████████████████████████████████| 3.9MB 38.5MB/s \n",
            "\u001b[?25hRequirement already satisfied: wheel>=0.26; python_version >= \"3\" in /usr/local/lib/python3.6/dist-packages (from tensorflow>=2.0.0) (0.34.2)\n",
            "Requirement already satisfied: astor>=0.6.0 in /usr/local/lib/python3.6/dist-packages (from tensorflow>=2.0.0) (0.8.1)\n",
            "Requirement already satisfied: keras-applications>=1.0.8 in /usr/local/lib/python3.6/dist-packages (from tensorflow>=2.0.0) (1.0.8)\n",
            "Requirement already satisfied: absl-py>=0.7.0 in /usr/local/lib/python3.6/dist-packages (from tensorflow>=2.0.0) (0.9.0)\n",
            "Requirement already satisfied: numpy<2.0,>=1.16.0 in /usr/local/lib/python3.6/dist-packages (from tensorflow>=2.0.0) (1.17.5)\n",
            "Requirement already satisfied: setuptools in /usr/local/lib/python3.6/dist-packages (from protobuf>=3.8.0->tensorflow>=2.0.0) (45.2.0)\n",
            "Requirement already satisfied: werkzeug>=0.11.15 in /usr/local/lib/python3.6/dist-packages (from tensorboard<2.2.0,>=2.1.0->tensorflow>=2.0.0) (1.0.0)\n",
            "Requirement already satisfied: google-auth<2,>=1.6.3 in /usr/local/lib/python3.6/dist-packages (from tensorboard<2.2.0,>=2.1.0->tensorflow>=2.0.0) (1.7.2)\n",
            "Requirement already satisfied: google-auth-oauthlib<0.5,>=0.4.1 in /usr/local/lib/python3.6/dist-packages (from tensorboard<2.2.0,>=2.1.0->tensorflow>=2.0.0) (0.4.1)\n",
            "Requirement already satisfied: markdown>=2.6.8 in /usr/local/lib/python3.6/dist-packages (from tensorboard<2.2.0,>=2.1.0->tensorflow>=2.0.0) (3.2.1)\n",
            "Requirement already satisfied: requests<3,>=2.21.0 in /usr/local/lib/python3.6/dist-packages (from tensorboard<2.2.0,>=2.1.0->tensorflow>=2.0.0) (2.21.0)\n",
            "Requirement already satisfied: h5py in /usr/local/lib/python3.6/dist-packages (from keras-applications>=1.0.8->tensorflow>=2.0.0) (2.8.0)\n",
            "Requirement already satisfied: cachetools<3.2,>=2.0.0 in /usr/local/lib/python3.6/dist-packages (from google-auth<2,>=1.6.3->tensorboard<2.2.0,>=2.1.0->tensorflow>=2.0.0) (3.1.1)\n",
            "Requirement already satisfied: rsa<4.1,>=3.1.4 in /usr/local/lib/python3.6/dist-packages (from google-auth<2,>=1.6.3->tensorboard<2.2.0,>=2.1.0->tensorflow>=2.0.0) (4.0)\n",
            "Requirement already satisfied: pyasn1-modules>=0.2.1 in /usr/local/lib/python3.6/dist-packages (from google-auth<2,>=1.6.3->tensorboard<2.2.0,>=2.1.0->tensorflow>=2.0.0) (0.2.8)\n",
            "Requirement already satisfied: requests-oauthlib>=0.7.0 in /usr/local/lib/python3.6/dist-packages (from google-auth-oauthlib<0.5,>=0.4.1->tensorboard<2.2.0,>=2.1.0->tensorflow>=2.0.0) (1.3.0)\n",
            "Requirement already satisfied: certifi>=2017.4.17 in /usr/local/lib/python3.6/dist-packages (from requests<3,>=2.21.0->tensorboard<2.2.0,>=2.1.0->tensorflow>=2.0.0) (2019.11.28)\n",
            "Requirement already satisfied: urllib3<1.25,>=1.21.1 in /usr/local/lib/python3.6/dist-packages (from requests<3,>=2.21.0->tensorboard<2.2.0,>=2.1.0->tensorflow>=2.0.0) (1.24.3)\n",
            "Requirement already satisfied: idna<2.9,>=2.5 in /usr/local/lib/python3.6/dist-packages (from requests<3,>=2.21.0->tensorboard<2.2.0,>=2.1.0->tensorflow>=2.0.0) (2.8)\n",
            "Requirement already satisfied: chardet<3.1.0,>=3.0.2 in /usr/local/lib/python3.6/dist-packages (from requests<3,>=2.21.0->tensorboard<2.2.0,>=2.1.0->tensorflow>=2.0.0) (3.0.4)\n",
            "Requirement already satisfied: pyasn1>=0.1.3 in /usr/local/lib/python3.6/dist-packages (from rsa<4.1,>=3.1.4->google-auth<2,>=1.6.3->tensorboard<2.2.0,>=2.1.0->tensorflow>=2.0.0) (0.4.8)\n",
            "Requirement already satisfied: oauthlib>=3.0.0 in /usr/local/lib/python3.6/dist-packages (from requests-oauthlib>=0.7.0->google-auth-oauthlib<0.5,>=0.4.1->tensorboard<2.2.0,>=2.1.0->tensorflow>=2.0.0) (3.1.0)\n",
            "Installing collected packages: tensorflow-estimator, tensorboard, tensorflow\n",
            "  Found existing installation: tensorflow-estimator 1.15.1\n",
            "    Uninstalling tensorflow-estimator-1.15.1:\n",
            "      Successfully uninstalled tensorflow-estimator-1.15.1\n",
            "  Found existing installation: tensorboard 1.15.0\n",
            "    Uninstalling tensorboard-1.15.0:\n",
            "      Successfully uninstalled tensorboard-1.15.0\n",
            "  Found existing installation: tensorflow 1.15.0\n",
            "    Uninstalling tensorflow-1.15.0:\n",
            "      Successfully uninstalled tensorflow-1.15.0\n",
            "Successfully installed tensorboard-2.1.1 tensorflow-2.1.0 tensorflow-estimator-2.1.0\n",
            "2.1.0\n"
          ],
          "name": "stdout"
        }
      ]
    },
    {
      "cell_type": "code",
      "metadata": {
        "id": "BVDcoZvaKV8e",
        "colab_type": "code",
        "colab": {}
      },
      "source": [
        "import pandas as pd\n",
        "import numpy as np\n",
        "import matplotlib.pyplot as plt"
      ],
      "execution_count": 0,
      "outputs": []
    },
    {
      "cell_type": "code",
      "metadata": {
        "id": "yX4PURlnKjm8",
        "colab_type": "code",
        "colab": {
          "base_uri": "https://localhost:8080/",
          "height": 202
        },
        "outputId": "7e5aa2ac-a305-44a0-d1f8-331c97032a7f"
      },
      "source": [
        "!wget https://raw.githubusercontent.com/lazyprogrammer/machine_learning_examples/master/tf2.0/moore.csv"
      ],
      "execution_count": 12,
      "outputs": [
        {
          "output_type": "stream",
          "text": [
            "--2020-03-08 13:49:58--  https://raw.githubusercontent.com/lazyprogrammer/machine_learning_examples/master/tf2.0/moore.csv\n",
            "Resolving raw.githubusercontent.com (raw.githubusercontent.com)... 151.101.0.133, 151.101.64.133, 151.101.128.133, ...\n",
            "Connecting to raw.githubusercontent.com (raw.githubusercontent.com)|151.101.0.133|:443... connected.\n",
            "HTTP request sent, awaiting response... 200 OK\n",
            "Length: 2302 (2.2K) [text/plain]\n",
            "Saving to: ‘moore.csv.2’\n",
            "\n",
            "\rmoore.csv.2           0%[                    ]       0  --.-KB/s               \rmoore.csv.2         100%[===================>]   2.25K  --.-KB/s    in 0s      \n",
            "\n",
            "2020-03-08 13:49:59 (43.3 MB/s) - ‘moore.csv.2’ saved [2302/2302]\n",
            "\n"
          ],
          "name": "stdout"
        }
      ]
    },
    {
      "cell_type": "code",
      "metadata": {
        "id": "W-qLliwUKysg",
        "colab_type": "code",
        "colab": {}
      },
      "source": [
        "data = pd.read_csv('moore.csv.2', header=None).values\n",
        "X = data[:,0].reshape(-1,1)\n",
        "Y = data[:,1]"
      ],
      "execution_count": 0,
      "outputs": []
    },
    {
      "cell_type": "code",
      "metadata": {
        "id": "eavkC6gTabhQ",
        "colab_type": "code",
        "colab": {
          "base_uri": "https://localhost:8080/",
          "height": 293
        },
        "outputId": "e623f0de-eedc-4f46-8d75-682553f577a0"
      },
      "source": [
        "plt.scatter(X,Y)"
      ],
      "execution_count": 22,
      "outputs": [
        {
          "output_type": "execute_result",
          "data": {
            "text/plain": [
              "<matplotlib.collections.PathCollection at 0x7f679ccf0828>"
            ]
          },
          "metadata": {
            "tags": []
          },
          "execution_count": 22
        },
        {
          "output_type": "display_data",
          "data": {
            "image/png": "[encoded data removed]",
            "text/plain": [
              "<Figure size 432x288 with 1 Axes>"
            ]
          },
          "metadata": {
            "tags": []
          }
        }
      ]
    },
    {
      "cell_type": "code",
      "metadata": {
        "id": "3HGMpeBgaxgZ",
        "colab_type": "code",
        "colab": {
          "base_uri": "https://localhost:8080/",
          "height": 282
        },
        "outputId": "f6725cd1-5c28-4f82-c2f3-16641fdb5012"
      },
      "source": [
        "Y = np.log(Y)\n",
        "plt.scatter(X,Y)"
      ],
      "execution_count": 23,
      "outputs": [
        {
          "output_type": "execute_result",
          "data": {
            "text/plain": [
              "<matplotlib.collections.PathCollection at 0x7f6799a6a3c8>"
            ]
          },
          "metadata": {
            "tags": []
          },
          "execution_count": 23
        },
        {
          "output_type": "display_data",
          "data": {
            "image/png": "[encoded data removed]",
            "text/plain": [
              "<Figure size 432x288 with 1 Axes>"
            ]
          },
          "metadata": {
            "tags": []
          }
        }
      ]
    },
    {
      "cell_type": "code",
      "metadata": {
        "id": "L_VCZrsKlivq",
        "colab_type": "code",
        "colab": {}
      },
      "source": [
        "X= X - X.mean()"
      ],
      "execution_count": 0,
      "outputs": []
    },
    {
      "cell_type": "code",
      "metadata": {
        "id": "DydjtDSbmE4b",
        "colab_type": "code",
        "colab": {
          "base_uri": "https://localhost:8080/",
          "height": 1000
        },
        "outputId": "4c1464ef-a9b4-418c-9489-28196e86520d"
      },
      "source": [
        "model = tf.keras.models.Sequential([tf.keras.layers.Input(shape=(1,)), tf.keras.layers.Dense(1)])\n",
        "\n",
        "model.compile(optimizer=tf.keras.optimizers.SGD(0.001,0,9), loss='mse')\n",
        "\n",
        "def schedule(epochs,lr):\n",
        "  if epochs>=50:\n",
        "     return 0.0001\n",
        "  else:\n",
        "    return 0.001\n",
        "\n",
        "scheduler = tf.keras.callbacks.LearningRateScheduler(schedule)\n",
        "\n",
        "#Train the model\n",
        "r = model.fit(X,Y,epochs=200, callbacks=[scheduler])\n",
        "\n",
        "\n"
      ],
      "execution_count": 26,
      "outputs": [
        {
          "output_type": "stream",
          "text": [
            "Train on 162 samples\n",
            "Epoch 1/200\n",
            "162/162 [==============================] - 0s 1ms/sample - loss: 330.6539\n",
            "Epoch 2/200\n",
            "162/162 [==============================] - 0s 72us/sample - loss: 312.1881\n",
            "Epoch 3/200\n",
            "162/162 [==============================] - 0s 71us/sample - loss: 308.0336\n",
            "Epoch 4/200\n",
            "162/162 [==============================] - 0s 63us/sample - loss: 305.2577\n",
            "Epoch 5/200\n",
            "162/162 [==============================] - 0s 63us/sample - loss: 306.5152\n",
            "Epoch 6/200\n",
            "162/162 [==============================] - 0s 63us/sample - loss: 288.0272\n",
            "Epoch 7/200\n",
            "162/162 [==============================] - 0s 62us/sample - loss: 275.9039\n",
            "Epoch 8/200\n",
            "162/162 [==============================] - 0s 79us/sample - loss: 274.8262\n",
            "Epoch 9/200\n",
            "162/162 [==============================] - 0s 68us/sample - loss: 289.8163\n",
            "Epoch 10/200\n",
            "162/162 [==============================] - 0s 67us/sample - loss: 258.6989\n",
            "Epoch 11/200\n",
            "162/162 [==============================] - 0s 63us/sample - loss: 252.9185\n",
            "Epoch 12/200\n",
            "162/162 [==============================] - 0s 70us/sample - loss: 253.3601\n",
            "Epoch 13/200\n",
            "162/162 [==============================] - 0s 62us/sample - loss: 246.6210\n",
            "Epoch 14/200\n",
            "162/162 [==============================] - 0s 66us/sample - loss: 237.7753\n",
            "Epoch 15/200\n",
            "162/162 [==============================] - 0s 73us/sample - loss: 226.4929\n",
            "Epoch 16/200\n",
            "162/162 [==============================] - 0s 63us/sample - loss: 220.6309\n",
            "Epoch 17/200\n",
            "162/162 [==============================] - 0s 72us/sample - loss: 217.6197\n",
            "Epoch 18/200\n",
            "162/162 [==============================] - 0s 80us/sample - loss: 214.6351\n",
            "Epoch 19/200\n",
            "162/162 [==============================] - 0s 84us/sample - loss: 204.9106\n",
            "Epoch 20/200\n",
            "162/162 [==============================] - 0s 65us/sample - loss: 201.0374\n",
            "Epoch 21/200\n",
            "162/162 [==============================] - 0s 73us/sample - loss: 218.5736\n",
            "Epoch 22/200\n",
            "162/162 [==============================] - 0s 68us/sample - loss: 191.0915\n",
            "Epoch 23/200\n",
            "162/162 [==============================] - 0s 72us/sample - loss: 194.5873\n",
            "Epoch 24/200\n",
            "162/162 [==============================] - 0s 65us/sample - loss: 182.2821\n",
            "Epoch 25/200\n",
            "162/162 [==============================] - 0s 60us/sample - loss: 178.9101\n",
            "Epoch 26/200\n",
            "162/162 [==============================] - 0s 67us/sample - loss: 181.4034\n",
            "Epoch 27/200\n",
            "162/162 [==============================] - 0s 75us/sample - loss: 176.3243\n",
            "Epoch 28/200\n",
            "162/162 [==============================] - 0s 62us/sample - loss: 165.3091\n",
            "Epoch 29/200\n",
            "162/162 [==============================] - 0s 75us/sample - loss: 160.7880\n",
            "Epoch 30/200\n",
            "162/162 [==============================] - 0s 64us/sample - loss: 183.3452\n",
            "Epoch 31/200\n",
            "162/162 [==============================] - 0s 61us/sample - loss: 155.7571\n",
            "Epoch 32/200\n",
            "162/162 [==============================] - 0s 72us/sample - loss: 154.8646\n",
            "Epoch 33/200\n",
            "162/162 [==============================] - 0s 75us/sample - loss: 149.9548\n",
            "Epoch 34/200\n",
            "162/162 [==============================] - 0s 74us/sample - loss: 145.9261\n",
            "Epoch 35/200\n",
            "162/162 [==============================] - 0s 73us/sample - loss: 144.8873\n",
            "Epoch 36/200\n",
            "162/162 [==============================] - 0s 84us/sample - loss: 138.9852\n",
            "Epoch 37/200\n",
            "162/162 [==============================] - 0s 70us/sample - loss: 138.6776\n",
            "Epoch 38/200\n",
            "162/162 [==============================] - 0s 62us/sample - loss: 131.2286\n",
            "Epoch 39/200\n",
            "162/162 [==============================] - 0s 69us/sample - loss: 144.7402\n",
            "Epoch 40/200\n",
            "162/162 [==============================] - 0s 60us/sample - loss: 126.2705\n",
            "Epoch 41/200\n",
            "162/162 [==============================] - 0s 81us/sample - loss: 139.8382\n",
            "Epoch 42/200\n",
            "162/162 [==============================] - 0s 72us/sample - loss: 118.3968\n",
            "Epoch 43/200\n",
            "162/162 [==============================] - 0s 85us/sample - loss: 118.8284\n",
            "Epoch 44/200\n",
            "162/162 [==============================] - 0s 68us/sample - loss: 113.6229\n",
            "Epoch 45/200\n",
            "162/162 [==============================] - 0s 65us/sample - loss: 112.7423\n",
            "Epoch 46/200\n",
            "162/162 [==============================] - 0s 60us/sample - loss: 108.7853\n",
            "Epoch 47/200\n",
            "162/162 [==============================] - 0s 87us/sample - loss: 104.6491\n",
            "Epoch 48/200\n",
            "162/162 [==============================] - 0s 67us/sample - loss: 102.1649\n",
            "Epoch 49/200\n",
            "162/162 [==============================] - 0s 62us/sample - loss: 100.4437\n",
            "Epoch 50/200\n",
            "162/162 [==============================] - 0s 69us/sample - loss: 97.8350\n",
            "Epoch 51/200\n",
            "162/162 [==============================] - 0s 91us/sample - loss: 95.6900\n",
            "Epoch 52/200\n",
            "162/162 [==============================] - 0s 79us/sample - loss: 95.4378\n",
            "Epoch 53/200\n",
            "162/162 [==============================] - 0s 67us/sample - loss: 95.3283\n",
            "Epoch 54/200\n",
            "162/162 [==============================] - 0s 67us/sample - loss: 95.4049\n",
            "Epoch 55/200\n",
            "162/162 [==============================] - 0s 71us/sample - loss: 94.9187\n",
            "Epoch 56/200\n",
            "162/162 [==============================] - 0s 61us/sample - loss: 94.6651\n",
            "Epoch 57/200\n",
            "162/162 [==============================] - 0s 69us/sample - loss: 94.3975\n",
            "Epoch 58/200\n",
            "162/162 [==============================] - 0s 73us/sample - loss: 94.2657\n",
            "Epoch 59/200\n",
            "162/162 [==============================] - 0s 66us/sample - loss: 94.0128\n",
            "Epoch 60/200\n",
            "162/162 [==============================] - 0s 91us/sample - loss: 93.6905\n",
            "Epoch 61/200\n",
            "162/162 [==============================] - 0s 66us/sample - loss: 93.4349\n",
            "Epoch 62/200\n",
            "162/162 [==============================] - 0s 73us/sample - loss: 93.1399\n",
            "Epoch 63/200\n",
            "162/162 [==============================] - 0s 71us/sample - loss: 93.0396\n",
            "Epoch 64/200\n",
            "162/162 [==============================] - 0s 67us/sample - loss: 92.8265\n",
            "Epoch 65/200\n",
            "162/162 [==============================] - 0s 133us/sample - loss: 92.6123\n",
            "Epoch 66/200\n",
            "162/162 [==============================] - 0s 98us/sample - loss: 92.3849\n",
            "Epoch 67/200\n",
            "162/162 [==============================] - 0s 100us/sample - loss: 92.0481\n",
            "Epoch 68/200\n",
            "162/162 [==============================] - 0s 79us/sample - loss: 91.9018\n",
            "Epoch 69/200\n",
            "162/162 [==============================] - 0s 77us/sample - loss: 91.7359\n",
            "Epoch 70/200\n",
            "162/162 [==============================] - 0s 89us/sample - loss: 91.5213\n",
            "Epoch 71/200\n",
            "162/162 [==============================] - 0s 93us/sample - loss: 91.8619\n",
            "Epoch 72/200\n",
            "162/162 [==============================] - 0s 78us/sample - loss: 91.2547\n",
            "Epoch 73/200\n",
            "162/162 [==============================] - 0s 92us/sample - loss: 90.7512\n",
            "Epoch 74/200\n",
            "162/162 [==============================] - 0s 76us/sample - loss: 90.5709\n",
            "Epoch 75/200\n",
            "162/162 [==============================] - 0s 76us/sample - loss: 90.4103\n",
            "Epoch 76/200\n",
            "162/162 [==============================] - 0s 70us/sample - loss: 90.1323\n",
            "Epoch 77/200\n",
            "162/162 [==============================] - 0s 70us/sample - loss: 89.9885\n",
            "Epoch 78/200\n",
            "162/162 [==============================] - 0s 68us/sample - loss: 89.7421\n",
            "Epoch 79/200\n",
            "162/162 [==============================] - 0s 73us/sample - loss: 89.5820\n",
            "Epoch 80/200\n",
            "162/162 [==============================] - 0s 83us/sample - loss: 89.4091\n",
            "Epoch 81/200\n",
            "162/162 [==============================] - 0s 77us/sample - loss: 89.3780\n",
            "Epoch 82/200\n",
            "162/162 [==============================] - 0s 63us/sample - loss: 89.0826\n",
            "Epoch 83/200\n",
            "162/162 [==============================] - 0s 67us/sample - loss: 88.8454\n",
            "Epoch 84/200\n",
            "162/162 [==============================] - 0s 81us/sample - loss: 88.8043\n",
            "Epoch 85/200\n",
            "162/162 [==============================] - 0s 69us/sample - loss: 88.3732\n",
            "Epoch 86/200\n",
            "162/162 [==============================] - 0s 68us/sample - loss: 88.2552\n",
            "Epoch 87/200\n",
            "162/162 [==============================] - 0s 70us/sample - loss: 88.0671\n",
            "Epoch 88/200\n",
            "162/162 [==============================] - 0s 70us/sample - loss: 87.7954\n",
            "Epoch 89/200\n",
            "162/162 [==============================] - 0s 76us/sample - loss: 87.4873\n",
            "Epoch 90/200\n",
            "162/162 [==============================] - 0s 70us/sample - loss: 87.1382\n",
            "Epoch 91/200\n",
            "162/162 [==============================] - 0s 75us/sample - loss: 86.9417\n",
            "Epoch 92/200\n",
            "162/162 [==============================] - 0s 83us/sample - loss: 86.8149\n",
            "Epoch 93/200\n",
            "162/162 [==============================] - 0s 85us/sample - loss: 86.5560\n",
            "Epoch 94/200\n",
            "162/162 [==============================] - 0s 112us/sample - loss: 86.3456\n",
            "Epoch 95/200\n",
            "162/162 [==============================] - 0s 68us/sample - loss: 86.1237\n",
            "Epoch 96/200\n",
            "162/162 [==============================] - 0s 76us/sample - loss: 85.9391\n",
            "Epoch 97/200\n",
            "162/162 [==============================] - 0s 94us/sample - loss: 85.7330\n",
            "Epoch 98/200\n",
            "162/162 [==============================] - 0s 72us/sample - loss: 85.4799\n",
            "Epoch 99/200\n",
            "162/162 [==============================] - 0s 74us/sample - loss: 85.2942\n",
            "Epoch 100/200\n",
            "162/162 [==============================] - 0s 64us/sample - loss: 85.1771\n",
            "Epoch 101/200\n",
            "162/162 [==============================] - 0s 77us/sample - loss: 84.9900\n",
            "Epoch 102/200\n",
            "162/162 [==============================] - 0s 87us/sample - loss: 84.7927\n",
            "Epoch 103/200\n",
            "162/162 [==============================] - 0s 81us/sample - loss: 84.5356\n",
            "Epoch 104/200\n",
            "162/162 [==============================] - 0s 80us/sample - loss: 84.3153\n",
            "Epoch 105/200\n",
            "162/162 [==============================] - 0s 80us/sample - loss: 84.1806\n",
            "Epoch 106/200\n",
            "162/162 [==============================] - 0s 88us/sample - loss: 83.9898\n",
            "Epoch 107/200\n",
            "162/162 [==============================] - 0s 79us/sample - loss: 83.7020\n",
            "Epoch 108/200\n",
            "162/162 [==============================] - 0s 80us/sample - loss: 83.5069\n",
            "Epoch 109/200\n",
            "162/162 [==============================] - 0s 65us/sample - loss: 83.3857\n",
            "Epoch 110/200\n",
            "162/162 [==============================] - 0s 66us/sample - loss: 83.1359\n",
            "Epoch 111/200\n",
            "162/162 [==============================] - 0s 62us/sample - loss: 82.9037\n",
            "Epoch 112/200\n",
            "162/162 [==============================] - 0s 94us/sample - loss: 82.7516\n",
            "Epoch 113/200\n",
            "162/162 [==============================] - 0s 52us/sample - loss: 82.5291\n",
            "Epoch 114/200\n",
            "162/162 [==============================] - 0s 59us/sample - loss: 82.4006\n",
            "Epoch 115/200\n",
            "162/162 [==============================] - 0s 79us/sample - loss: 82.2195\n",
            "Epoch 116/200\n",
            "162/162 [==============================] - 0s 109us/sample - loss: 82.0174\n",
            "Epoch 117/200\n",
            "162/162 [==============================] - 0s 78us/sample - loss: 81.8372\n",
            "Epoch 118/200\n",
            "162/162 [==============================] - 0s 72us/sample - loss: 81.7445\n",
            "Epoch 119/200\n",
            "162/162 [==============================] - 0s 65us/sample - loss: 81.4439\n",
            "Epoch 120/200\n",
            "162/162 [==============================] - 0s 69us/sample - loss: 81.1460\n",
            "Epoch 121/200\n",
            "162/162 [==============================] - 0s 82us/sample - loss: 80.9951\n",
            "Epoch 122/200\n",
            "162/162 [==============================] - 0s 65us/sample - loss: 80.8714\n",
            "Epoch 123/200\n",
            "162/162 [==============================] - 0s 80us/sample - loss: 80.6268\n",
            "Epoch 124/200\n",
            "162/162 [==============================] - 0s 69us/sample - loss: 80.4127\n",
            "Epoch 125/200\n",
            "162/162 [==============================] - 0s 66us/sample - loss: 80.2707\n",
            "Epoch 126/200\n",
            "162/162 [==============================] - 0s 60us/sample - loss: 80.0320\n",
            "Epoch 127/200\n",
            "162/162 [==============================] - 0s 70us/sample - loss: 79.8435\n",
            "Epoch 128/200\n",
            "162/162 [==============================] - 0s 71us/sample - loss: 79.6415\n",
            "Epoch 129/200\n",
            "162/162 [==============================] - 0s 71us/sample - loss: 79.5597\n",
            "Epoch 130/200\n",
            "162/162 [==============================] - 0s 71us/sample - loss: 79.2531\n",
            "Epoch 131/200\n",
            "162/162 [==============================] - 0s 80us/sample - loss: 79.1301\n",
            "Epoch 132/200\n",
            "162/162 [==============================] - 0s 76us/sample - loss: 78.9383\n",
            "Epoch 133/200\n",
            "162/162 [==============================] - 0s 63us/sample - loss: 78.8600\n",
            "Epoch 134/200\n",
            "162/162 [==============================] - 0s 65us/sample - loss: 78.6095\n",
            "Epoch 135/200\n",
            "162/162 [==============================] - 0s 69us/sample - loss: 78.3180\n",
            "Epoch 136/200\n",
            "162/162 [==============================] - 0s 75us/sample - loss: 78.1671\n",
            "Epoch 137/200\n",
            "162/162 [==============================] - 0s 72us/sample - loss: 78.0443\n",
            "Epoch 138/200\n",
            "162/162 [==============================] - 0s 65us/sample - loss: 77.8177\n",
            "Epoch 139/200\n",
            "162/162 [==============================] - 0s 71us/sample - loss: 77.6662\n",
            "Epoch 140/200\n",
            "162/162 [==============================] - 0s 72us/sample - loss: 77.4147\n",
            "Epoch 141/200\n",
            "162/162 [==============================] - 0s 69us/sample - loss: 77.2899\n",
            "Epoch 142/200\n",
            "162/162 [==============================] - 0s 75us/sample - loss: 77.1056\n",
            "Epoch 143/200\n",
            "162/162 [==============================] - 0s 64us/sample - loss: 76.9204\n",
            "Epoch 144/200\n",
            "162/162 [==============================] - 0s 65us/sample - loss: 76.6980\n",
            "Epoch 145/200\n",
            "162/162 [==============================] - 0s 65us/sample - loss: 76.5390\n",
            "Epoch 146/200\n",
            "162/162 [==============================] - 0s 69us/sample - loss: 76.4894\n",
            "Epoch 147/200\n",
            "162/162 [==============================] - 0s 65us/sample - loss: 76.4066\n",
            "Epoch 148/200\n",
            "162/162 [==============================] - 0s 67us/sample - loss: 76.0310\n",
            "Epoch 149/200\n",
            "162/162 [==============================] - 0s 67us/sample - loss: 75.9472\n",
            "Epoch 150/200\n",
            "162/162 [==============================] - 0s 77us/sample - loss: 75.7961\n",
            "Epoch 151/200\n",
            "162/162 [==============================] - 0s 70us/sample - loss: 75.6780\n",
            "Epoch 152/200\n",
            "162/162 [==============================] - 0s 67us/sample - loss: 75.2270\n",
            "Epoch 153/200\n",
            "162/162 [==============================] - 0s 71us/sample - loss: 75.0819\n",
            "Epoch 154/200\n",
            "162/162 [==============================] - 0s 73us/sample - loss: 74.8757\n",
            "Epoch 155/200\n",
            "162/162 [==============================] - 0s 60us/sample - loss: 74.7247\n",
            "Epoch 156/200\n",
            "162/162 [==============================] - 0s 61us/sample - loss: 74.4889\n",
            "Epoch 157/200\n",
            "162/162 [==============================] - 0s 62us/sample - loss: 74.5521\n",
            "Epoch 158/200\n",
            "162/162 [==============================] - 0s 76us/sample - loss: 74.1949\n",
            "Epoch 159/200\n",
            "162/162 [==============================] - 0s 75us/sample - loss: 74.1200\n",
            "Epoch 160/200\n",
            "162/162 [==============================] - 0s 69us/sample - loss: 73.8790\n",
            "Epoch 161/200\n",
            "162/162 [==============================] - 0s 67us/sample - loss: 73.6654\n",
            "Epoch 162/200\n",
            "162/162 [==============================] - 0s 69us/sample - loss: 73.5615\n",
            "Epoch 163/200\n",
            "162/162 [==============================] - 0s 79us/sample - loss: 73.4173\n",
            "Epoch 164/200\n",
            "162/162 [==============================] - 0s 62us/sample - loss: 73.2695\n",
            "Epoch 165/200\n",
            "162/162 [==============================] - 0s 64us/sample - loss: 72.9694\n",
            "Epoch 166/200\n",
            "162/162 [==============================] - 0s 69us/sample - loss: 72.8052\n",
            "Epoch 167/200\n",
            "162/162 [==============================] - 0s 68us/sample - loss: 72.6493\n",
            "Epoch 168/200\n",
            "162/162 [==============================] - 0s 73us/sample - loss: 72.5048\n",
            "Epoch 169/200\n",
            "162/162 [==============================] - 0s 67us/sample - loss: 72.3543\n",
            "Epoch 170/200\n",
            "162/162 [==============================] - 0s 66us/sample - loss: 72.4515\n",
            "Epoch 171/200\n",
            "162/162 [==============================] - 0s 69us/sample - loss: 72.3600\n",
            "Epoch 172/200\n",
            "162/162 [==============================] - 0s 63us/sample - loss: 72.4158\n",
            "Epoch 173/200\n",
            "162/162 [==============================] - 0s 76us/sample - loss: 72.1291\n",
            "Epoch 174/200\n",
            "162/162 [==============================] - 0s 77us/sample - loss: 71.6469\n",
            "Epoch 175/200\n",
            "162/162 [==============================] - 0s 68us/sample - loss: 71.2632\n",
            "Epoch 176/200\n",
            "162/162 [==============================] - 0s 63us/sample - loss: 71.2115\n",
            "Epoch 177/200\n",
            "162/162 [==============================] - 0s 68us/sample - loss: 70.9243\n",
            "Epoch 178/200\n",
            "162/162 [==============================] - 0s 66us/sample - loss: 70.9534\n",
            "Epoch 179/200\n",
            "162/162 [==============================] - 0s 69us/sample - loss: 70.8596\n",
            "Epoch 180/200\n",
            "162/162 [==============================] - 0s 61us/sample - loss: 70.7525\n",
            "Epoch 181/200\n",
            "162/162 [==============================] - 0s 76us/sample - loss: 70.3671\n",
            "Epoch 182/200\n",
            "162/162 [==============================] - 0s 56us/sample - loss: 70.2067\n",
            "Epoch 183/200\n",
            "162/162 [==============================] - 0s 71us/sample - loss: 69.9367\n",
            "Epoch 184/200\n",
            "162/162 [==============================] - 0s 71us/sample - loss: 69.7513\n",
            "Epoch 185/200\n",
            "162/162 [==============================] - 0s 58us/sample - loss: 69.6462\n",
            "Epoch 186/200\n",
            "162/162 [==============================] - 0s 76us/sample - loss: 69.3790\n",
            "Epoch 187/200\n",
            "162/162 [==============================] - 0s 52us/sample - loss: 69.2320\n",
            "Epoch 188/200\n",
            "162/162 [==============================] - 0s 89us/sample - loss: 69.1536\n",
            "Epoch 189/200\n",
            "162/162 [==============================] - 0s 66us/sample - loss: 68.9247\n",
            "Epoch 190/200\n",
            "162/162 [==============================] - 0s 59us/sample - loss: 68.7798\n",
            "Epoch 191/200\n",
            "162/162 [==============================] - 0s 70us/sample - loss: 68.6320\n",
            "Epoch 192/200\n",
            "162/162 [==============================] - 0s 79us/sample - loss: 68.4438\n",
            "Epoch 193/200\n",
            "162/162 [==============================] - 0s 71us/sample - loss: 68.2435\n",
            "Epoch 194/200\n",
            "162/162 [==============================] - 0s 84us/sample - loss: 68.1557\n",
            "Epoch 195/200\n",
            "162/162 [==============================] - 0s 72us/sample - loss: 67.9802\n",
            "Epoch 196/200\n",
            "162/162 [==============================] - 0s 67us/sample - loss: 67.8968\n",
            "Epoch 197/200\n",
            "162/162 [==============================] - 0s 65us/sample - loss: 67.7127\n",
            "Epoch 198/200\n",
            "162/162 [==============================] - 0s 67us/sample - loss: 67.5048\n",
            "Epoch 199/200\n",
            "162/162 [==============================] - 0s 66us/sample - loss: 67.3216\n",
            "Epoch 200/200\n",
            "162/162 [==============================] - 0s 63us/sample - loss: 67.1788\n"
          ],
          "name": "stdout"
        }
      ]
    },
    {
      "cell_type": "code",
      "metadata": {
        "id": "YWTpCHvry2Ou",
        "colab_type": "code",
        "colab": {
          "base_uri": "https://localhost:8080/",
          "height": 282
        },
        "outputId": "3c9901ba-14c9-4291-bd5f-d0ed20937483"
      },
      "source": [
        "plt.plot(r.history['loss'], label='loss')"
      ],
      "execution_count": 27,
      "outputs": [
        {
          "output_type": "execute_result",
          "data": {
            "text/plain": [
              "[<matplotlib.lines.Line2D at 0x7f678f8e3160>]"
            ]
          },
          "metadata": {
            "tags": []
          },
          "execution_count": 27
        },
        {
          "output_type": "display_data",
          "data": {
            "image/png": "[encoded data removed]",
            "text/plain": [
              "<Figure size 432x288 with 1 Axes>"
            ]
          },
          "metadata": {
            "tags": []
          }
        }
      ]
    },
    {
      "cell_type": "code",
      "metadata": {
        "id": "zjFM6oCp532l",
        "colab_type": "code",
        "colab": {
          "base_uri": "https://localhost:8080/",
          "height": 50
        },
        "outputId": "a28f5171-0795-4750-ebe6-780f46368991"
      },
      "source": [
        "#Get the slope of the line\n",
        "print(model.layers) #Input layers is not counted\n",
        "print(model.layers[0].get_weights())\n"
      ],
      "execution_count": 28,
      "outputs": [
        {
          "output_type": "stream",
          "text": [
            "[<tensorflow.python.keras.layers.core.Dense object at 0x7f6799207c50>]\n",
            "[array([[0.36448124]], dtype=float32), array([9.632215], dtype=float32)]\n"
          ],
          "name": "stdout"
        }
      ]
    },
    {
      "cell_type": "code",
      "metadata": {
        "id": "qgegKthg6ZXT",
        "colab_type": "code",
        "colab": {}
      },
      "source": [
        "#The slope of the line is:\n",
        "a = model.layers[0].get_weights()[0][0,0]"
      ],
      "execution_count": 0,
      "outputs": []
    },
    {
      "cell_type": "code",
      "metadata": {
        "id": "7_Cz3Hv76wv3",
        "colab_type": "code",
        "colab": {
          "base_uri": "https://localhost:8080/",
          "height": 34
        },
        "outputId": "c64a09be-3653-486d-aee5-993af7f325d3"
      },
      "source": [
        "a"
      ],
      "execution_count": 30,
      "outputs": [
        {
          "output_type": "execute_result",
          "data": {
            "text/plain": [
              "0.36448124"
            ]
          },
          "metadata": {
            "tags": []
          },
          "execution_count": 30
        }
      ]
    },
    {
      "cell_type": "code",
      "metadata": {
        "id": "z2ARn96D61zd",
        "colab_type": "code",
        "colab": {}
      },
      "source": [
        ""
      ],
      "execution_count": 0,
      "outputs": []
    }
  ]
}