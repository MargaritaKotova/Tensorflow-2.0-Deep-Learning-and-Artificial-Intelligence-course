{
  "nbformat": 4,
  "nbformat_minor": 0,
  "metadata": {
    "colab": {
      "name": "CNN for CIFAR.ipynb",
      "provenance": [],
      "collapsed_sections": [],
      "authorship_tag": "ABX9TyN0VJj+DypgSaNuQzTQEOWu",
      "include_colab_link": true
    },
    "kernelspec": {
      "name": "python3",
      "display_name": "Python 3"
    },
    "accelerator": "GPU"
  },
  "cells": [
    {
      "cell_type": "markdown",
      "metadata": {
        "id": "view-in-github",
        "colab_type": "text"
      },
      "source": [
        "<a href=\"https://colab.research.google.com/github/MargaritaKotova/Tensorflow-2.0-Deep-Learning-and-Artificial-Intelligence-course/blob/master/CNN_for_CIFAR_improved.ipynb\" target=\"_parent\"><img src=\"https://colab.research.google.com/assets/colab-badge.svg\" alt=\"Open In Colab\"/></a>"
      ]
    },
    {
      "cell_type": "code",
      "metadata": {
        "id": "vTRleGJebc6s",
        "colab_type": "code",
        "outputId": "25679a5d-0677-462d-df40-18746748af7b",
        "colab": {
          "base_uri": "https://localhost:8080/",
          "height": 34
        }
      },
      "source": [
        "# !pip install \"tensorflow>=2.0.0\"\n",
        " import tensorflow as tf\n",
        "print(tf.__version__)"
      ],
      "execution_count": 7,
      "outputs": [
        {
          "output_type": "stream",
          "text": [
            "2.2.0-rc2\n"
          ],
          "name": "stdout"
        }
      ]
    },
    {
      "cell_type": "code",
      "metadata": {
        "id": "fMqKM2TjbkcA",
        "colab_type": "code",
        "colab": {}
      },
      "source": [
        "import numpy as np\n",
        "import matplotlib.pyplot as plt\n",
        "from tensorflow.keras.layers import Input, Conv2D, Dense, Flatten, Dropout, GlobalMaxPooling2D, BatchNormalization, MaxPooling2D\n",
        "from tensorflow.keras.models import Model"
      ],
      "execution_count": 0,
      "outputs": []
    },
    {
      "cell_type": "code",
      "metadata": {
        "id": "R2n8cgWXby_2",
        "colab_type": "code",
        "outputId": "fe093994-6db1-483d-a958-848e3e42e855",
        "colab": {
          "base_uri": "https://localhost:8080/",
          "height": 50
        }
      },
      "source": [
        "#Load in the data\n",
        "cifar10 = tf.keras.datasets.cifar10\n",
        "\n",
        "(x_train, y_train), (x_test, y_test) = cifar10.load_data()\n",
        "x_train, x_test = x_train/255.0, x_test/255.0"
      ],
      "execution_count": 9,
      "outputs": [
        {
          "output_type": "stream",
          "text": [
            "Downloading data from https://www.cs.toronto.edu/~kriz/cifar-10-python.tar.gz\n",
            "170500096/170498071 [==============================] - 13s 0us/step\n"
          ],
          "name": "stdout"
        }
      ]
    },
    {
      "cell_type": "code",
      "metadata": {
        "id": "uj8YKmOac0-P",
        "colab_type": "code",
        "outputId": "5af0b38d-002d-4851-eac8-6a55c517ce08",
        "colab": {
          "base_uri": "https://localhost:8080/",
          "height": 50
        }
      },
      "source": [
        "y_train, y_test = y_train.flatten(), y_test.flatten()\n",
        "print(\"x_train.shape: \", x_train.shape)\n",
        "print(\"y_train.shape: \", y_train.shape)"
      ],
      "execution_count": 10,
      "outputs": [
        {
          "output_type": "stream",
          "text": [
            "x_train.shape:  (50000, 32, 32, 3)\n",
            "y_train.shape:  (50000,)\n"
          ],
          "name": "stdout"
        }
      ]
    },
    {
      "cell_type": "code",
      "metadata": {
        "id": "ngKFpXvXdVaH",
        "colab_type": "code",
        "outputId": "a334d9e2-f66b-4e00-9436-8e7ee0f810a2",
        "colab": {
          "base_uri": "https://localhost:8080/",
          "height": 34
        }
      },
      "source": [
        "K = len(set(y_train))\n",
        "print(\"number of classes: \", K)\n"
      ],
      "execution_count": 11,
      "outputs": [
        {
          "output_type": "stream",
          "text": [
            "number of classes:  10\n"
          ],
          "name": "stdout"
        }
      ]
    },
    {
      "cell_type": "code",
      "metadata": {
        "id": "zoikr9mpYkVY",
        "colab_type": "code",
        "colab": {}
      },
      "source": [
        "#Build the model\n",
        "i = Input(shape = x_train[0].shape) #(32, 32, 3)\n",
        "#x = Conv2D(32,(3,3), strides=2, activation='relu')(i)\n",
        "#x = Conv2D(64,(3,3), strides=2, activation='relu')(x)\n",
        "#x = Conv2D(128,(3,3), strides=2, activation='relu')(x)\n",
        "\n",
        "x = Conv2D(32,(3,3), activation='relu', padding='same')(i) #without strides, instead MaxPooling2D layer\n",
        "x = BatchNormalization()(x)\n",
        "x = Conv2D(32,(3,3), activation='relu', padding='same')(x)\n",
        "x = BatchNormalization()(x)\n",
        "x = MaxPooling2D((2,2))(x)\n",
        "# x = Dropout(0.2)(x)\n",
        "x = Conv2D(64,(3,3), activation='relu', padding='same')(i) \n",
        "x = BatchNormalization()(x)\n",
        "x = Conv2D(64,(3,3), activation='relu', padding='same')(x)\n",
        "x = BatchNormalization()(x)\n",
        "x = MaxPooling2D((2,2))(x)\n",
        "# x = Dropout(0.2)(x)\n",
        "x = Conv2D(128,(3,3), activation='relu', padding='same')(i) \n",
        "x = BatchNormalization()(x)\n",
        "x = Conv2D(128,(3,3), activation='relu', padding='same')(x)\n",
        "x = BatchNormalization()(x)\n",
        "x = MaxPooling2D((2,2))(x)\n",
        "# x = Dropout(0.2)(x)\n",
        "x = GlobalMaxPooling2D()(x) #used instead of Flatten()\n",
        "#x = Flatten()(x)\n",
        "x = Dropout(0.2)(x)\n",
        "x = Dense(1024, activation='relu')(x)\n",
        "x = Dropout(0.2)(x)\n",
        "x = Dense(K, activation='softmax')(x)\n",
        "\n",
        "model = Model(i,x)\n"
      ],
      "execution_count": 0,
      "outputs": []
    },
    {
      "cell_type": "code",
      "metadata": {
        "id": "I4QPHdqtRr5Q",
        "colab_type": "code",
        "colab": {}
      },
      "source": [
        "#Compile and fit\n",
        "model.compile(optimizer='adam', loss = 'sparse_categorical_crossentropy', metrics=['accuracy'])"
      ],
      "execution_count": 0,
      "outputs": []
    },
    {
      "cell_type": "code",
      "metadata": {
        "id": "pr-K2L-Maewk",
        "colab_type": "code",
        "outputId": "db9b3bd9-e2ac-402e-8efe-6e889bb43707",
        "colab": {
          "base_uri": "https://localhost:8080/",
          "height": 1000
        }
      },
      "source": [
        "r = model.fit(x_train, y_train, validation_data=(x_test, y_test), epochs=50)"
      ],
      "execution_count": 14,
      "outputs": [
        {
          "output_type": "stream",
          "text": [
            "Epoch 1/50\n",
            "1563/1563 [==============================] - 15s 9ms/step - loss: 1.8693 - accuracy: 0.3144 - val_loss: 1.6188 - val_accuracy: 0.4058\n",
            "Epoch 2/50\n",
            "1563/1563 [==============================] - 14s 9ms/step - loss: 1.5992 - accuracy: 0.4162 - val_loss: 1.4859 - val_accuracy: 0.4607\n",
            "Epoch 3/50\n",
            "1563/1563 [==============================] - 14s 9ms/step - loss: 1.5057 - accuracy: 0.4539 - val_loss: 1.4241 - val_accuracy: 0.4811\n",
            "Epoch 4/50\n",
            "1563/1563 [==============================] - 14s 9ms/step - loss: 1.4388 - accuracy: 0.4782 - val_loss: 1.2823 - val_accuracy: 0.5493\n",
            "Epoch 5/50\n",
            "1563/1563 [==============================] - 15s 9ms/step - loss: 1.3769 - accuracy: 0.5048 - val_loss: 1.3290 - val_accuracy: 0.5326\n",
            "Epoch 6/50\n",
            "1563/1563 [==============================] - 14s 9ms/step - loss: 1.3311 - accuracy: 0.5213 - val_loss: 1.2179 - val_accuracy: 0.5593\n",
            "Epoch 7/50\n",
            "1563/1563 [==============================] - 15s 9ms/step - loss: 1.2890 - accuracy: 0.5370 - val_loss: 1.2121 - val_accuracy: 0.5688\n",
            "Epoch 8/50\n",
            "1563/1563 [==============================] - 14s 9ms/step - loss: 1.2521 - accuracy: 0.5497 - val_loss: 1.2355 - val_accuracy: 0.5464\n",
            "Epoch 9/50\n",
            "1563/1563 [==============================] - 14s 9ms/step - loss: 1.2285 - accuracy: 0.5613 - val_loss: 1.1235 - val_accuracy: 0.5917\n",
            "Epoch 10/50\n",
            "1563/1563 [==============================] - 14s 9ms/step - loss: 1.1961 - accuracy: 0.5709 - val_loss: 1.2104 - val_accuracy: 0.5756\n",
            "Epoch 11/50\n",
            "1563/1563 [==============================] - 15s 9ms/step - loss: 1.1623 - accuracy: 0.5846 - val_loss: 1.1503 - val_accuracy: 0.5923\n",
            "Epoch 12/50\n",
            "1563/1563 [==============================] - 15s 9ms/step - loss: 1.1326 - accuracy: 0.5945 - val_loss: 1.0431 - val_accuracy: 0.6307\n",
            "Epoch 13/50\n",
            "1563/1563 [==============================] - 14s 9ms/step - loss: 1.1057 - accuracy: 0.6094 - val_loss: 1.0790 - val_accuracy: 0.6177\n",
            "Epoch 14/50\n",
            "1563/1563 [==============================] - 14s 9ms/step - loss: 1.0826 - accuracy: 0.6158 - val_loss: 1.2229 - val_accuracy: 0.5660\n",
            "Epoch 15/50\n",
            "1563/1563 [==============================] - 14s 9ms/step - loss: 1.0630 - accuracy: 0.6236 - val_loss: 1.0126 - val_accuracy: 0.6438\n",
            "Epoch 16/50\n",
            "1563/1563 [==============================] - 14s 9ms/step - loss: 1.0343 - accuracy: 0.6327 - val_loss: 1.0688 - val_accuracy: 0.6220\n",
            "Epoch 17/50\n",
            "1563/1563 [==============================] - 15s 9ms/step - loss: 1.0117 - accuracy: 0.6391 - val_loss: 0.9694 - val_accuracy: 0.6568\n",
            "Epoch 18/50\n",
            "1563/1563 [==============================] - 15s 9ms/step - loss: 0.9854 - accuracy: 0.6521 - val_loss: 0.9460 - val_accuracy: 0.6655\n",
            "Epoch 19/50\n",
            "1563/1563 [==============================] - 15s 9ms/step - loss: 0.9506 - accuracy: 0.6601 - val_loss: 1.0623 - val_accuracy: 0.6249\n",
            "Epoch 20/50\n",
            "1563/1563 [==============================] - 15s 9ms/step - loss: 0.9422 - accuracy: 0.6652 - val_loss: 0.9755 - val_accuracy: 0.6482\n",
            "Epoch 21/50\n",
            "1563/1563 [==============================] - 14s 9ms/step - loss: 0.9298 - accuracy: 0.6733 - val_loss: 0.9993 - val_accuracy: 0.6549\n",
            "Epoch 22/50\n",
            "1563/1563 [==============================] - 14s 9ms/step - loss: 0.9126 - accuracy: 0.6770 - val_loss: 1.0025 - val_accuracy: 0.6569\n",
            "Epoch 23/50\n",
            "1563/1563 [==============================] - 15s 9ms/step - loss: 0.8931 - accuracy: 0.6845 - val_loss: 1.0232 - val_accuracy: 0.6491\n",
            "Epoch 24/50\n",
            "1563/1563 [==============================] - 14s 9ms/step - loss: 0.8736 - accuracy: 0.6899 - val_loss: 0.9211 - val_accuracy: 0.6738\n",
            "Epoch 25/50\n",
            "1563/1563 [==============================] - 14s 9ms/step - loss: 0.8609 - accuracy: 0.6942 - val_loss: 0.8927 - val_accuracy: 0.6852\n",
            "Epoch 26/50\n",
            "1563/1563 [==============================] - 14s 9ms/step - loss: 0.8648 - accuracy: 0.6952 - val_loss: 0.8622 - val_accuracy: 0.7019\n",
            "Epoch 27/50\n",
            "1563/1563 [==============================] - 14s 9ms/step - loss: 0.8401 - accuracy: 0.7037 - val_loss: 0.8455 - val_accuracy: 0.7016\n",
            "Epoch 28/50\n",
            "1563/1563 [==============================] - 15s 9ms/step - loss: 0.8322 - accuracy: 0.7051 - val_loss: 0.8607 - val_accuracy: 0.7001\n",
            "Epoch 29/50\n",
            "1563/1563 [==============================] - 14s 9ms/step - loss: 0.8083 - accuracy: 0.7128 - val_loss: 0.8400 - val_accuracy: 0.7065\n",
            "Epoch 30/50\n",
            "1563/1563 [==============================] - 14s 9ms/step - loss: 0.7967 - accuracy: 0.7171 - val_loss: 0.8967 - val_accuracy: 0.6902\n",
            "Epoch 31/50\n",
            "1563/1563 [==============================] - 14s 9ms/step - loss: 0.7885 - accuracy: 0.7210 - val_loss: 0.8382 - val_accuracy: 0.7085\n",
            "Epoch 32/50\n",
            "1563/1563 [==============================] - 15s 9ms/step - loss: 0.7782 - accuracy: 0.7237 - val_loss: 0.8413 - val_accuracy: 0.7097\n",
            "Epoch 33/50\n",
            "1563/1563 [==============================] - 14s 9ms/step - loss: 0.7667 - accuracy: 0.7281 - val_loss: 0.8443 - val_accuracy: 0.7043\n",
            "Epoch 34/50\n",
            "1563/1563 [==============================] - 15s 9ms/step - loss: 0.7865 - accuracy: 0.7278 - val_loss: 0.9521 - val_accuracy: 0.7169\n",
            "Epoch 35/50\n",
            "1563/1563 [==============================] - 15s 9ms/step - loss: 0.7621 - accuracy: 0.7338 - val_loss: 0.8123 - val_accuracy: 0.7166\n",
            "Epoch 36/50\n",
            "1563/1563 [==============================] - 15s 9ms/step - loss: 0.7374 - accuracy: 0.7384 - val_loss: 0.8244 - val_accuracy: 0.7129\n",
            "Epoch 37/50\n",
            "1563/1563 [==============================] - 14s 9ms/step - loss: 0.7526 - accuracy: 0.7371 - val_loss: 0.8231 - val_accuracy: 0.7148\n",
            "Epoch 38/50\n",
            "1563/1563 [==============================] - 14s 9ms/step - loss: 0.7147 - accuracy: 0.7472 - val_loss: 0.8421 - val_accuracy: 0.7041\n",
            "Epoch 39/50\n",
            "1563/1563 [==============================] - 14s 9ms/step - loss: 0.7155 - accuracy: 0.7468 - val_loss: 0.8287 - val_accuracy: 0.7105\n",
            "Epoch 40/50\n",
            "1563/1563 [==============================] - 15s 9ms/step - loss: 0.7095 - accuracy: 0.7475 - val_loss: 0.8146 - val_accuracy: 0.7171\n",
            "Epoch 41/50\n",
            "1563/1563 [==============================] - 15s 9ms/step - loss: 0.7029 - accuracy: 0.7500 - val_loss: 0.8238 - val_accuracy: 0.7132\n",
            "Epoch 42/50\n",
            "1563/1563 [==============================] - 15s 9ms/step - loss: 0.6881 - accuracy: 0.7576 - val_loss: 0.8175 - val_accuracy: 0.7166\n",
            "Epoch 43/50\n",
            "1563/1563 [==============================] - 14s 9ms/step - loss: 0.6781 - accuracy: 0.7606 - val_loss: 0.8110 - val_accuracy: 0.7141\n",
            "Epoch 44/50\n",
            "1563/1563 [==============================] - 15s 9ms/step - loss: 0.6729 - accuracy: 0.7605 - val_loss: 0.8281 - val_accuracy: 0.7130\n",
            "Epoch 45/50\n",
            "1563/1563 [==============================] - 15s 9ms/step - loss: 0.7016 - accuracy: 0.7616 - val_loss: 0.8848 - val_accuracy: 0.6908\n",
            "Epoch 46/50\n",
            "1563/1563 [==============================] - 15s 9ms/step - loss: 0.6641 - accuracy: 0.7635 - val_loss: 0.7967 - val_accuracy: 0.7271\n",
            "Epoch 47/50\n",
            "1563/1563 [==============================] - 14s 9ms/step - loss: 0.6515 - accuracy: 0.7700 - val_loss: 0.9806 - val_accuracy: 0.6700\n",
            "Epoch 48/50\n",
            "1563/1563 [==============================] - 14s 9ms/step - loss: 0.6426 - accuracy: 0.7708 - val_loss: 0.8437 - val_accuracy: 0.7190\n",
            "Epoch 49/50\n",
            "1563/1563 [==============================] - 15s 9ms/step - loss: 0.6405 - accuracy: 0.7725 - val_loss: 0.8328 - val_accuracy: 0.7207\n",
            "Epoch 50/50\n",
            "1563/1563 [==============================] - 15s 9ms/step - loss: 0.6275 - accuracy: 0.7766 - val_loss: 0.9643 - val_accuracy: 0.6804\n"
          ],
          "name": "stdout"
        }
      ]
    },
    {
      "cell_type": "code",
      "metadata": {
        "id": "5cJOqNVOBaC_",
        "colab_type": "code",
        "colab": {}
      },
      "source": [
        "# Fit with data augmentation\n",
        "# if you run this code AFTER calling the previous model.fit(), it will CONTINUE training where it left off\n",
        "#batch_size = 32\n",
        "#data_generator = tf.keras.preprocessing.image.ImageDataGenerator(width_shift_range=0.1, height_shift_range = 0.1, horizontal_flip = True)\n",
        "#train_generator = data_generator.flow(x_train, y_train, batch_size)\n",
        "#steps_per_epoch = x_train.shape[0] // batch_size\n",
        "#r = model.fit_generator(train_generator, validation_data = (x_test, y_test) , steps_per_epoch= steps_per_epoch, epochs=50)"
      ],
      "execution_count": 0,
      "outputs": []
    },
    {
      "cell_type": "code",
      "metadata": {
        "id": "ia35VF7pbxI7",
        "colab_type": "code",
        "outputId": "f91b4865-45c2-4de0-9534-d072ebf46a8b",
        "colab": {
          "base_uri": "https://localhost:8080/",
          "height": 282
        }
      },
      "source": [
        "import matplotlib.pyplot as plt\n",
        "plt.plot(r.history['loss'], label='loss')\n",
        "plt.plot(r.history['val_loss'], label='val_loss')\n",
        "plt.legend()"
      ],
      "execution_count": 16,
      "outputs": [
        {
          "output_type": "execute_result",
          "data": {
            "text/plain": [
              "<matplotlib.legend.Legend at 0x7f84f2238668>"
            ]
          },
          "metadata": {
            "tags": []
          },
          "execution_count": 16
        },
        {
          "output_type": "display_data",
          "data": {
            "image/png": "[encoded data removed]",
            "text/plain": [
              "<Figure size 432x288 with 1 Axes>"
            ]
          },
          "metadata": {
            "tags": []
          }
        }
      ]
    },
    {
      "cell_type": "code",
      "metadata": {
        "id": "rAO_dPdcbyBr",
        "colab_type": "code",
        "outputId": "0cd36b92-13c7-49b7-c7f2-41eaaf49faeb",
        "colab": {
          "base_uri": "https://localhost:8080/",
          "height": 282
        }
      },
      "source": [
        "plt.plot(r.history['accuracy'], label='acc')\n",
        "plt.plot(r.history['val_accuracy'], label='val_acc')\n",
        "plt.legend()"
      ],
      "execution_count": 17,
      "outputs": [
        {
          "output_type": "execute_result",
          "data": {
            "text/plain": [
              "<matplotlib.legend.Legend at 0x7f84f2199f98>"
            ]
          },
          "metadata": {
            "tags": []
          },
          "execution_count": 17
        },
        {
          "output_type": "display_data",
          "data": {
            "image/png": "[encoded data removed]",
            "text/plain": [
              "<Figure size 432x288 with 1 Axes>"
            ]
          },
          "metadata": {
            "tags": []
          }
        }
      ]
    },
    {
      "cell_type": "code",
      "metadata": {
        "id": "mFSIjHgEb1iS",
        "colab_type": "code",
        "outputId": "b4035c22-d418-4930-97da-4b9ce2794192",
        "colab": {
          "base_uri": "https://localhost:8080/",
          "height": 496
        }
      },
      "source": [
        "from sklearn.metrics import confusion_matrix\n",
        "import itertools\n",
        "\n",
        "def plot_confusion_matrix(cm, classes, normalize=False, title='Confusion matrix', cmap = plt.cm.Blues):\n",
        "\n",
        "  if normalize:\n",
        "    cm = cm.astype('float') / cm.sum(axis=1)[:, np.newaxis]\n",
        "    print(\"Normalized confusion matrix\")\n",
        "  else:\n",
        "    print(\"Confusion matrix without  normalization\")\n",
        "\n",
        "  print(cm)\n",
        "\n",
        "  plt.imshow(cm, interpolation='nearest', cmap=cmap)\n",
        "  plt.title(title)\n",
        "  plt.colorbar()\n",
        "  tick_marks = np.arange(len(classes))\n",
        "  plt.xticks(tick_marks, classes, rotation=45)\n",
        "  plt.yticks(tick_marks, classes)\n",
        "\n",
        "  fmt = '.2f' if normalize else 'd'\n",
        "  thresh = cm.max() / 2.\n",
        "  for i, j in itertools.product(range(cm.shape[0]), range(cm.shape[1])):\n",
        "    plt.text(j, i, format(cm[i, j], fmt),\n",
        "        horizontalalignment=\"center\",\n",
        "        color = \"white\" if cm[i, j] > thresh else \"black\")\n",
        "\n",
        "  plt.tight_layout()\n",
        "  plt.ylabel('True label')\n",
        "  plt.xlabel('Predicted label')\n",
        "  plt.show()\n",
        "\n",
        "p_test = model.predict(x_test).argmax(axis=1)\n",
        "cm = confusion_matrix(y_test, p_test)\n",
        "plot_confusion_matrix(cm, list(range(10)))"
      ],
      "execution_count": 18,
      "outputs": [
        {
          "output_type": "stream",
          "text": [
            "Confusion matrix without  normalization\n",
            "[[791   7  54   8  12   1  24   2  92   9]\n",
            " [ 46 770  10  11   0   1  14   2  63  83]\n",
            " [ 61   4 695  28  55   5 123   9  20   0]\n",
            " [ 46   6 145 449  60  52 194  13  25  10]\n",
            " [ 25   2 124  31 639   8 145  15  10   1]\n",
            " [ 24   5 113 202  78 429 111  18  19   1]\n",
            " [ 12   2  45  19  24   0 891   1   6   0]\n",
            " [ 38   3  85  48 152  38  39 579  12   6]\n",
            " [106  13  18   6   1   0   2   0 842  12]\n",
            " [ 59  80  10  10   2   2  15  10  93 719]]\n"
          ],
          "name": "stdout"
        },
        {
          "output_type": "display_data",
          "data": {
            "image/png": "[encoded data removed]",
            "text/plain": [
              "<Figure size 432x288 with 2 Axes>"
            ]
          },
          "metadata": {
            "tags": []
          }
        }
      ]
    },
    {
      "cell_type": "code",
      "metadata": {
        "id": "XqQcdQVYcOSs",
        "colab_type": "code",
        "colab": {}
      },
      "source": [
        "labels = '''airplane\n",
        "automobile\n",
        "bird \n",
        "cat\n",
        "deer\n",
        "dog \n",
        "frog\n",
        "horse\n",
        "ship\n",
        "truck'''.split()"
      ],
      "execution_count": 0,
      "outputs": []
    },
    {
      "cell_type": "code",
      "metadata": {
        "id": "L3N8dNqscvRJ",
        "colab_type": "code",
        "outputId": "80cd0fb5-ae2c-4bc6-c9e2-08d6a6cb61f9",
        "colab": {
          "base_uri": "https://localhost:8080/",
          "height": 298
        }
      },
      "source": [
        "#Show some misclassified examples\n",
        "misclassified_idx = np.where(p_test != y_test)[0]\n",
        "i = np.random.choice(misclassified_idx)\n",
        "plt.imshow(x_test[i], cmap='gray')\n",
        "plt.title(\"True label: %s Predicted: %s\" % (labels[y_test[i]], labels[p_test[i]]))"
      ],
      "execution_count": 20,
      "outputs": [
        {
          "output_type": "execute_result",
          "data": {
            "text/plain": [
              "Text(0.5, 1.0, 'True label: deer Predicted: frog')"
            ]
          },
          "metadata": {
            "tags": []
          },
          "execution_count": 20
        },
        {
          "output_type": "display_data",
          "data": {
            "image/png": "[encoded data removed]",
            "text/plain": [
              "<Figure size 432x288 with 1 Axes>"
            ]
          },
          "metadata": {
            "tags": []
          }
        }
      ]
    },
    {
      "cell_type": "code",
      "metadata": {
        "id": "vZownhYIEZQe",
        "colab_type": "code",
        "outputId": "9d80a486-df42-4174-d35c-64f11bd463d8",
        "colab": {
          "base_uri": "https://localhost:8080/",
          "height": 521
        }
      },
      "source": [
        "model.summary()\n",
        "# 896 = 3*3*3*32 (filter size) + 32 (bias term) = 896"
      ],
      "execution_count": 21,
      "outputs": [
        {
          "output_type": "stream",
          "text": [
            "Model: \"model\"\n",
            "_________________________________________________________________\n",
            "Layer (type)                 Output Shape              Param #   \n",
            "=================================================================\n",
            "input_1 (InputLayer)         [(None, 32, 32, 3)]       0         \n",
            "_________________________________________________________________\n",
            "conv2d_4 (Conv2D)            (None, 32, 32, 128)       3584      \n",
            "_________________________________________________________________\n",
            "batch_normalization_4 (Batch (None, 32, 32, 128)       512       \n",
            "_________________________________________________________________\n",
            "conv2d_5 (Conv2D)            (None, 32, 32, 128)       147584    \n",
            "_________________________________________________________________\n",
            "batch_normalization_5 (Batch (None, 32, 32, 128)       512       \n",
            "_________________________________________________________________\n",
            "max_pooling2d_2 (MaxPooling2 (None, 16, 16, 128)       0         \n",
            "_________________________________________________________________\n",
            "global_max_pooling2d (Global (None, 128)               0         \n",
            "_________________________________________________________________\n",
            "dropout (Dropout)            (None, 128)               0         \n",
            "_________________________________________________________________\n",
            "dense (Dense)                (None, 1024)              132096    \n",
            "_________________________________________________________________\n",
            "dropout_1 (Dropout)          (None, 1024)              0         \n",
            "_________________________________________________________________\n",
            "dense_1 (Dense)              (None, 10)                10250     \n",
            "=================================================================\n",
            "Total params: 294,538\n",
            "Trainable params: 294,026\n",
            "Non-trainable params: 512\n",
            "_________________________________________________________________\n"
          ],
          "name": "stdout"
        }
      ]
    }
  ]
}