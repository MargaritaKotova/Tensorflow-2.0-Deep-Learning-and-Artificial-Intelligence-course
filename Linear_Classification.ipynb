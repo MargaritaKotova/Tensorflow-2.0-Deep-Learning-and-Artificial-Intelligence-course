{
  "nbformat": 4,
  "nbformat_minor": 0,
  "metadata": {
    "colab": {
      "name": "Linear Classification.ipynb",
      "provenance": [],
      "collapsed_sections": [],
      "authorship_tag": "ABX9TyNVCB5TGmEm5DnHvcYF55ZK",
      "include_colab_link": true
    },
    "kernelspec": {
      "name": "python3",
      "display_name": "Python 3"
    }
  },
  "cells": [
    {
      "cell_type": "markdown",
      "metadata": {
        "id": "view-in-github",
        "colab_type": "text"
      },
      "source": [
        "<a href=\"https://colab.research.google.com/github/MargaritaKotova/Tensorflow-2.0-Deep-Learning-and-Artificial-Intelligence-course/blob/master/Linear_Classification.ipynb\" target=\"_parent\"><img src=\"https://colab.research.google.com/assets/colab-badge.svg\" alt=\"Open In Colab\"/></a>"
      ]
    },
    {
      "cell_type": "code",
      "metadata": {
        "id": "IwJSATi47lbc",
        "colab_type": "code",
        "outputId": "8f123734-b9df-46e9-be09-5dcc46ddf777",
        "colab": {
          "base_uri": "https://localhost:8080/",
          "height": 642
        }
      },
      "source": [
        " !pip install \"tensorflow>=2.0.0\"\n",
        " import tensorflow as tf\n",
        "print(tf.__version__)"
      ],
      "execution_count": 21,
      "outputs": [
        {
          "output_type": "stream",
          "text": [
            "Requirement already satisfied: tensorflow>=2.0.0 in /usr/local/lib/python3.6/dist-packages (2.1.0)\n",
            "Requirement already satisfied: keras-applications>=1.0.8 in /usr/local/lib/python3.6/dist-packages (from tensorflow>=2.0.0) (1.0.8)\n",
            "Requirement already satisfied: astor>=0.6.0 in /usr/local/lib/python3.6/dist-packages (from tensorflow>=2.0.0) (0.8.1)\n",
            "Requirement already satisfied: keras-preprocessing>=1.1.0 in /usr/local/lib/python3.6/dist-packages (from tensorflow>=2.0.0) (1.1.0)\n",
            "Requirement already satisfied: opt-einsum>=2.3.2 in /usr/local/lib/python3.6/dist-packages (from tensorflow>=2.0.0) (3.1.0)\n",
            "Requirement already satisfied: grpcio>=1.8.6 in /usr/local/lib/python3.6/dist-packages (from tensorflow>=2.0.0) (1.27.1)\n",
            "Requirement already satisfied: termcolor>=1.1.0 in /usr/local/lib/python3.6/dist-packages (from tensorflow>=2.0.0) (1.1.0)\n",
            "Requirement already satisfied: absl-py>=0.7.0 in /usr/local/lib/python3.6/dist-packages (from tensorflow>=2.0.0) (0.9.0)\n",
            "Requirement already satisfied: numpy<2.0,>=1.16.0 in /usr/local/lib/python3.6/dist-packages (from tensorflow>=2.0.0) (1.17.5)\n",
            "Requirement already satisfied: tensorflow-estimator<2.2.0,>=2.1.0rc0 in /usr/local/lib/python3.6/dist-packages (from tensorflow>=2.0.0) (2.1.0)\n",
            "Requirement already satisfied: six>=1.12.0 in /usr/local/lib/python3.6/dist-packages (from tensorflow>=2.0.0) (1.12.0)\n",
            "Requirement already satisfied: wheel>=0.26; python_version >= \"3\" in /usr/local/lib/python3.6/dist-packages (from tensorflow>=2.0.0) (0.34.2)\n",
            "Requirement already satisfied: scipy==1.4.1; python_version >= \"3\" in /usr/local/lib/python3.6/dist-packages (from tensorflow>=2.0.0) (1.4.1)\n",
            "Requirement already satisfied: wrapt>=1.11.1 in /usr/local/lib/python3.6/dist-packages (from tensorflow>=2.0.0) (1.11.2)\n",
            "Requirement already satisfied: google-pasta>=0.1.6 in /usr/local/lib/python3.6/dist-packages (from tensorflow>=2.0.0) (0.1.8)\n",
            "Requirement already satisfied: protobuf>=3.8.0 in /usr/local/lib/python3.6/dist-packages (from tensorflow>=2.0.0) (3.10.0)\n",
            "Requirement already satisfied: tensorboard<2.2.0,>=2.1.0 in /usr/local/lib/python3.6/dist-packages (from tensorflow>=2.0.0) (2.1.1)\n",
            "Requirement already satisfied: gast==0.2.2 in /usr/local/lib/python3.6/dist-packages (from tensorflow>=2.0.0) (0.2.2)\n",
            "Requirement already satisfied: h5py in /usr/local/lib/python3.6/dist-packages (from keras-applications>=1.0.8->tensorflow>=2.0.0) (2.8.0)\n",
            "Requirement already satisfied: setuptools in /usr/local/lib/python3.6/dist-packages (from protobuf>=3.8.0->tensorflow>=2.0.0) (45.2.0)\n",
            "Requirement already satisfied: werkzeug>=0.11.15 in /usr/local/lib/python3.6/dist-packages (from tensorboard<2.2.0,>=2.1.0->tensorflow>=2.0.0) (1.0.0)\n",
            "Requirement already satisfied: google-auth-oauthlib<0.5,>=0.4.1 in /usr/local/lib/python3.6/dist-packages (from tensorboard<2.2.0,>=2.1.0->tensorflow>=2.0.0) (0.4.1)\n",
            "Requirement already satisfied: google-auth<2,>=1.6.3 in /usr/local/lib/python3.6/dist-packages (from tensorboard<2.2.0,>=2.1.0->tensorflow>=2.0.0) (1.7.2)\n",
            "Requirement already satisfied: requests<3,>=2.21.0 in /usr/local/lib/python3.6/dist-packages (from tensorboard<2.2.0,>=2.1.0->tensorflow>=2.0.0) (2.21.0)\n",
            "Requirement already satisfied: markdown>=2.6.8 in /usr/local/lib/python3.6/dist-packages (from tensorboard<2.2.0,>=2.1.0->tensorflow>=2.0.0) (3.2.1)\n",
            "Requirement already satisfied: requests-oauthlib>=0.7.0 in /usr/local/lib/python3.6/dist-packages (from google-auth-oauthlib<0.5,>=0.4.1->tensorboard<2.2.0,>=2.1.0->tensorflow>=2.0.0) (1.3.0)\n",
            "Requirement already satisfied: pyasn1-modules>=0.2.1 in /usr/local/lib/python3.6/dist-packages (from google-auth<2,>=1.6.3->tensorboard<2.2.0,>=2.1.0->tensorflow>=2.0.0) (0.2.8)\n",
            "Requirement already satisfied: cachetools<3.2,>=2.0.0 in /usr/local/lib/python3.6/dist-packages (from google-auth<2,>=1.6.3->tensorboard<2.2.0,>=2.1.0->tensorflow>=2.0.0) (3.1.1)\n",
            "Requirement already satisfied: rsa<4.1,>=3.1.4 in /usr/local/lib/python3.6/dist-packages (from google-auth<2,>=1.6.3->tensorboard<2.2.0,>=2.1.0->tensorflow>=2.0.0) (4.0)\n",
            "Requirement already satisfied: certifi>=2017.4.17 in /usr/local/lib/python3.6/dist-packages (from requests<3,>=2.21.0->tensorboard<2.2.0,>=2.1.0->tensorflow>=2.0.0) (2019.11.28)\n",
            "Requirement already satisfied: urllib3<1.25,>=1.21.1 in /usr/local/lib/python3.6/dist-packages (from requests<3,>=2.21.0->tensorboard<2.2.0,>=2.1.0->tensorflow>=2.0.0) (1.24.3)\n",
            "Requirement already satisfied: idna<2.9,>=2.5 in /usr/local/lib/python3.6/dist-packages (from requests<3,>=2.21.0->tensorboard<2.2.0,>=2.1.0->tensorflow>=2.0.0) (2.8)\n",
            "Requirement already satisfied: chardet<3.1.0,>=3.0.2 in /usr/local/lib/python3.6/dist-packages (from requests<3,>=2.21.0->tensorboard<2.2.0,>=2.1.0->tensorflow>=2.0.0) (3.0.4)\n",
            "Requirement already satisfied: oauthlib>=3.0.0 in /usr/local/lib/python3.6/dist-packages (from requests-oauthlib>=0.7.0->google-auth-oauthlib<0.5,>=0.4.1->tensorboard<2.2.0,>=2.1.0->tensorflow>=2.0.0) (3.1.0)\n",
            "Requirement already satisfied: pyasn1<0.5.0,>=0.4.6 in /usr/local/lib/python3.6/dist-packages (from pyasn1-modules>=0.2.1->google-auth<2,>=1.6.3->tensorboard<2.2.0,>=2.1.0->tensorflow>=2.0.0) (0.4.8)\n",
            "2.1.0\n"
          ],
          "name": "stdout"
        }
      ]
    },
    {
      "cell_type": "code",
      "metadata": {
        "id": "dPuOF5-n7zZq",
        "colab_type": "code",
        "colab": {}
      },
      "source": [
        "from sklearn.datasets import load_breast_cancer "
      ],
      "execution_count": 0,
      "outputs": []
    },
    {
      "cell_type": "code",
      "metadata": {
        "id": "ZlGOSeJw8Atd",
        "colab_type": "code",
        "colab": {}
      },
      "source": [
        "data = load_breast_cancer()"
      ],
      "execution_count": 0,
      "outputs": []
    },
    {
      "cell_type": "code",
      "metadata": {
        "id": "haytqWlw8Jrk",
        "colab_type": "code",
        "colab": {
          "base_uri": "https://localhost:8080/",
          "height": 34
        },
        "outputId": "43156351-d42d-436d-99d0-f5eda1c81ca9"
      },
      "source": [
        "type(data)"
      ],
      "execution_count": 24,
      "outputs": [
        {
          "output_type": "execute_result",
          "data": {
            "text/plain": [
              "sklearn.utils.Bunch"
            ]
          },
          "metadata": {
            "tags": []
          },
          "execution_count": 24
        }
      ]
    },
    {
      "cell_type": "code",
      "metadata": {
        "id": "ZOzbz1VJ8MMd",
        "colab_type": "code",
        "outputId": "00917749-5eda-4b55-e3ee-6a433ffa8f73",
        "colab": {
          "base_uri": "https://localhost:8080/",
          "height": 34
        }
      },
      "source": [
        "data.keys()"
      ],
      "execution_count": 25,
      "outputs": [
        {
          "output_type": "execute_result",
          "data": {
            "text/plain": [
              "dict_keys(['data', 'target', 'target_names', 'DESCR', 'feature_names', 'filename'])"
            ]
          },
          "metadata": {
            "tags": []
          },
          "execution_count": 25
        }
      ]
    },
    {
      "cell_type": "code",
      "metadata": {
        "id": "SdORdohD8Ra7",
        "colab_type": "code",
        "outputId": "8c52df53-6910-44f5-f9e8-fb5d8b48d067",
        "colab": {
          "base_uri": "https://localhost:8080/",
          "height": 34
        }
      },
      "source": [
        "data.data.shape"
      ],
      "execution_count": 26,
      "outputs": [
        {
          "output_type": "execute_result",
          "data": {
            "text/plain": [
              "(569, 30)"
            ]
          },
          "metadata": {
            "tags": []
          },
          "execution_count": 26
        }
      ]
    },
    {
      "cell_type": "code",
      "metadata": {
        "id": "BMOnADPw8e3f",
        "colab_type": "code",
        "outputId": "f881b23a-4587-4a97-acc2-3156dd7a612a",
        "colab": {
          "base_uri": "https://localhost:8080/",
          "height": 454
        }
      },
      "source": [
        "data.target"
      ],
      "execution_count": 27,
      "outputs": [
        {
          "output_type": "execute_result",
          "data": {
            "text/plain": [
              "array([0, 0, 0, 0, 0, 0, 0, 0, 0, 0, 0, 0, 0, 0, 0, 0, 0, 0, 0, 1, 1, 1,\n",
              "       0, 0, 0, 0, 0, 0, 0, 0, 0, 0, 0, 0, 0, 0, 0, 1, 0, 0, 0, 0, 0, 0,\n",
              "       0, 0, 1, 0, 1, 1, 1, 1, 1, 0, 0, 1, 0, 0, 1, 1, 1, 1, 0, 1, 0, 0,\n",
              "       1, 1, 1, 1, 0, 1, 0, 0, 1, 0, 1, 0, 0, 1, 1, 1, 0, 0, 1, 0, 0, 0,\n",
              "       1, 1, 1, 0, 1, 1, 0, 0, 1, 1, 1, 0, 0, 1, 1, 1, 1, 0, 1, 1, 0, 1,\n",
              "       1, 1, 1, 1, 1, 1, 1, 0, 0, 0, 1, 0, 0, 1, 1, 1, 0, 0, 1, 0, 1, 0,\n",
              "       0, 1, 0, 0, 1, 1, 0, 1, 1, 0, 1, 1, 1, 1, 0, 1, 1, 1, 1, 1, 1, 1,\n",
              "       1, 1, 0, 1, 1, 1, 1, 0, 0, 1, 0, 1, 1, 0, 0, 1, 1, 0, 0, 1, 1, 1,\n",
              "       1, 0, 1, 1, 0, 0, 0, 1, 0, 1, 0, 1, 1, 1, 0, 1, 1, 0, 0, 1, 0, 0,\n",
              "       0, 0, 1, 0, 0, 0, 1, 0, 1, 0, 1, 1, 0, 1, 0, 0, 0, 0, 1, 1, 0, 0,\n",
              "       1, 1, 1, 0, 1, 1, 1, 1, 1, 0, 0, 1, 1, 0, 1, 1, 0, 0, 1, 0, 1, 1,\n",
              "       1, 1, 0, 1, 1, 1, 1, 1, 0, 1, 0, 0, 0, 0, 0, 0, 0, 0, 0, 0, 0, 0,\n",
              "       0, 0, 1, 1, 1, 1, 1, 1, 0, 1, 0, 1, 1, 0, 1, 1, 0, 1, 0, 0, 1, 1,\n",
              "       1, 1, 1, 1, 1, 1, 1, 1, 1, 1, 1, 0, 1, 1, 0, 1, 0, 1, 1, 1, 1, 1,\n",
              "       1, 1, 1, 1, 1, 1, 1, 1, 1, 0, 1, 1, 1, 0, 1, 0, 1, 1, 1, 1, 0, 0,\n",
              "       0, 1, 1, 1, 1, 0, 1, 0, 1, 0, 1, 1, 1, 0, 1, 1, 1, 1, 1, 1, 1, 0,\n",
              "       0, 0, 1, 1, 1, 1, 1, 1, 1, 1, 1, 1, 1, 0, 0, 1, 0, 0, 0, 1, 0, 0,\n",
              "       1, 1, 1, 1, 1, 0, 1, 1, 1, 1, 1, 0, 1, 1, 1, 0, 1, 1, 0, 0, 1, 1,\n",
              "       1, 1, 1, 1, 0, 1, 1, 1, 1, 1, 1, 1, 0, 1, 1, 1, 1, 1, 0, 1, 1, 0,\n",
              "       1, 1, 1, 1, 1, 1, 1, 1, 1, 1, 1, 1, 0, 1, 0, 0, 1, 0, 1, 1, 1, 1,\n",
              "       1, 0, 1, 1, 0, 1, 0, 1, 1, 0, 1, 0, 1, 1, 1, 1, 1, 1, 1, 1, 0, 0,\n",
              "       1, 1, 1, 1, 1, 1, 0, 1, 1, 1, 1, 1, 1, 1, 1, 1, 1, 0, 1, 1, 1, 1,\n",
              "       1, 1, 1, 0, 1, 0, 1, 1, 0, 1, 1, 1, 1, 1, 0, 0, 1, 0, 1, 0, 1, 1,\n",
              "       1, 1, 1, 0, 1, 1, 0, 1, 0, 1, 0, 0, 1, 1, 1, 0, 1, 1, 1, 1, 1, 1,\n",
              "       1, 1, 1, 1, 1, 0, 1, 0, 0, 1, 1, 1, 1, 1, 1, 1, 1, 1, 1, 1, 1, 1,\n",
              "       1, 1, 1, 1, 1, 1, 1, 1, 1, 1, 1, 1, 0, 0, 0, 0, 0, 0, 1])"
            ]
          },
          "metadata": {
            "tags": []
          },
          "execution_count": 27
        }
      ]
    },
    {
      "cell_type": "code",
      "metadata": {
        "id": "8Yuqf4cU8nan",
        "colab_type": "code",
        "outputId": "f6f9ee4f-06b6-47f4-d024-2402c8d849ed",
        "colab": {
          "base_uri": "https://localhost:8080/",
          "height": 34
        }
      },
      "source": [
        "data.target_names"
      ],
      "execution_count": 28,
      "outputs": [
        {
          "output_type": "execute_result",
          "data": {
            "text/plain": [
              "array(['malignant', 'benign'], dtype='<U9')"
            ]
          },
          "metadata": {
            "tags": []
          },
          "execution_count": 28
        }
      ]
    },
    {
      "cell_type": "code",
      "metadata": {
        "id": "kxK7_RAo8yZ-",
        "colab_type": "code",
        "outputId": "35279dcd-d623-4370-a909-cad04d7a790b",
        "colab": {
          "base_uri": "https://localhost:8080/",
          "height": 34
        }
      },
      "source": [
        "data.target.shape"
      ],
      "execution_count": 29,
      "outputs": [
        {
          "output_type": "execute_result",
          "data": {
            "text/plain": [
              "(569,)"
            ]
          },
          "metadata": {
            "tags": []
          },
          "execution_count": 29
        }
      ]
    },
    {
      "cell_type": "code",
      "metadata": {
        "id": "h_E3DtRQ8-vD",
        "colab_type": "code",
        "outputId": "1b212dc6-3c7c-4147-b2f2-1b22948659f3",
        "colab": {
          "base_uri": "https://localhost:8080/",
          "height": 185
        }
      },
      "source": [
        "data.feature_names"
      ],
      "execution_count": 30,
      "outputs": [
        {
          "output_type": "execute_result",
          "data": {
            "text/plain": [
              "array(['mean radius', 'mean texture', 'mean perimeter', 'mean area',\n",
              "       'mean smoothness', 'mean compactness', 'mean concavity',\n",
              "       'mean concave points', 'mean symmetry', 'mean fractal dimension',\n",
              "       'radius error', 'texture error', 'perimeter error', 'area error',\n",
              "       'smoothness error', 'compactness error', 'concavity error',\n",
              "       'concave points error', 'symmetry error',\n",
              "       'fractal dimension error', 'worst radius', 'worst texture',\n",
              "       'worst perimeter', 'worst area', 'worst smoothness',\n",
              "       'worst compactness', 'worst concavity', 'worst concave points',\n",
              "       'worst symmetry', 'worst fractal dimension'], dtype='<U23')"
            ]
          },
          "metadata": {
            "tags": []
          },
          "execution_count": 30
        }
      ]
    },
    {
      "cell_type": "code",
      "metadata": {
        "id": "QIOocWQF9C8t",
        "colab_type": "code",
        "colab": {}
      },
      "source": [
        "from sklearn.model_selection import train_test_split\n",
        "\n",
        "X_train, X_test, y_train, y_test = train_test_split(data.data, data.target, test_size=0.33)\n",
        "N, D = X_train.shape"
      ],
      "execution_count": 0,
      "outputs": []
    },
    {
      "cell_type": "code",
      "metadata": {
        "id": "R8-d2EkQ9pKR",
        "colab_type": "code",
        "colab": {}
      },
      "source": [
        "from sklearn.preprocessing import StandardScaler\n",
        "\n",
        "scaler = StandardScaler()\n",
        "X_train = scaler.fit_transform(X_train)\n",
        "X_test = scaler.transform(X_test)"
      ],
      "execution_count": 0,
      "outputs": []
    },
    {
      "cell_type": "code",
      "metadata": {
        "id": "sW9jk9Bq-T8A",
        "colab_type": "code",
        "outputId": "165a4bba-5672-4c4b-bfd0-4e4e5c3d2073",
        "colab": {
          "base_uri": "https://localhost:8080/",
          "height": 34
        }
      },
      "source": [
        "N"
      ],
      "execution_count": 33,
      "outputs": [
        {
          "output_type": "execute_result",
          "data": {
            "text/plain": [
              "381"
            ]
          },
          "metadata": {
            "tags": []
          },
          "execution_count": 33
        }
      ]
    },
    {
      "cell_type": "code",
      "metadata": {
        "id": "3PJT7XLV_hXk",
        "colab_type": "code",
        "outputId": "80b7a6be-ec87-4a4b-adfd-639838f0edee",
        "colab": {
          "base_uri": "https://localhost:8080/",
          "height": 1000
        }
      },
      "source": [
        "model = tf.keras.models.Sequential([tf.keras.layers.Input(shape=(D,)), tf.keras.layers.Dense(1,activation='sigmoid')])\n",
        "\n",
        "model.compile(optimizer='adam', loss = 'binary_crossentropy', metrics = ['accuracy'] )\n",
        "\n",
        "r = model.fit(X_train, y_train, validation_data = (X_test, y_test), epochs=100)\n",
        "\n",
        "\n",
        "print(\"Train score:\", model.evaluate(X_train, y_train))\n",
        "print(\"Test score\", model.evaluate(X_test, y_test))"
      ],
      "execution_count": 34,
      "outputs": [
        {
          "output_type": "stream",
          "text": [
            "Train on 381 samples, validate on 188 samples\n",
            "Epoch 1/100\n",
            "381/381 [==============================] - 0s 964us/sample - loss: 0.9328 - accuracy: 0.3543 - val_loss: 0.9385 - val_accuracy: 0.3457\n",
            "Epoch 2/100\n",
            "381/381 [==============================] - 0s 88us/sample - loss: 0.8326 - accuracy: 0.4383 - val_loss: 0.8415 - val_accuracy: 0.4096\n",
            "Epoch 3/100\n",
            "381/381 [==============================] - 0s 111us/sample - loss: 0.7449 - accuracy: 0.5144 - val_loss: 0.7562 - val_accuracy: 0.5000\n",
            "Epoch 4/100\n",
            "381/381 [==============================] - 0s 85us/sample - loss: 0.6681 - accuracy: 0.5879 - val_loss: 0.6834 - val_accuracy: 0.5957\n",
            "Epoch 5/100\n",
            "381/381 [==============================] - 0s 85us/sample - loss: 0.6019 - accuracy: 0.6903 - val_loss: 0.6225 - val_accuracy: 0.6755\n",
            "Epoch 6/100\n",
            "381/381 [==============================] - 0s 84us/sample - loss: 0.5479 - accuracy: 0.7664 - val_loss: 0.5702 - val_accuracy: 0.7606\n",
            "Epoch 7/100\n",
            "381/381 [==============================] - 0s 83us/sample - loss: 0.5012 - accuracy: 0.8058 - val_loss: 0.5268 - val_accuracy: 0.7766\n",
            "Epoch 8/100\n",
            "381/381 [==============================] - 0s 82us/sample - loss: 0.4634 - accuracy: 0.8320 - val_loss: 0.4889 - val_accuracy: 0.7926\n",
            "Epoch 9/100\n",
            "381/381 [==============================] - 0s 89us/sample - loss: 0.4307 - accuracy: 0.8556 - val_loss: 0.4570 - val_accuracy: 0.8085\n",
            "Epoch 10/100\n",
            "381/381 [==============================] - 0s 92us/sample - loss: 0.4028 - accuracy: 0.8661 - val_loss: 0.4298 - val_accuracy: 0.8245\n",
            "Epoch 11/100\n",
            "381/381 [==============================] - 0s 87us/sample - loss: 0.3795 - accuracy: 0.8819 - val_loss: 0.4061 - val_accuracy: 0.8511\n",
            "Epoch 12/100\n",
            "381/381 [==============================] - 0s 92us/sample - loss: 0.3588 - accuracy: 0.8976 - val_loss: 0.3857 - val_accuracy: 0.8830\n",
            "Epoch 13/100\n",
            "381/381 [==============================] - 0s 87us/sample - loss: 0.3412 - accuracy: 0.9081 - val_loss: 0.3676 - val_accuracy: 0.8830\n",
            "Epoch 14/100\n",
            "381/381 [==============================] - 0s 92us/sample - loss: 0.3256 - accuracy: 0.9213 - val_loss: 0.3514 - val_accuracy: 0.8989\n",
            "Epoch 15/100\n",
            "381/381 [==============================] - 0s 90us/sample - loss: 0.3116 - accuracy: 0.9213 - val_loss: 0.3368 - val_accuracy: 0.9043\n",
            "Epoch 16/100\n",
            "381/381 [==============================] - 0s 80us/sample - loss: 0.2988 - accuracy: 0.9213 - val_loss: 0.3240 - val_accuracy: 0.9149\n",
            "Epoch 17/100\n",
            "381/381 [==============================] - 0s 87us/sample - loss: 0.2874 - accuracy: 0.9213 - val_loss: 0.3126 - val_accuracy: 0.9149\n",
            "Epoch 18/100\n",
            "381/381 [==============================] - 0s 84us/sample - loss: 0.2772 - accuracy: 0.9239 - val_loss: 0.3021 - val_accuracy: 0.9255\n",
            "Epoch 19/100\n",
            "381/381 [==============================] - 0s 83us/sample - loss: 0.2677 - accuracy: 0.9265 - val_loss: 0.2924 - val_accuracy: 0.9255\n",
            "Epoch 20/100\n",
            "381/381 [==============================] - 0s 109us/sample - loss: 0.2589 - accuracy: 0.9344 - val_loss: 0.2835 - val_accuracy: 0.9255\n",
            "Epoch 21/100\n",
            "381/381 [==============================] - 0s 83us/sample - loss: 0.2508 - accuracy: 0.9370 - val_loss: 0.2756 - val_accuracy: 0.9309\n",
            "Epoch 22/100\n",
            "381/381 [==============================] - 0s 83us/sample - loss: 0.2434 - accuracy: 0.9370 - val_loss: 0.2680 - val_accuracy: 0.9309\n",
            "Epoch 23/100\n",
            "381/381 [==============================] - 0s 82us/sample - loss: 0.2366 - accuracy: 0.9396 - val_loss: 0.2608 - val_accuracy: 0.9309\n",
            "Epoch 24/100\n",
            "381/381 [==============================] - 0s 77us/sample - loss: 0.2300 - accuracy: 0.9449 - val_loss: 0.2545 - val_accuracy: 0.9362\n",
            "Epoch 25/100\n",
            "381/381 [==============================] - 0s 79us/sample - loss: 0.2238 - accuracy: 0.9475 - val_loss: 0.2485 - val_accuracy: 0.9362\n",
            "Epoch 26/100\n",
            "381/381 [==============================] - 0s 76us/sample - loss: 0.2183 - accuracy: 0.9475 - val_loss: 0.2429 - val_accuracy: 0.9362\n",
            "Epoch 27/100\n",
            "381/381 [==============================] - 0s 93us/sample - loss: 0.2130 - accuracy: 0.9501 - val_loss: 0.2375 - val_accuracy: 0.9362\n",
            "Epoch 28/100\n",
            "381/381 [==============================] - 0s 86us/sample - loss: 0.2080 - accuracy: 0.9501 - val_loss: 0.2323 - val_accuracy: 0.9362\n",
            "Epoch 29/100\n",
            "381/381 [==============================] - 0s 95us/sample - loss: 0.2033 - accuracy: 0.9501 - val_loss: 0.2277 - val_accuracy: 0.9415\n",
            "Epoch 30/100\n",
            "381/381 [==============================] - 0s 81us/sample - loss: 0.1988 - accuracy: 0.9554 - val_loss: 0.2232 - val_accuracy: 0.9415\n",
            "Epoch 31/100\n",
            "381/381 [==============================] - 0s 89us/sample - loss: 0.1946 - accuracy: 0.9554 - val_loss: 0.2189 - val_accuracy: 0.9415\n",
            "Epoch 32/100\n",
            "381/381 [==============================] - 0s 91us/sample - loss: 0.1906 - accuracy: 0.9554 - val_loss: 0.2150 - val_accuracy: 0.9415\n",
            "Epoch 33/100\n",
            "381/381 [==============================] - 0s 90us/sample - loss: 0.1868 - accuracy: 0.9554 - val_loss: 0.2113 - val_accuracy: 0.9415\n",
            "Epoch 34/100\n",
            "381/381 [==============================] - 0s 84us/sample - loss: 0.1832 - accuracy: 0.9580 - val_loss: 0.2076 - val_accuracy: 0.9415\n",
            "Epoch 35/100\n",
            "381/381 [==============================] - 0s 112us/sample - loss: 0.1798 - accuracy: 0.9580 - val_loss: 0.2043 - val_accuracy: 0.9415\n",
            "Epoch 36/100\n",
            "381/381 [==============================] - 0s 94us/sample - loss: 0.1765 - accuracy: 0.9580 - val_loss: 0.2010 - val_accuracy: 0.9415\n",
            "Epoch 37/100\n",
            "381/381 [==============================] - 0s 92us/sample - loss: 0.1734 - accuracy: 0.9606 - val_loss: 0.1980 - val_accuracy: 0.9415\n",
            "Epoch 38/100\n",
            "381/381 [==============================] - 0s 81us/sample - loss: 0.1705 - accuracy: 0.9606 - val_loss: 0.1949 - val_accuracy: 0.9415\n",
            "Epoch 39/100\n",
            "381/381 [==============================] - 0s 86us/sample - loss: 0.1677 - accuracy: 0.9606 - val_loss: 0.1921 - val_accuracy: 0.9415\n",
            "Epoch 40/100\n",
            "381/381 [==============================] - 0s 82us/sample - loss: 0.1649 - accuracy: 0.9606 - val_loss: 0.1896 - val_accuracy: 0.9468\n",
            "Epoch 41/100\n",
            "381/381 [==============================] - 0s 83us/sample - loss: 0.1623 - accuracy: 0.9633 - val_loss: 0.1870 - val_accuracy: 0.9468\n",
            "Epoch 42/100\n",
            "381/381 [==============================] - 0s 78us/sample - loss: 0.1598 - accuracy: 0.9633 - val_loss: 0.1845 - val_accuracy: 0.9521\n",
            "Epoch 43/100\n",
            "381/381 [==============================] - 0s 87us/sample - loss: 0.1574 - accuracy: 0.9659 - val_loss: 0.1822 - val_accuracy: 0.9521\n",
            "Epoch 44/100\n",
            "381/381 [==============================] - 0s 98us/sample - loss: 0.1552 - accuracy: 0.9659 - val_loss: 0.1800 - val_accuracy: 0.9521\n",
            "Epoch 45/100\n",
            "381/381 [==============================] - 0s 85us/sample - loss: 0.1530 - accuracy: 0.9659 - val_loss: 0.1778 - val_accuracy: 0.9521\n",
            "Epoch 46/100\n",
            "381/381 [==============================] - 0s 85us/sample - loss: 0.1508 - accuracy: 0.9659 - val_loss: 0.1758 - val_accuracy: 0.9521\n",
            "Epoch 47/100\n",
            "381/381 [==============================] - 0s 79us/sample - loss: 0.1488 - accuracy: 0.9659 - val_loss: 0.1738 - val_accuracy: 0.9521\n",
            "Epoch 48/100\n",
            "381/381 [==============================] - 0s 80us/sample - loss: 0.1468 - accuracy: 0.9659 - val_loss: 0.1719 - val_accuracy: 0.9521\n",
            "Epoch 49/100\n",
            "381/381 [==============================] - 0s 83us/sample - loss: 0.1449 - accuracy: 0.9659 - val_loss: 0.1700 - val_accuracy: 0.9521\n",
            "Epoch 50/100\n",
            "381/381 [==============================] - 0s 79us/sample - loss: 0.1431 - accuracy: 0.9659 - val_loss: 0.1684 - val_accuracy: 0.9521\n",
            "Epoch 51/100\n",
            "381/381 [==============================] - 0s 91us/sample - loss: 0.1413 - accuracy: 0.9659 - val_loss: 0.1667 - val_accuracy: 0.9521\n",
            "Epoch 52/100\n",
            "381/381 [==============================] - 0s 94us/sample - loss: 0.1396 - accuracy: 0.9659 - val_loss: 0.1651 - val_accuracy: 0.9521\n",
            "Epoch 53/100\n",
            "381/381 [==============================] - 0s 92us/sample - loss: 0.1379 - accuracy: 0.9659 - val_loss: 0.1636 - val_accuracy: 0.9521\n",
            "Epoch 54/100\n",
            "381/381 [==============================] - 0s 89us/sample - loss: 0.1363 - accuracy: 0.9659 - val_loss: 0.1620 - val_accuracy: 0.9521\n",
            "Epoch 55/100\n",
            "381/381 [==============================] - 0s 86us/sample - loss: 0.1348 - accuracy: 0.9659 - val_loss: 0.1605 - val_accuracy: 0.9521\n",
            "Epoch 56/100\n",
            "381/381 [==============================] - 0s 86us/sample - loss: 0.1333 - accuracy: 0.9659 - val_loss: 0.1591 - val_accuracy: 0.9521\n",
            "Epoch 57/100\n",
            "381/381 [==============================] - 0s 86us/sample - loss: 0.1319 - accuracy: 0.9659 - val_loss: 0.1578 - val_accuracy: 0.9521\n",
            "Epoch 58/100\n",
            "381/381 [==============================] - 0s 89us/sample - loss: 0.1305 - accuracy: 0.9659 - val_loss: 0.1564 - val_accuracy: 0.9521\n",
            "Epoch 59/100\n",
            "381/381 [==============================] - 0s 75us/sample - loss: 0.1291 - accuracy: 0.9659 - val_loss: 0.1551 - val_accuracy: 0.9521\n",
            "Epoch 60/100\n",
            "381/381 [==============================] - 0s 89us/sample - loss: 0.1277 - accuracy: 0.9685 - val_loss: 0.1539 - val_accuracy: 0.9521\n",
            "Epoch 61/100\n",
            "381/381 [==============================] - 0s 84us/sample - loss: 0.1264 - accuracy: 0.9711 - val_loss: 0.1528 - val_accuracy: 0.9521\n",
            "Epoch 62/100\n",
            "381/381 [==============================] - 0s 90us/sample - loss: 0.1252 - accuracy: 0.9711 - val_loss: 0.1516 - val_accuracy: 0.9521\n",
            "Epoch 63/100\n",
            "381/381 [==============================] - 0s 89us/sample - loss: 0.1240 - accuracy: 0.9738 - val_loss: 0.1505 - val_accuracy: 0.9521\n",
            "Epoch 64/100\n",
            "381/381 [==============================] - 0s 83us/sample - loss: 0.1228 - accuracy: 0.9738 - val_loss: 0.1494 - val_accuracy: 0.9521\n",
            "Epoch 65/100\n",
            "381/381 [==============================] - 0s 80us/sample - loss: 0.1217 - accuracy: 0.9738 - val_loss: 0.1483 - val_accuracy: 0.9521\n",
            "Epoch 66/100\n",
            "381/381 [==============================] - 0s 82us/sample - loss: 0.1205 - accuracy: 0.9738 - val_loss: 0.1474 - val_accuracy: 0.9521\n",
            "Epoch 67/100\n",
            "381/381 [==============================] - 0s 86us/sample - loss: 0.1194 - accuracy: 0.9738 - val_loss: 0.1464 - val_accuracy: 0.9521\n",
            "Epoch 68/100\n",
            "381/381 [==============================] - 0s 94us/sample - loss: 0.1184 - accuracy: 0.9738 - val_loss: 0.1454 - val_accuracy: 0.9521\n",
            "Epoch 69/100\n",
            "381/381 [==============================] - 0s 91us/sample - loss: 0.1173 - accuracy: 0.9738 - val_loss: 0.1445 - val_accuracy: 0.9521\n",
            "Epoch 70/100\n",
            "381/381 [==============================] - 0s 121us/sample - loss: 0.1163 - accuracy: 0.9738 - val_loss: 0.1436 - val_accuracy: 0.9521\n",
            "Epoch 71/100\n",
            "381/381 [==============================] - 0s 93us/sample - loss: 0.1153 - accuracy: 0.9738 - val_loss: 0.1427 - val_accuracy: 0.9521\n",
            "Epoch 72/100\n",
            "381/381 [==============================] - 0s 91us/sample - loss: 0.1144 - accuracy: 0.9738 - val_loss: 0.1419 - val_accuracy: 0.9521\n",
            "Epoch 73/100\n",
            "381/381 [==============================] - 0s 93us/sample - loss: 0.1134 - accuracy: 0.9738 - val_loss: 0.1411 - val_accuracy: 0.9521\n",
            "Epoch 74/100\n",
            "381/381 [==============================] - 0s 96us/sample - loss: 0.1125 - accuracy: 0.9738 - val_loss: 0.1403 - val_accuracy: 0.9521\n",
            "Epoch 75/100\n",
            "381/381 [==============================] - 0s 89us/sample - loss: 0.1116 - accuracy: 0.9738 - val_loss: 0.1395 - val_accuracy: 0.9574\n",
            "Epoch 76/100\n",
            "381/381 [==============================] - 0s 111us/sample - loss: 0.1107 - accuracy: 0.9738 - val_loss: 0.1388 - val_accuracy: 0.9521\n",
            "Epoch 77/100\n",
            "381/381 [==============================] - 0s 95us/sample - loss: 0.1099 - accuracy: 0.9764 - val_loss: 0.1380 - val_accuracy: 0.9574\n",
            "Epoch 78/100\n",
            "381/381 [==============================] - 0s 84us/sample - loss: 0.1090 - accuracy: 0.9764 - val_loss: 0.1373 - val_accuracy: 0.9574\n",
            "Epoch 79/100\n",
            "381/381 [==============================] - 0s 84us/sample - loss: 0.1082 - accuracy: 0.9764 - val_loss: 0.1366 - val_accuracy: 0.9574\n",
            "Epoch 80/100\n",
            "381/381 [==============================] - 0s 82us/sample - loss: 0.1074 - accuracy: 0.9764 - val_loss: 0.1360 - val_accuracy: 0.9574\n",
            "Epoch 81/100\n",
            "381/381 [==============================] - 0s 85us/sample - loss: 0.1066 - accuracy: 0.9764 - val_loss: 0.1353 - val_accuracy: 0.9574\n",
            "Epoch 82/100\n",
            "381/381 [==============================] - 0s 87us/sample - loss: 0.1058 - accuracy: 0.9764 - val_loss: 0.1346 - val_accuracy: 0.9574\n",
            "Epoch 83/100\n",
            "381/381 [==============================] - 0s 87us/sample - loss: 0.1051 - accuracy: 0.9764 - val_loss: 0.1339 - val_accuracy: 0.9574\n",
            "Epoch 84/100\n",
            "381/381 [==============================] - 0s 82us/sample - loss: 0.1043 - accuracy: 0.9764 - val_loss: 0.1334 - val_accuracy: 0.9574\n",
            "Epoch 85/100\n",
            "381/381 [==============================] - 0s 84us/sample - loss: 0.1036 - accuracy: 0.9764 - val_loss: 0.1327 - val_accuracy: 0.9574\n",
            "Epoch 86/100\n",
            "381/381 [==============================] - 0s 88us/sample - loss: 0.1029 - accuracy: 0.9764 - val_loss: 0.1321 - val_accuracy: 0.9574\n",
            "Epoch 87/100\n",
            "381/381 [==============================] - 0s 83us/sample - loss: 0.1022 - accuracy: 0.9764 - val_loss: 0.1316 - val_accuracy: 0.9574\n",
            "Epoch 88/100\n",
            "381/381 [==============================] - 0s 80us/sample - loss: 0.1016 - accuracy: 0.9764 - val_loss: 0.1311 - val_accuracy: 0.9574\n",
            "Epoch 89/100\n",
            "381/381 [==============================] - 0s 93us/sample - loss: 0.1009 - accuracy: 0.9764 - val_loss: 0.1305 - val_accuracy: 0.9574\n",
            "Epoch 90/100\n",
            "381/381 [==============================] - 0s 85us/sample - loss: 0.1002 - accuracy: 0.9764 - val_loss: 0.1300 - val_accuracy: 0.9574\n",
            "Epoch 91/100\n",
            "381/381 [==============================] - 0s 94us/sample - loss: 0.0996 - accuracy: 0.9764 - val_loss: 0.1294 - val_accuracy: 0.9574\n",
            "Epoch 92/100\n",
            "381/381 [==============================] - 0s 90us/sample - loss: 0.0989 - accuracy: 0.9764 - val_loss: 0.1289 - val_accuracy: 0.9574\n",
            "Epoch 93/100\n",
            "381/381 [==============================] - 0s 82us/sample - loss: 0.0983 - accuracy: 0.9764 - val_loss: 0.1286 - val_accuracy: 0.9574\n",
            "Epoch 94/100\n",
            "381/381 [==============================] - 0s 91us/sample - loss: 0.0977 - accuracy: 0.9764 - val_loss: 0.1280 - val_accuracy: 0.9574\n",
            "Epoch 95/100\n",
            "381/381 [==============================] - 0s 98us/sample - loss: 0.0971 - accuracy: 0.9764 - val_loss: 0.1275 - val_accuracy: 0.9574\n",
            "Epoch 96/100\n",
            "381/381 [==============================] - 0s 84us/sample - loss: 0.0965 - accuracy: 0.9764 - val_loss: 0.1271 - val_accuracy: 0.9574\n",
            "Epoch 97/100\n",
            "381/381 [==============================] - 0s 82us/sample - loss: 0.0959 - accuracy: 0.9764 - val_loss: 0.1266 - val_accuracy: 0.9574\n",
            "Epoch 98/100\n",
            "381/381 [==============================] - 0s 79us/sample - loss: 0.0954 - accuracy: 0.9764 - val_loss: 0.1263 - val_accuracy: 0.9574\n",
            "Epoch 99/100\n",
            "381/381 [==============================] - 0s 79us/sample - loss: 0.0948 - accuracy: 0.9764 - val_loss: 0.1258 - val_accuracy: 0.9574\n",
            "Epoch 100/100\n",
            "381/381 [==============================] - 0s 87us/sample - loss: 0.0942 - accuracy: 0.9764 - val_loss: 0.1254 - val_accuracy: 0.9574\n",
            "381/381 [==============================] - 0s 54us/sample - loss: 0.0939 - accuracy: 0.9764\n",
            "Train score: [0.0939340962004161, 0.97637796]\n",
            "188/188 [==============================] - 0s 56us/sample - loss: 0.1254 - accuracy: 0.9574\n",
            "Test score [0.12536947587703137, 0.9574468]\n"
          ],
          "name": "stdout"
        }
      ]
    },
    {
      "cell_type": "code",
      "metadata": {
        "id": "gmzXDosqCShb",
        "colab_type": "code",
        "outputId": "1a72dc2b-0a04-4d8c-c011-dc158a1d49f2",
        "colab": {
          "base_uri": "https://localhost:8080/",
          "height": 282
        }
      },
      "source": [
        "import matplotlib.pyplot as plt\n",
        "\n",
        "plt.plot(r.history['loss'], label='loss')\n",
        "plt.plot(r.history['val_loss'], label='val_loss')\n",
        "plt.legend()"
      ],
      "execution_count": 35,
      "outputs": [
        {
          "output_type": "execute_result",
          "data": {
            "text/plain": [
              "<matplotlib.legend.Legend at 0x7fb78b049c50>"
            ]
          },
          "metadata": {
            "tags": []
          },
          "execution_count": 35
        },
        {
          "output_type": "display_data",
          "data": {
            "image/png": "[encoded data removed]",
            "text/plain": [
              "<Figure size 432x288 with 1 Axes>"
            ]
          },
          "metadata": {
            "tags": []
          }
        }
      ]
    },
    {
      "cell_type": "code",
      "metadata": {
        "id": "o-yM8k22Cqh1",
        "colab_type": "code",
        "outputId": "bb28c2bb-e72d-45d0-b6fa-5afeffefdaa2",
        "colab": {
          "base_uri": "https://localhost:8080/",
          "height": 284
        }
      },
      "source": [
        "plt.plot(r.history['accuracy'], label='acc')\n",
        "plt.plot(r.history['val_accuracy'], label='val_acc')\n",
        "plt.legend()"
      ],
      "execution_count": 36,
      "outputs": [
        {
          "output_type": "execute_result",
          "data": {
            "text/plain": [
              "<matplotlib.legend.Legend at 0x7fb78b02d860>"
            ]
          },
          "metadata": {
            "tags": []
          },
          "execution_count": 36
        },
        {
          "output_type": "display_data",
          "data": {
            "image/png": "[encoded data removed]",
            "text/plain": [
              "<Figure size 432x288 with 1 Axes>"
            ]
          },
          "metadata": {
            "tags": []
          }
        }
      ]
    },
    {
      "cell_type": "markdown",
      "metadata": {
        "id": "nAJRZQMnDeRJ",
        "colab_type": "text"
      },
      "source": [
        "# Making Predictions"
      ]
    },
    {
      "cell_type": "code",
      "metadata": {
        "id": "19LCdpQcDo9V",
        "colab_type": "code",
        "outputId": "ad623ee5-9966-4737-eb1d-c4036a1e6f5f",
        "colab": {
          "base_uri": "https://localhost:8080/",
          "height": 1000
        }
      },
      "source": [
        "P = model.predict(X_test)\n",
        "print(P) #there are outputs of the sigmoid, interpreted as probabilities p(y=1|x)"
      ],
      "execution_count": 37,
      "outputs": [
        {
          "output_type": "stream",
          "text": [
            "[[9.97462630e-01]\n",
            " [9.83229816e-01]\n",
            " [8.85750413e-01]\n",
            " [5.99256158e-01]\n",
            " [9.49295461e-01]\n",
            " [9.94509518e-01]\n",
            " [2.16855094e-01]\n",
            " [3.41673642e-02]\n",
            " [8.05427283e-02]\n",
            " [9.00129259e-01]\n",
            " [8.80990267e-01]\n",
            " [8.22746217e-01]\n",
            " [3.90595309e-02]\n",
            " [9.07064602e-03]\n",
            " [9.94608760e-01]\n",
            " [1.57083576e-07]\n",
            " [9.98442948e-01]\n",
            " [9.18737590e-01]\n",
            " [7.71454434e-05]\n",
            " [9.94885623e-01]\n",
            " [2.13726759e-02]\n",
            " [9.91107047e-01]\n",
            " [9.98778045e-01]\n",
            " [9.66343760e-01]\n",
            " [9.41929042e-01]\n",
            " [2.67182034e-03]\n",
            " [9.56516743e-01]\n",
            " [9.88085628e-01]\n",
            " [9.16497707e-01]\n",
            " [9.94715750e-01]\n",
            " [9.64610159e-01]\n",
            " [9.74970043e-01]\n",
            " [1.30813700e-04]\n",
            " [7.43827343e-01]\n",
            " [9.66853440e-06]\n",
            " [7.65413092e-03]\n",
            " [9.97488379e-01]\n",
            " [2.94677578e-02]\n",
            " [6.27775909e-04]\n",
            " [9.92315412e-01]\n",
            " [9.80759442e-01]\n",
            " [9.92681921e-01]\n",
            " [9.89596188e-01]\n",
            " [5.04113734e-01]\n",
            " [9.97608304e-01]\n",
            " [9.14843202e-01]\n",
            " [9.37240064e-01]\n",
            " [6.62567914e-01]\n",
            " [9.98033822e-01]\n",
            " [9.97571051e-01]\n",
            " [9.99839664e-01]\n",
            " [9.82305467e-01]\n",
            " [9.53713238e-01]\n",
            " [9.96427596e-01]\n",
            " [8.73375893e-01]\n",
            " [4.14006338e-02]\n",
            " [9.96134043e-01]\n",
            " [9.97377753e-01]\n",
            " [9.66414928e-01]\n",
            " [1.44531913e-02]\n",
            " [9.99782503e-01]\n",
            " [9.99889731e-01]\n",
            " [2.92643177e-04]\n",
            " [9.73776340e-01]\n",
            " [9.86951590e-01]\n",
            " [3.01516229e-05]\n",
            " [3.69621255e-03]\n",
            " [9.74930465e-01]\n",
            " [1.55616715e-03]\n",
            " [5.63077331e-02]\n",
            " [9.99467790e-01]\n",
            " [9.19945002e-01]\n",
            " [9.76757824e-01]\n",
            " [9.89801347e-01]\n",
            " [9.75049138e-01]\n",
            " [9.94230628e-01]\n",
            " [7.18574286e-01]\n",
            " [9.94628251e-01]\n",
            " [9.38942909e-01]\n",
            " [5.17210132e-03]\n",
            " [8.70324433e-01]\n",
            " [8.48134458e-01]\n",
            " [9.26914513e-01]\n",
            " [1.83795735e-01]\n",
            " [1.60257682e-01]\n",
            " [6.97171986e-01]\n",
            " [9.77498412e-01]\n",
            " [1.02709703e-01]\n",
            " [9.89928544e-01]\n",
            " [8.51726905e-03]\n",
            " [2.69529998e-01]\n",
            " [9.96637106e-01]\n",
            " [9.98135090e-01]\n",
            " [9.90842342e-01]\n",
            " [3.53983402e-01]\n",
            " [1.26963705e-01]\n",
            " [9.40148473e-01]\n",
            " [9.68844116e-01]\n",
            " [5.72922826e-03]\n",
            " [9.99943137e-01]\n",
            " [9.98525798e-01]\n",
            " [8.33823860e-01]\n",
            " [9.92516816e-01]\n",
            " [9.26425397e-01]\n",
            " [9.98564541e-01]\n",
            " [8.36893082e-01]\n",
            " [9.82594788e-01]\n",
            " [8.23516071e-01]\n",
            " [4.43078875e-07]\n",
            " [9.88228559e-01]\n",
            " [1.52455614e-04]\n",
            " [4.55698259e-02]\n",
            " [1.05199136e-01]\n",
            " [9.48763669e-01]\n",
            " [9.90149021e-01]\n",
            " [9.99227047e-01]\n",
            " [4.23264503e-01]\n",
            " [9.94420111e-01]\n",
            " [2.41460074e-02]\n",
            " [7.63680782e-06]\n",
            " [9.94381726e-01]\n",
            " [9.98071909e-01]\n",
            " [9.32356596e-01]\n",
            " [8.85636881e-02]\n",
            " [4.78812028e-03]\n",
            " [9.42340195e-01]\n",
            " [9.98335660e-01]\n",
            " [9.95908022e-01]\n",
            " [3.57676208e-06]\n",
            " [9.81107116e-01]\n",
            " [1.94746479e-01]\n",
            " [9.69568312e-01]\n",
            " [1.67669810e-03]\n",
            " [8.36392879e-01]\n",
            " [5.10924547e-05]\n",
            " [9.79679406e-01]\n",
            " [5.72517738e-02]\n",
            " [9.72286522e-01]\n",
            " [9.13466036e-01]\n",
            " [9.32350397e-01]\n",
            " [3.95077586e-01]\n",
            " [9.67550993e-01]\n",
            " [9.93486106e-01]\n",
            " [9.55063879e-01]\n",
            " [1.78931327e-06]\n",
            " [9.90687966e-01]\n",
            " [9.92910587e-04]\n",
            " [5.73360264e-01]\n",
            " [9.84258056e-01]\n",
            " [5.37637621e-03]\n",
            " [9.87364590e-01]\n",
            " [5.44331037e-04]\n",
            " [2.96227597e-02]\n",
            " [9.92249370e-01]\n",
            " [4.40294072e-02]\n",
            " [9.90471959e-01]\n",
            " [9.27772284e-01]\n",
            " [9.85290885e-01]\n",
            " [1.20576061e-01]\n",
            " [3.11172614e-03]\n",
            " [5.64556122e-01]\n",
            " [4.37795708e-04]\n",
            " [9.98658180e-01]\n",
            " [5.80944419e-01]\n",
            " [8.13462306e-04]\n",
            " [2.85375535e-01]\n",
            " [9.45045888e-01]\n",
            " [3.05989176e-01]\n",
            " [9.97386158e-01]\n",
            " [1.42207611e-02]\n",
            " [8.32353652e-01]\n",
            " [8.70500922e-01]\n",
            " [9.07601953e-01]\n",
            " [5.29206009e-04]\n",
            " [9.98555124e-01]\n",
            " [9.11651552e-01]\n",
            " [9.98243093e-01]\n",
            " [2.56639610e-12]\n",
            " [7.41408621e-06]\n",
            " [9.77673411e-01]\n",
            " [9.99020338e-01]\n",
            " [4.32905363e-04]\n",
            " [9.35700178e-01]\n",
            " [9.08087015e-01]\n",
            " [1.38158939e-04]\n",
            " [9.81604576e-01]\n",
            " [1.56455431e-02]\n",
            " [8.75767589e-01]]\n"
          ],
          "name": "stdout"
        }
      ]
    },
    {
      "cell_type": "code",
      "metadata": {
        "id": "Hs92tg1MFmpI",
        "colab_type": "code",
        "outputId": "3f83a527-74bd-4a46-d32a-df98a42fb6e9",
        "colab": {
          "base_uri": "https://localhost:8080/",
          "height": 151
        }
      },
      "source": [
        "import numpy as np\n",
        "\n",
        "P = np.round(P).flatten()\n",
        "print(P)"
      ],
      "execution_count": 38,
      "outputs": [
        {
          "output_type": "stream",
          "text": [
            "[1. 1. 1. 1. 1. 1. 0. 0. 0. 1. 1. 1. 0. 0. 1. 0. 1. 1. 0. 1. 0. 1. 1. 1.\n",
            " 1. 0. 1. 1. 1. 1. 1. 1. 0. 1. 0. 0. 1. 0. 0. 1. 1. 1. 1. 1. 1. 1. 1. 1.\n",
            " 1. 1. 1. 1. 1. 1. 1. 0. 1. 1. 1. 0. 1. 1. 0. 1. 1. 0. 0. 1. 0. 0. 1. 1.\n",
            " 1. 1. 1. 1. 1. 1. 1. 0. 1. 1. 1. 0. 0. 1. 1. 0. 1. 0. 0. 1. 1. 1. 0. 0.\n",
            " 1. 1. 0. 1. 1. 1. 1. 1. 1. 1. 1. 1. 0. 1. 0. 0. 0. 1. 1. 1. 0. 1. 0. 0.\n",
            " 1. 1. 1. 0. 0. 1. 1. 1. 0. 1. 0. 1. 0. 1. 0. 1. 0. 1. 1. 1. 0. 1. 1. 1.\n",
            " 0. 1. 0. 1. 1. 0. 1. 0. 0. 1. 0. 1. 1. 1. 0. 0. 1. 0. 1. 1. 0. 0. 1. 0.\n",
            " 1. 0. 1. 1. 1. 0. 1. 1. 1. 0. 0. 1. 1. 0. 1. 1. 0. 1. 0. 1.]\n"
          ],
          "name": "stdout"
        }
      ]
    },
    {
      "cell_type": "code",
      "metadata": {
        "id": "4s5tLTwWGLDP",
        "colab_type": "code",
        "outputId": "62abe42f-3048-4c8e-9a11-caf57fe6a40a",
        "colab": {
          "base_uri": "https://localhost:8080/",
          "height": 67
        }
      },
      "source": [
        "print(\"Manually calculated accuracy\", np.mean(P == y_test))\n",
        "print(\"Evaulated accuracy\", model.evaluate(X_test, y_test))"
      ],
      "execution_count": 39,
      "outputs": [
        {
          "output_type": "stream",
          "text": [
            "Manually calculated accuracy 0.9574468085106383\n",
            "188/188 [==============================] - 0s 58us/sample - loss: 0.1254 - accuracy: 0.9574\n",
            "Evaulated accuracy [0.12536947587703137, 0.9574468]\n"
          ],
          "name": "stdout"
        }
      ]
    },
    {
      "cell_type": "markdown",
      "metadata": {
        "id": "etkeQywLwnFa",
        "colab_type": "text"
      },
      "source": [
        "# Saving and loading a Model"
      ]
    },
    {
      "cell_type": "code",
      "metadata": {
        "id": "neq9mwo0wjpO",
        "colab_type": "code",
        "colab": {}
      },
      "source": [
        "model.save('linearclassifier.h5')"
      ],
      "execution_count": 0,
      "outputs": []
    },
    {
      "cell_type": "code",
      "metadata": {
        "id": "zHd7PoL9aup0",
        "colab_type": "code",
        "colab": {
          "base_uri": "https://localhost:8080/",
          "height": 34
        },
        "outputId": "2d7da710-9ace-4c71-84f4-c9ff2c1f97a6"
      },
      "source": [
        "!ls lh"
      ],
      "execution_count": 41,
      "outputs": [
        {
          "output_type": "stream",
          "text": [
            "ls: cannot access 'lh': No such file or directory\n"
          ],
          "name": "stdout"
        }
      ]
    },
    {
      "cell_type": "code",
      "metadata": {
        "id": "dQfv5pgPa30u",
        "colab_type": "code",
        "colab": {
          "base_uri": "https://localhost:8080/",
          "height": 67
        },
        "outputId": "cb2dcea9-dbda-453d-9c44-be91b201d72c"
      },
      "source": [
        "model = tf.keras.models.load_model('linearclassifier.h5')\n",
        "print(model.layers)\n",
        "model.evaluate(X_test, y_test)"
      ],
      "execution_count": 43,
      "outputs": [
        {
          "output_type": "stream",
          "text": [
            "[<tensorflow.python.keras.layers.core.Dense object at 0x7fb790d876d8>]\n",
            "188/188 [==============================] - 0s 403us/sample - loss: 0.1254 - accuracy: 0.9574\n"
          ],
          "name": "stdout"
        },
        {
          "output_type": "execute_result",
          "data": {
            "text/plain": [
              "[0.12536947587703137, 0.9574468]"
            ]
          },
          "metadata": {
            "tags": []
          },
          "execution_count": 43
        }
      ]
    },
    {
      "cell_type": "code",
      "metadata": {
        "id": "I3tuzZEOcH3O",
        "colab_type": "code",
        "colab": {}
      },
      "source": [
        "from google.colab import files\n",
        "\n",
        "files.download('linearclassifier.h5')"
      ],
      "execution_count": 0,
      "outputs": []
    }
  ]
}