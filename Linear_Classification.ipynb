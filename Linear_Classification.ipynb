{
  "nbformat": 4,
  "nbformat_minor": 0,
  "metadata": {
    "colab": {
      "name": "Linear Classification.ipynb",
      "provenance": [],
      "collapsed_sections": [],
      "authorship_tag": "ABX9TyMywISVY+NRfzFVaRKTRuaF",
      "include_colab_link": true
    },
    "kernelspec": {
      "name": "python3",
      "display_name": "Python 3"
    }
  },
  "cells": [
    {
      "cell_type": "markdown",
      "metadata": {
        "id": "view-in-github",
        "colab_type": "text"
      },
      "source": [
        "<a href=\"https://colab.research.google.com/github/MargaritaKotova/Tensorflow-2.0-Deep-Learning-and-Artificial-Intelligence-course/blob/master/Linear_Classification.ipynb\" target=\"_parent\"><img src=\"https://colab.research.google.com/assets/colab-badge.svg\" alt=\"Open In Colab\"/></a>"
      ]
    },
    {
      "cell_type": "code",
      "metadata": {
        "id": "IwJSATi47lbc",
        "colab_type": "code",
        "outputId": "aeacd474-6533-4ff7-bf99-01e916785d3e",
        "colab": {
          "base_uri": "https://localhost:8080/",
          "height": 927
        }
      },
      "source": [
        " !pip install \"tensorflow>=2.0.0\"\n",
        " import tensorflow as tf\n",
        "print(tf.__version__)"
      ],
      "execution_count": 1,
      "outputs": [
        {
          "output_type": "stream",
          "text": [
            "Collecting tensorflow>=2.0.0\n",
            "\u001b[?25l  Downloading https://files.pythonhosted.org/packages/85/d4/c0cd1057b331bc38b65478302114194bd8e1b9c2bbc06e300935c0e93d90/tensorflow-2.1.0-cp36-cp36m-manylinux2010_x86_64.whl (421.8MB)\n",
            "\u001b[K     |████████████████████████████████| 421.8MB 34kB/s \n",
            "\u001b[?25hRequirement already satisfied: wheel>=0.26; python_version >= \"3\" in /usr/local/lib/python3.6/dist-packages (from tensorflow>=2.0.0) (0.34.2)\n",
            "Requirement already satisfied: opt-einsum>=2.3.2 in /usr/local/lib/python3.6/dist-packages (from tensorflow>=2.0.0) (3.1.0)\n",
            "Requirement already satisfied: six>=1.12.0 in /usr/local/lib/python3.6/dist-packages (from tensorflow>=2.0.0) (1.12.0)\n",
            "Requirement already satisfied: astor>=0.6.0 in /usr/local/lib/python3.6/dist-packages (from tensorflow>=2.0.0) (0.8.1)\n",
            "Requirement already satisfied: absl-py>=0.7.0 in /usr/local/lib/python3.6/dist-packages (from tensorflow>=2.0.0) (0.9.0)\n",
            "Requirement already satisfied: grpcio>=1.8.6 in /usr/local/lib/python3.6/dist-packages (from tensorflow>=2.0.0) (1.27.1)\n",
            "Requirement already satisfied: scipy==1.4.1; python_version >= \"3\" in /usr/local/lib/python3.6/dist-packages (from tensorflow>=2.0.0) (1.4.1)\n",
            "Requirement already satisfied: numpy<2.0,>=1.16.0 in /usr/local/lib/python3.6/dist-packages (from tensorflow>=2.0.0) (1.17.5)\n",
            "Requirement already satisfied: protobuf>=3.8.0 in /usr/local/lib/python3.6/dist-packages (from tensorflow>=2.0.0) (3.10.0)\n",
            "Collecting tensorboard<2.2.0,>=2.1.0\n",
            "\u001b[?25l  Downloading https://files.pythonhosted.org/packages/d9/41/bbf49b61370e4f4d245d4c6051dfb6db80cec672605c91b1652ac8cc3d38/tensorboard-2.1.1-py3-none-any.whl (3.8MB)\n",
            "\u001b[K     |████████████████████████████████| 3.9MB 33.2MB/s \n",
            "\u001b[?25hRequirement already satisfied: keras-preprocessing>=1.1.0 in /usr/local/lib/python3.6/dist-packages (from tensorflow>=2.0.0) (1.1.0)\n",
            "Requirement already satisfied: gast==0.2.2 in /usr/local/lib/python3.6/dist-packages (from tensorflow>=2.0.0) (0.2.2)\n",
            "Requirement already satisfied: wrapt>=1.11.1 in /usr/local/lib/python3.6/dist-packages (from tensorflow>=2.0.0) (1.11.2)\n",
            "Requirement already satisfied: termcolor>=1.1.0 in /usr/local/lib/python3.6/dist-packages (from tensorflow>=2.0.0) (1.1.0)\n",
            "Requirement already satisfied: keras-applications>=1.0.8 in /usr/local/lib/python3.6/dist-packages (from tensorflow>=2.0.0) (1.0.8)\n",
            "Collecting tensorflow-estimator<2.2.0,>=2.1.0rc0\n",
            "\u001b[?25l  Downloading https://files.pythonhosted.org/packages/18/90/b77c328a1304437ab1310b463e533fa7689f4bfc41549593056d812fab8e/tensorflow_estimator-2.1.0-py2.py3-none-any.whl (448kB)\n",
            "\u001b[K     |████████████████████████████████| 450kB 54.2MB/s \n",
            "\u001b[?25hRequirement already satisfied: google-pasta>=0.1.6 in /usr/local/lib/python3.6/dist-packages (from tensorflow>=2.0.0) (0.1.8)\n",
            "Requirement already satisfied: setuptools in /usr/local/lib/python3.6/dist-packages (from protobuf>=3.8.0->tensorflow>=2.0.0) (45.2.0)\n",
            "Requirement already satisfied: werkzeug>=0.11.15 in /usr/local/lib/python3.6/dist-packages (from tensorboard<2.2.0,>=2.1.0->tensorflow>=2.0.0) (1.0.0)\n",
            "Requirement already satisfied: google-auth-oauthlib<0.5,>=0.4.1 in /usr/local/lib/python3.6/dist-packages (from tensorboard<2.2.0,>=2.1.0->tensorflow>=2.0.0) (0.4.1)\n",
            "Requirement already satisfied: markdown>=2.6.8 in /usr/local/lib/python3.6/dist-packages (from tensorboard<2.2.0,>=2.1.0->tensorflow>=2.0.0) (3.2.1)\n",
            "Requirement already satisfied: google-auth<2,>=1.6.3 in /usr/local/lib/python3.6/dist-packages (from tensorboard<2.2.0,>=2.1.0->tensorflow>=2.0.0) (1.7.2)\n",
            "Requirement already satisfied: requests<3,>=2.21.0 in /usr/local/lib/python3.6/dist-packages (from tensorboard<2.2.0,>=2.1.0->tensorflow>=2.0.0) (2.21.0)\n",
            "Requirement already satisfied: h5py in /usr/local/lib/python3.6/dist-packages (from keras-applications>=1.0.8->tensorflow>=2.0.0) (2.8.0)\n",
            "Requirement already satisfied: requests-oauthlib>=0.7.0 in /usr/local/lib/python3.6/dist-packages (from google-auth-oauthlib<0.5,>=0.4.1->tensorboard<2.2.0,>=2.1.0->tensorflow>=2.0.0) (1.3.0)\n",
            "Requirement already satisfied: rsa<4.1,>=3.1.4 in /usr/local/lib/python3.6/dist-packages (from google-auth<2,>=1.6.3->tensorboard<2.2.0,>=2.1.0->tensorflow>=2.0.0) (4.0)\n",
            "Requirement already satisfied: pyasn1-modules>=0.2.1 in /usr/local/lib/python3.6/dist-packages (from google-auth<2,>=1.6.3->tensorboard<2.2.0,>=2.1.0->tensorflow>=2.0.0) (0.2.8)\n",
            "Requirement already satisfied: cachetools<3.2,>=2.0.0 in /usr/local/lib/python3.6/dist-packages (from google-auth<2,>=1.6.3->tensorboard<2.2.0,>=2.1.0->tensorflow>=2.0.0) (3.1.1)\n",
            "Requirement already satisfied: idna<2.9,>=2.5 in /usr/local/lib/python3.6/dist-packages (from requests<3,>=2.21.0->tensorboard<2.2.0,>=2.1.0->tensorflow>=2.0.0) (2.8)\n",
            "Requirement already satisfied: chardet<3.1.0,>=3.0.2 in /usr/local/lib/python3.6/dist-packages (from requests<3,>=2.21.0->tensorboard<2.2.0,>=2.1.0->tensorflow>=2.0.0) (3.0.4)\n",
            "Requirement already satisfied: urllib3<1.25,>=1.21.1 in /usr/local/lib/python3.6/dist-packages (from requests<3,>=2.21.0->tensorboard<2.2.0,>=2.1.0->tensorflow>=2.0.0) (1.24.3)\n",
            "Requirement already satisfied: certifi>=2017.4.17 in /usr/local/lib/python3.6/dist-packages (from requests<3,>=2.21.0->tensorboard<2.2.0,>=2.1.0->tensorflow>=2.0.0) (2019.11.28)\n",
            "Requirement already satisfied: oauthlib>=3.0.0 in /usr/local/lib/python3.6/dist-packages (from requests-oauthlib>=0.7.0->google-auth-oauthlib<0.5,>=0.4.1->tensorboard<2.2.0,>=2.1.0->tensorflow>=2.0.0) (3.1.0)\n",
            "Requirement already satisfied: pyasn1>=0.1.3 in /usr/local/lib/python3.6/dist-packages (from rsa<4.1,>=3.1.4->google-auth<2,>=1.6.3->tensorboard<2.2.0,>=2.1.0->tensorflow>=2.0.0) (0.4.8)\n",
            "Installing collected packages: tensorboard, tensorflow-estimator, tensorflow\n",
            "  Found existing installation: tensorboard 1.15.0\n",
            "    Uninstalling tensorboard-1.15.0:\n",
            "      Successfully uninstalled tensorboard-1.15.0\n",
            "  Found existing installation: tensorflow-estimator 1.15.1\n",
            "    Uninstalling tensorflow-estimator-1.15.1:\n",
            "      Successfully uninstalled tensorflow-estimator-1.15.1\n",
            "  Found existing installation: tensorflow 1.15.0\n",
            "    Uninstalling tensorflow-1.15.0:\n",
            "      Successfully uninstalled tensorflow-1.15.0\n",
            "Successfully installed tensorboard-2.1.1 tensorflow-2.1.0 tensorflow-estimator-2.1.0\n",
            "2.1.0\n"
          ],
          "name": "stdout"
        }
      ]
    },
    {
      "cell_type": "code",
      "metadata": {
        "id": "dPuOF5-n7zZq",
        "colab_type": "code",
        "colab": {}
      },
      "source": [
        "from sklearn.datasets import load_breast_cancer "
      ],
      "execution_count": 0,
      "outputs": []
    },
    {
      "cell_type": "code",
      "metadata": {
        "id": "ZlGOSeJw8Atd",
        "colab_type": "code",
        "colab": {
          "base_uri": "https://localhost:8080/",
          "height": 162
        },
        "outputId": "7448c6a0-f3aa-42e5-cd86-ed82f540b88d"
      },
      "source": [
        "data = load_breast_cancer()"
      ],
      "execution_count": 2,
      "outputs": [
        {
          "output_type": "error",
          "ename": "NameError",
          "evalue": "ignored",
          "traceback": [
            "\u001b[0;31m---------------------------------------------------------------------------\u001b[0m",
            "\u001b[0;31mNameError\u001b[0m                                 Traceback (most recent call last)",
            "\u001b[0;32m<ipython-input-2-1c7a8e9dcfb6>\u001b[0m in \u001b[0;36m<module>\u001b[0;34m()\u001b[0m\n\u001b[0;32m----> 1\u001b[0;31m \u001b[0mdata\u001b[0m \u001b[0;34m=\u001b[0m \u001b[0mload_breast_cancer\u001b[0m\u001b[0;34m(\u001b[0m\u001b[0;34m)\u001b[0m\u001b[0;34m\u001b[0m\u001b[0;34m\u001b[0m\u001b[0m\n\u001b[0m",
            "\u001b[0;31mNameError\u001b[0m: name 'load_breast_cancer' is not defined"
          ]
        }
      ]
    },
    {
      "cell_type": "code",
      "metadata": {
        "id": "haytqWlw8Jrk",
        "colab_type": "code",
        "colab": {}
      },
      "source": [
        "type(data)"
      ],
      "execution_count": 0,
      "outputs": []
    },
    {
      "cell_type": "code",
      "metadata": {
        "id": "ZOzbz1VJ8MMd",
        "colab_type": "code",
        "outputId": "37bd0d6d-ec04-4156-e925-73e58b395657",
        "colab": {
          "base_uri": "https://localhost:8080/",
          "height": 34
        }
      },
      "source": [
        "data.keys()"
      ],
      "execution_count": 0,
      "outputs": [
        {
          "output_type": "execute_result",
          "data": {
            "text/plain": [
              "dict_keys(['data', 'target', 'target_names', 'DESCR', 'feature_names', 'filename'])"
            ]
          },
          "metadata": {
            "tags": []
          },
          "execution_count": 5
        }
      ]
    },
    {
      "cell_type": "code",
      "metadata": {
        "id": "SdORdohD8Ra7",
        "colab_type": "code",
        "outputId": "605a00c8-6a85-4a93-fe23-bc5cf1873417",
        "colab": {
          "base_uri": "https://localhost:8080/",
          "height": 34
        }
      },
      "source": [
        "data.data.shape"
      ],
      "execution_count": 0,
      "outputs": [
        {
          "output_type": "execute_result",
          "data": {
            "text/plain": [
              "(569, 30)"
            ]
          },
          "metadata": {
            "tags": []
          },
          "execution_count": 6
        }
      ]
    },
    {
      "cell_type": "code",
      "metadata": {
        "id": "BMOnADPw8e3f",
        "colab_type": "code",
        "outputId": "b7294b13-3be8-4b35-e044-adc41c39c695",
        "colab": {
          "base_uri": "https://localhost:8080/",
          "height": 454
        }
      },
      "source": [
        "data.target"
      ],
      "execution_count": 0,
      "outputs": [
        {
          "output_type": "execute_result",
          "data": {
            "text/plain": [
              "array([0, 0, 0, 0, 0, 0, 0, 0, 0, 0, 0, 0, 0, 0, 0, 0, 0, 0, 0, 1, 1, 1,\n",
              "       0, 0, 0, 0, 0, 0, 0, 0, 0, 0, 0, 0, 0, 0, 0, 1, 0, 0, 0, 0, 0, 0,\n",
              "       0, 0, 1, 0, 1, 1, 1, 1, 1, 0, 0, 1, 0, 0, 1, 1, 1, 1, 0, 1, 0, 0,\n",
              "       1, 1, 1, 1, 0, 1, 0, 0, 1, 0, 1, 0, 0, 1, 1, 1, 0, 0, 1, 0, 0, 0,\n",
              "       1, 1, 1, 0, 1, 1, 0, 0, 1, 1, 1, 0, 0, 1, 1, 1, 1, 0, 1, 1, 0, 1,\n",
              "       1, 1, 1, 1, 1, 1, 1, 0, 0, 0, 1, 0, 0, 1, 1, 1, 0, 0, 1, 0, 1, 0,\n",
              "       0, 1, 0, 0, 1, 1, 0, 1, 1, 0, 1, 1, 1, 1, 0, 1, 1, 1, 1, 1, 1, 1,\n",
              "       1, 1, 0, 1, 1, 1, 1, 0, 0, 1, 0, 1, 1, 0, 0, 1, 1, 0, 0, 1, 1, 1,\n",
              "       1, 0, 1, 1, 0, 0, 0, 1, 0, 1, 0, 1, 1, 1, 0, 1, 1, 0, 0, 1, 0, 0,\n",
              "       0, 0, 1, 0, 0, 0, 1, 0, 1, 0, 1, 1, 0, 1, 0, 0, 0, 0, 1, 1, 0, 0,\n",
              "       1, 1, 1, 0, 1, 1, 1, 1, 1, 0, 0, 1, 1, 0, 1, 1, 0, 0, 1, 0, 1, 1,\n",
              "       1, 1, 0, 1, 1, 1, 1, 1, 0, 1, 0, 0, 0, 0, 0, 0, 0, 0, 0, 0, 0, 0,\n",
              "       0, 0, 1, 1, 1, 1, 1, 1, 0, 1, 0, 1, 1, 0, 1, 1, 0, 1, 0, 0, 1, 1,\n",
              "       1, 1, 1, 1, 1, 1, 1, 1, 1, 1, 1, 0, 1, 1, 0, 1, 0, 1, 1, 1, 1, 1,\n",
              "       1, 1, 1, 1, 1, 1, 1, 1, 1, 0, 1, 1, 1, 0, 1, 0, 1, 1, 1, 1, 0, 0,\n",
              "       0, 1, 1, 1, 1, 0, 1, 0, 1, 0, 1, 1, 1, 0, 1, 1, 1, 1, 1, 1, 1, 0,\n",
              "       0, 0, 1, 1, 1, 1, 1, 1, 1, 1, 1, 1, 1, 0, 0, 1, 0, 0, 0, 1, 0, 0,\n",
              "       1, 1, 1, 1, 1, 0, 1, 1, 1, 1, 1, 0, 1, 1, 1, 0, 1, 1, 0, 0, 1, 1,\n",
              "       1, 1, 1, 1, 0, 1, 1, 1, 1, 1, 1, 1, 0, 1, 1, 1, 1, 1, 0, 1, 1, 0,\n",
              "       1, 1, 1, 1, 1, 1, 1, 1, 1, 1, 1, 1, 0, 1, 0, 0, 1, 0, 1, 1, 1, 1,\n",
              "       1, 0, 1, 1, 0, 1, 0, 1, 1, 0, 1, 0, 1, 1, 1, 1, 1, 1, 1, 1, 0, 0,\n",
              "       1, 1, 1, 1, 1, 1, 0, 1, 1, 1, 1, 1, 1, 1, 1, 1, 1, 0, 1, 1, 1, 1,\n",
              "       1, 1, 1, 0, 1, 0, 1, 1, 0, 1, 1, 1, 1, 1, 0, 0, 1, 0, 1, 0, 1, 1,\n",
              "       1, 1, 1, 0, 1, 1, 0, 1, 0, 1, 0, 0, 1, 1, 1, 0, 1, 1, 1, 1, 1, 1,\n",
              "       1, 1, 1, 1, 1, 0, 1, 0, 0, 1, 1, 1, 1, 1, 1, 1, 1, 1, 1, 1, 1, 1,\n",
              "       1, 1, 1, 1, 1, 1, 1, 1, 1, 1, 1, 1, 0, 0, 0, 0, 0, 0, 1])"
            ]
          },
          "metadata": {
            "tags": []
          },
          "execution_count": 7
        }
      ]
    },
    {
      "cell_type": "code",
      "metadata": {
        "id": "8Yuqf4cU8nan",
        "colab_type": "code",
        "outputId": "a287a3e0-9a37-4bc8-bb3b-95832537efad",
        "colab": {
          "base_uri": "https://localhost:8080/",
          "height": 34
        }
      },
      "source": [
        "data.target_names"
      ],
      "execution_count": 0,
      "outputs": [
        {
          "output_type": "execute_result",
          "data": {
            "text/plain": [
              "array(['malignant', 'benign'], dtype='<U9')"
            ]
          },
          "metadata": {
            "tags": []
          },
          "execution_count": 8
        }
      ]
    },
    {
      "cell_type": "code",
      "metadata": {
        "id": "kxK7_RAo8yZ-",
        "colab_type": "code",
        "outputId": "9fa87701-9e86-4847-8f1a-e10e7c38ca89",
        "colab": {
          "base_uri": "https://localhost:8080/",
          "height": 34
        }
      },
      "source": [
        "data.target.shape"
      ],
      "execution_count": 0,
      "outputs": [
        {
          "output_type": "execute_result",
          "data": {
            "text/plain": [
              "(569,)"
            ]
          },
          "metadata": {
            "tags": []
          },
          "execution_count": 9
        }
      ]
    },
    {
      "cell_type": "code",
      "metadata": {
        "id": "h_E3DtRQ8-vD",
        "colab_type": "code",
        "outputId": "853a08d6-3513-4d83-df90-4b0f91b597a6",
        "colab": {
          "base_uri": "https://localhost:8080/",
          "height": 185
        }
      },
      "source": [
        "data.feature_names"
      ],
      "execution_count": 0,
      "outputs": [
        {
          "output_type": "execute_result",
          "data": {
            "text/plain": [
              "array(['mean radius', 'mean texture', 'mean perimeter', 'mean area',\n",
              "       'mean smoothness', 'mean compactness', 'mean concavity',\n",
              "       'mean concave points', 'mean symmetry', 'mean fractal dimension',\n",
              "       'radius error', 'texture error', 'perimeter error', 'area error',\n",
              "       'smoothness error', 'compactness error', 'concavity error',\n",
              "       'concave points error', 'symmetry error',\n",
              "       'fractal dimension error', 'worst radius', 'worst texture',\n",
              "       'worst perimeter', 'worst area', 'worst smoothness',\n",
              "       'worst compactness', 'worst concavity', 'worst concave points',\n",
              "       'worst symmetry', 'worst fractal dimension'], dtype='<U23')"
            ]
          },
          "metadata": {
            "tags": []
          },
          "execution_count": 10
        }
      ]
    },
    {
      "cell_type": "code",
      "metadata": {
        "id": "QIOocWQF9C8t",
        "colab_type": "code",
        "colab": {}
      },
      "source": [
        "from sklearn.model_selection import train_test_split\n",
        "\n",
        "X_train, X_test, y_train, y_test = train_test_split(data.data, data.target, test_size=0.33)\n",
        "N, D = X_train.shape"
      ],
      "execution_count": 0,
      "outputs": []
    },
    {
      "cell_type": "code",
      "metadata": {
        "id": "R8-d2EkQ9pKR",
        "colab_type": "code",
        "colab": {}
      },
      "source": [
        "from sklearn.preprocessing import StandardScaler\n",
        "\n",
        "scaler = StandardScaler()\n",
        "X_train = scaler.fit_transform(X_train)\n",
        "X_test = scaler.transform(X_test)"
      ],
      "execution_count": 0,
      "outputs": []
    },
    {
      "cell_type": "code",
      "metadata": {
        "id": "sW9jk9Bq-T8A",
        "colab_type": "code",
        "outputId": "fcca9bae-778b-4ad2-8b66-fda2053e6631",
        "colab": {
          "base_uri": "https://localhost:8080/",
          "height": 34
        }
      },
      "source": [
        "N"
      ],
      "execution_count": 0,
      "outputs": [
        {
          "output_type": "execute_result",
          "data": {
            "text/plain": [
              "381"
            ]
          },
          "metadata": {
            "tags": []
          },
          "execution_count": 13
        }
      ]
    },
    {
      "cell_type": "code",
      "metadata": {
        "id": "3PJT7XLV_hXk",
        "colab_type": "code",
        "outputId": "cd1a0212-fbdc-452b-c435-b0633ae15819",
        "colab": {
          "base_uri": "https://localhost:8080/",
          "height": 1000
        }
      },
      "source": [
        "model = tf.keras.models.Sequential([tf.keras.layers.Input(shape=(D,)), tf.keras.layers.Dense(1,activation='sigmoid')])\n",
        "\n",
        "model.compile(optimizer='adam', loss = 'binary_crossentropy', metrics = ['accuracy'] )\n",
        "\n",
        "r = model.fit(X_train, y_train, validation_data = (X_test, y_test), epochs=100)\n",
        "\n",
        "\n",
        "print(\"Train score:\", model.evaluate(X_train, y_train))\n",
        "print(\"Test score\", model.evaluate(X_test, y_test))"
      ],
      "execution_count": 0,
      "outputs": [
        {
          "output_type": "stream",
          "text": [
            "Train on 381 samples, validate on 188 samples\n",
            "Epoch 1/100\n",
            "381/381 [==============================] - 0s 1ms/sample - loss: 0.8827 - accuracy: 0.4541 - val_loss: 0.7794 - val_accuracy: 0.4947\n",
            "Epoch 2/100\n",
            "381/381 [==============================] - 0s 94us/sample - loss: 0.7982 - accuracy: 0.5013 - val_loss: 0.7134 - val_accuracy: 0.5532\n",
            "Epoch 3/100\n",
            "381/381 [==============================] - 0s 92us/sample - loss: 0.7227 - accuracy: 0.5433 - val_loss: 0.6564 - val_accuracy: 0.5904\n",
            "Epoch 4/100\n",
            "381/381 [==============================] - 0s 109us/sample - loss: 0.6609 - accuracy: 0.5984 - val_loss: 0.6068 - val_accuracy: 0.6436\n",
            "Epoch 5/100\n",
            "381/381 [==============================] - 0s 115us/sample - loss: 0.6055 - accuracy: 0.6640 - val_loss: 0.5643 - val_accuracy: 0.6755\n",
            "Epoch 6/100\n",
            "381/381 [==============================] - 0s 100us/sample - loss: 0.5597 - accuracy: 0.7008 - val_loss: 0.5279 - val_accuracy: 0.7287\n",
            "Epoch 7/100\n",
            "381/381 [==============================] - 0s 97us/sample - loss: 0.5210 - accuracy: 0.7375 - val_loss: 0.4962 - val_accuracy: 0.7447\n",
            "Epoch 8/100\n",
            "381/381 [==============================] - 0s 96us/sample - loss: 0.4869 - accuracy: 0.7717 - val_loss: 0.4689 - val_accuracy: 0.7660\n",
            "Epoch 9/100\n",
            "381/381 [==============================] - 0s 97us/sample - loss: 0.4583 - accuracy: 0.7953 - val_loss: 0.4444 - val_accuracy: 0.7979\n",
            "Epoch 10/100\n",
            "381/381 [==============================] - 0s 93us/sample - loss: 0.4332 - accuracy: 0.8241 - val_loss: 0.4230 - val_accuracy: 0.8032\n",
            "Epoch 11/100\n",
            "381/381 [==============================] - 0s 107us/sample - loss: 0.4116 - accuracy: 0.8320 - val_loss: 0.4034 - val_accuracy: 0.8245\n",
            "Epoch 12/100\n",
            "381/381 [==============================] - 0s 107us/sample - loss: 0.3916 - accuracy: 0.8478 - val_loss: 0.3863 - val_accuracy: 0.8298\n",
            "Epoch 13/100\n",
            "381/381 [==============================] - 0s 100us/sample - loss: 0.3739 - accuracy: 0.8504 - val_loss: 0.3708 - val_accuracy: 0.8404\n",
            "Epoch 14/100\n",
            "381/381 [==============================] - 0s 103us/sample - loss: 0.3584 - accuracy: 0.8635 - val_loss: 0.3567 - val_accuracy: 0.8511\n",
            "Epoch 15/100\n",
            "381/381 [==============================] - 0s 94us/sample - loss: 0.3445 - accuracy: 0.8714 - val_loss: 0.3439 - val_accuracy: 0.8617\n",
            "Epoch 16/100\n",
            "381/381 [==============================] - 0s 104us/sample - loss: 0.3316 - accuracy: 0.8740 - val_loss: 0.3322 - val_accuracy: 0.8670\n",
            "Epoch 17/100\n",
            "381/381 [==============================] - 0s 100us/sample - loss: 0.3200 - accuracy: 0.8766 - val_loss: 0.3213 - val_accuracy: 0.8670\n",
            "Epoch 18/100\n",
            "381/381 [==============================] - 0s 115us/sample - loss: 0.3094 - accuracy: 0.8819 - val_loss: 0.3111 - val_accuracy: 0.8777\n",
            "Epoch 19/100\n",
            "381/381 [==============================] - 0s 101us/sample - loss: 0.2994 - accuracy: 0.8845 - val_loss: 0.3020 - val_accuracy: 0.8830\n",
            "Epoch 20/100\n",
            "381/381 [==============================] - 0s 98us/sample - loss: 0.2903 - accuracy: 0.8871 - val_loss: 0.2935 - val_accuracy: 0.8830\n",
            "Epoch 21/100\n",
            "381/381 [==============================] - 0s 105us/sample - loss: 0.2824 - accuracy: 0.8871 - val_loss: 0.2852 - val_accuracy: 0.8883\n",
            "Epoch 22/100\n",
            "381/381 [==============================] - 0s 92us/sample - loss: 0.2741 - accuracy: 0.8924 - val_loss: 0.2778 - val_accuracy: 0.8883\n",
            "Epoch 23/100\n",
            "381/381 [==============================] - 0s 104us/sample - loss: 0.2669 - accuracy: 0.8950 - val_loss: 0.2709 - val_accuracy: 0.8936\n",
            "Epoch 24/100\n",
            "381/381 [==============================] - 0s 100us/sample - loss: 0.2601 - accuracy: 0.8976 - val_loss: 0.2642 - val_accuracy: 0.8936\n",
            "Epoch 25/100\n",
            "381/381 [==============================] - 0s 110us/sample - loss: 0.2537 - accuracy: 0.9003 - val_loss: 0.2581 - val_accuracy: 0.8936\n",
            "Epoch 26/100\n",
            "381/381 [==============================] - 0s 118us/sample - loss: 0.2478 - accuracy: 0.9055 - val_loss: 0.2521 - val_accuracy: 0.8989\n",
            "Epoch 27/100\n",
            "381/381 [==============================] - 0s 96us/sample - loss: 0.2421 - accuracy: 0.9081 - val_loss: 0.2466 - val_accuracy: 0.9043\n",
            "Epoch 28/100\n",
            "381/381 [==============================] - 0s 107us/sample - loss: 0.2367 - accuracy: 0.9055 - val_loss: 0.2414 - val_accuracy: 0.9149\n",
            "Epoch 29/100\n",
            "381/381 [==============================] - 0s 109us/sample - loss: 0.2316 - accuracy: 0.9055 - val_loss: 0.2363 - val_accuracy: 0.9149\n",
            "Epoch 30/100\n",
            "381/381 [==============================] - 0s 101us/sample - loss: 0.2270 - accuracy: 0.9081 - val_loss: 0.2314 - val_accuracy: 0.9149\n",
            "Epoch 31/100\n",
            "381/381 [==============================] - 0s 102us/sample - loss: 0.2223 - accuracy: 0.9108 - val_loss: 0.2268 - val_accuracy: 0.9149\n",
            "Epoch 32/100\n",
            "381/381 [==============================] - 0s 101us/sample - loss: 0.2180 - accuracy: 0.9108 - val_loss: 0.2224 - val_accuracy: 0.9255\n",
            "Epoch 33/100\n",
            "381/381 [==============================] - 0s 105us/sample - loss: 0.2140 - accuracy: 0.9160 - val_loss: 0.2184 - val_accuracy: 0.9255\n",
            "Epoch 34/100\n",
            "381/381 [==============================] - 0s 105us/sample - loss: 0.2100 - accuracy: 0.9160 - val_loss: 0.2143 - val_accuracy: 0.9309\n",
            "Epoch 35/100\n",
            "381/381 [==============================] - 0s 102us/sample - loss: 0.2062 - accuracy: 0.9186 - val_loss: 0.2106 - val_accuracy: 0.9309\n",
            "Epoch 36/100\n",
            "381/381 [==============================] - 0s 98us/sample - loss: 0.2027 - accuracy: 0.9186 - val_loss: 0.2070 - val_accuracy: 0.9309\n",
            "Epoch 37/100\n",
            "381/381 [==============================] - 0s 113us/sample - loss: 0.1993 - accuracy: 0.9186 - val_loss: 0.2035 - val_accuracy: 0.9309\n",
            "Epoch 38/100\n",
            "381/381 [==============================] - 0s 122us/sample - loss: 0.1960 - accuracy: 0.9186 - val_loss: 0.2002 - val_accuracy: 0.9309\n",
            "Epoch 39/100\n",
            "381/381 [==============================] - 0s 103us/sample - loss: 0.1929 - accuracy: 0.9239 - val_loss: 0.1970 - val_accuracy: 0.9362\n",
            "Epoch 40/100\n",
            "381/381 [==============================] - 0s 88us/sample - loss: 0.1899 - accuracy: 0.9265 - val_loss: 0.1940 - val_accuracy: 0.9362\n",
            "Epoch 41/100\n",
            "381/381 [==============================] - 0s 102us/sample - loss: 0.1872 - accuracy: 0.9291 - val_loss: 0.1909 - val_accuracy: 0.9362\n",
            "Epoch 42/100\n",
            "381/381 [==============================] - 0s 95us/sample - loss: 0.1843 - accuracy: 0.9291 - val_loss: 0.1882 - val_accuracy: 0.9362\n",
            "Epoch 43/100\n",
            "381/381 [==============================] - 0s 100us/sample - loss: 0.1817 - accuracy: 0.9291 - val_loss: 0.1855 - val_accuracy: 0.9362\n",
            "Epoch 44/100\n",
            "381/381 [==============================] - 0s 99us/sample - loss: 0.1791 - accuracy: 0.9291 - val_loss: 0.1829 - val_accuracy: 0.9362\n",
            "Epoch 45/100\n",
            "381/381 [==============================] - 0s 101us/sample - loss: 0.1768 - accuracy: 0.9318 - val_loss: 0.1803 - val_accuracy: 0.9362\n",
            "Epoch 46/100\n",
            "381/381 [==============================] - 0s 103us/sample - loss: 0.1744 - accuracy: 0.9318 - val_loss: 0.1778 - val_accuracy: 0.9362\n",
            "Epoch 47/100\n",
            "381/381 [==============================] - 0s 105us/sample - loss: 0.1721 - accuracy: 0.9318 - val_loss: 0.1757 - val_accuracy: 0.9362\n",
            "Epoch 48/100\n",
            "381/381 [==============================] - 0s 103us/sample - loss: 0.1699 - accuracy: 0.9318 - val_loss: 0.1733 - val_accuracy: 0.9362\n",
            "Epoch 49/100\n",
            "381/381 [==============================] - 0s 88us/sample - loss: 0.1678 - accuracy: 0.9318 - val_loss: 0.1710 - val_accuracy: 0.9415\n",
            "Epoch 50/100\n",
            "381/381 [==============================] - 0s 102us/sample - loss: 0.1657 - accuracy: 0.9318 - val_loss: 0.1689 - val_accuracy: 0.9415\n",
            "Epoch 51/100\n",
            "381/381 [==============================] - 0s 95us/sample - loss: 0.1638 - accuracy: 0.9344 - val_loss: 0.1668 - val_accuracy: 0.9415\n",
            "Epoch 52/100\n",
            "381/381 [==============================] - 0s 102us/sample - loss: 0.1619 - accuracy: 0.9344 - val_loss: 0.1648 - val_accuracy: 0.9415\n",
            "Epoch 53/100\n",
            "381/381 [==============================] - 0s 96us/sample - loss: 0.1600 - accuracy: 0.9344 - val_loss: 0.1628 - val_accuracy: 0.9415\n",
            "Epoch 54/100\n",
            "381/381 [==============================] - 0s 105us/sample - loss: 0.1582 - accuracy: 0.9370 - val_loss: 0.1610 - val_accuracy: 0.9415\n",
            "Epoch 55/100\n",
            "381/381 [==============================] - 0s 103us/sample - loss: 0.1565 - accuracy: 0.9370 - val_loss: 0.1592 - val_accuracy: 0.9415\n",
            "Epoch 56/100\n",
            "381/381 [==============================] - 0s 101us/sample - loss: 0.1548 - accuracy: 0.9370 - val_loss: 0.1574 - val_accuracy: 0.9415\n",
            "Epoch 57/100\n",
            "381/381 [==============================] - 0s 98us/sample - loss: 0.1532 - accuracy: 0.9370 - val_loss: 0.1558 - val_accuracy: 0.9415\n",
            "Epoch 58/100\n",
            "381/381 [==============================] - 0s 148us/sample - loss: 0.1516 - accuracy: 0.9370 - val_loss: 0.1541 - val_accuracy: 0.9415\n",
            "Epoch 59/100\n",
            "381/381 [==============================] - 0s 147us/sample - loss: 0.1500 - accuracy: 0.9370 - val_loss: 0.1525 - val_accuracy: 0.9415\n",
            "Epoch 60/100\n",
            "381/381 [==============================] - 0s 105us/sample - loss: 0.1486 - accuracy: 0.9370 - val_loss: 0.1508 - val_accuracy: 0.9468\n",
            "Epoch 61/100\n",
            "381/381 [==============================] - 0s 91us/sample - loss: 0.1472 - accuracy: 0.9370 - val_loss: 0.1492 - val_accuracy: 0.9468\n",
            "Epoch 62/100\n",
            "381/381 [==============================] - 0s 99us/sample - loss: 0.1456 - accuracy: 0.9370 - val_loss: 0.1478 - val_accuracy: 0.9521\n",
            "Epoch 63/100\n",
            "381/381 [==============================] - 0s 100us/sample - loss: 0.1444 - accuracy: 0.9370 - val_loss: 0.1463 - val_accuracy: 0.9521\n",
            "Epoch 64/100\n",
            "381/381 [==============================] - 0s 98us/sample - loss: 0.1430 - accuracy: 0.9370 - val_loss: 0.1449 - val_accuracy: 0.9521\n",
            "Epoch 65/100\n",
            "381/381 [==============================] - 0s 100us/sample - loss: 0.1417 - accuracy: 0.9370 - val_loss: 0.1435 - val_accuracy: 0.9521\n",
            "Epoch 66/100\n",
            "381/381 [==============================] - 0s 97us/sample - loss: 0.1405 - accuracy: 0.9370 - val_loss: 0.1421 - val_accuracy: 0.9521\n",
            "Epoch 67/100\n",
            "381/381 [==============================] - 0s 98us/sample - loss: 0.1392 - accuracy: 0.9370 - val_loss: 0.1409 - val_accuracy: 0.9521\n",
            "Epoch 68/100\n",
            "381/381 [==============================] - 0s 123us/sample - loss: 0.1380 - accuracy: 0.9396 - val_loss: 0.1396 - val_accuracy: 0.9574\n",
            "Epoch 69/100\n",
            "381/381 [==============================] - 0s 113us/sample - loss: 0.1369 - accuracy: 0.9396 - val_loss: 0.1382 - val_accuracy: 0.9574\n",
            "Epoch 70/100\n",
            "381/381 [==============================] - 0s 93us/sample - loss: 0.1357 - accuracy: 0.9423 - val_loss: 0.1371 - val_accuracy: 0.9574\n",
            "Epoch 71/100\n",
            "381/381 [==============================] - 0s 98us/sample - loss: 0.1346 - accuracy: 0.9423 - val_loss: 0.1360 - val_accuracy: 0.9574\n",
            "Epoch 72/100\n",
            "381/381 [==============================] - 0s 91us/sample - loss: 0.1335 - accuracy: 0.9423 - val_loss: 0.1348 - val_accuracy: 0.9574\n",
            "Epoch 73/100\n",
            "381/381 [==============================] - 0s 86us/sample - loss: 0.1324 - accuracy: 0.9449 - val_loss: 0.1336 - val_accuracy: 0.9574\n",
            "Epoch 74/100\n",
            "381/381 [==============================] - 0s 104us/sample - loss: 0.1314 - accuracy: 0.9449 - val_loss: 0.1324 - val_accuracy: 0.9681\n",
            "Epoch 75/100\n",
            "381/381 [==============================] - 0s 117us/sample - loss: 0.1304 - accuracy: 0.9449 - val_loss: 0.1313 - val_accuracy: 0.9681\n",
            "Epoch 76/100\n",
            "381/381 [==============================] - 0s 99us/sample - loss: 0.1294 - accuracy: 0.9475 - val_loss: 0.1303 - val_accuracy: 0.9681\n",
            "Epoch 77/100\n",
            "381/381 [==============================] - 0s 96us/sample - loss: 0.1284 - accuracy: 0.9475 - val_loss: 0.1293 - val_accuracy: 0.9681\n",
            "Epoch 78/100\n",
            "381/381 [==============================] - 0s 95us/sample - loss: 0.1275 - accuracy: 0.9475 - val_loss: 0.1282 - val_accuracy: 0.9681\n",
            "Epoch 79/100\n",
            "381/381 [==============================] - 0s 109us/sample - loss: 0.1266 - accuracy: 0.9475 - val_loss: 0.1272 - val_accuracy: 0.9681\n",
            "Epoch 80/100\n",
            "381/381 [==============================] - 0s 114us/sample - loss: 0.1256 - accuracy: 0.9475 - val_loss: 0.1263 - val_accuracy: 0.9681\n",
            "Epoch 81/100\n",
            "381/381 [==============================] - 0s 112us/sample - loss: 0.1247 - accuracy: 0.9501 - val_loss: 0.1253 - val_accuracy: 0.9681\n",
            "Epoch 82/100\n",
            "381/381 [==============================] - 0s 98us/sample - loss: 0.1238 - accuracy: 0.9501 - val_loss: 0.1244 - val_accuracy: 0.9681\n",
            "Epoch 83/100\n",
            "381/381 [==============================] - 0s 98us/sample - loss: 0.1230 - accuracy: 0.9501 - val_loss: 0.1235 - val_accuracy: 0.9681\n",
            "Epoch 84/100\n",
            "381/381 [==============================] - 0s 90us/sample - loss: 0.1222 - accuracy: 0.9501 - val_loss: 0.1225 - val_accuracy: 0.9681\n",
            "Epoch 85/100\n",
            "381/381 [==============================] - 0s 99us/sample - loss: 0.1213 - accuracy: 0.9501 - val_loss: 0.1216 - val_accuracy: 0.9734\n",
            "Epoch 86/100\n",
            "381/381 [==============================] - 0s 115us/sample - loss: 0.1205 - accuracy: 0.9501 - val_loss: 0.1207 - val_accuracy: 0.9734\n",
            "Epoch 87/100\n",
            "381/381 [==============================] - 0s 108us/sample - loss: 0.1197 - accuracy: 0.9501 - val_loss: 0.1198 - val_accuracy: 0.9734\n",
            "Epoch 88/100\n",
            "381/381 [==============================] - 0s 98us/sample - loss: 0.1189 - accuracy: 0.9501 - val_loss: 0.1190 - val_accuracy: 0.9734\n",
            "Epoch 89/100\n",
            "381/381 [==============================] - 0s 95us/sample - loss: 0.1182 - accuracy: 0.9528 - val_loss: 0.1182 - val_accuracy: 0.9734\n",
            "Epoch 90/100\n",
            "381/381 [==============================] - 0s 100us/sample - loss: 0.1175 - accuracy: 0.9528 - val_loss: 0.1174 - val_accuracy: 0.9734\n",
            "Epoch 91/100\n",
            "381/381 [==============================] - 0s 109us/sample - loss: 0.1167 - accuracy: 0.9528 - val_loss: 0.1166 - val_accuracy: 0.9734\n",
            "Epoch 92/100\n",
            "381/381 [==============================] - 0s 111us/sample - loss: 0.1160 - accuracy: 0.9528 - val_loss: 0.1159 - val_accuracy: 0.9734\n",
            "Epoch 93/100\n",
            "381/381 [==============================] - 0s 108us/sample - loss: 0.1152 - accuracy: 0.9554 - val_loss: 0.1151 - val_accuracy: 0.9734\n",
            "Epoch 94/100\n",
            "381/381 [==============================] - 0s 95us/sample - loss: 0.1146 - accuracy: 0.9554 - val_loss: 0.1143 - val_accuracy: 0.9734\n",
            "Epoch 95/100\n",
            "381/381 [==============================] - 0s 116us/sample - loss: 0.1139 - accuracy: 0.9554 - val_loss: 0.1136 - val_accuracy: 0.9734\n",
            "Epoch 96/100\n",
            "381/381 [==============================] - 0s 97us/sample - loss: 0.1133 - accuracy: 0.9554 - val_loss: 0.1129 - val_accuracy: 0.9734\n",
            "Epoch 97/100\n",
            "381/381 [==============================] - 0s 95us/sample - loss: 0.1125 - accuracy: 0.9580 - val_loss: 0.1122 - val_accuracy: 0.9734\n",
            "Epoch 98/100\n",
            "381/381 [==============================] - 0s 123us/sample - loss: 0.1119 - accuracy: 0.9580 - val_loss: 0.1115 - val_accuracy: 0.9734\n",
            "Epoch 99/100\n",
            "381/381 [==============================] - 0s 107us/sample - loss: 0.1113 - accuracy: 0.9580 - val_loss: 0.1108 - val_accuracy: 0.9734\n",
            "Epoch 100/100\n",
            "381/381 [==============================] - 0s 106us/sample - loss: 0.1107 - accuracy: 0.9580 - val_loss: 0.1101 - val_accuracy: 0.9734\n",
            "381/381 [==============================] - 0s 46us/sample - loss: 0.1103 - accuracy: 0.9580\n",
            "Train score: [0.11026635261501853, 0.95800525]\n",
            "188/188 [==============================] - 0s 70us/sample - loss: 0.1101 - accuracy: 0.9734\n",
            "Test score [0.11014290098497208, 0.9734042]\n"
          ],
          "name": "stdout"
        }
      ]
    },
    {
      "cell_type": "code",
      "metadata": {
        "id": "gmzXDosqCShb",
        "colab_type": "code",
        "outputId": "7440f14e-925f-455a-f279-a8ff2e790e91",
        "colab": {
          "base_uri": "https://localhost:8080/",
          "height": 282
        }
      },
      "source": [
        "import matplotlib.pyplot as plt\n",
        "\n",
        "plt.plot(r.history['loss'], label='loss')\n",
        "plt.plot(r.history['val_loss'], label='val_loss')\n",
        "plt.legend()"
      ],
      "execution_count": 0,
      "outputs": [
        {
          "output_type": "execute_result",
          "data": {
            "text/plain": [
              "<matplotlib.legend.Legend at 0x7f338f951748>"
            ]
          },
          "metadata": {
            "tags": []
          },
          "execution_count": 15
        },
        {
          "output_type": "display_data",
          "data": {
            "image/png": "[encoded data removed]",
            "text/plain": [
              "<Figure size 432x288 with 1 Axes>"
            ]
          },
          "metadata": {
            "tags": []
          }
        }
      ]
    },
    {
      "cell_type": "code",
      "metadata": {
        "id": "o-yM8k22Cqh1",
        "colab_type": "code",
        "outputId": "4e2da25f-d263-4751-b7af-69e374f415af",
        "colab": {
          "base_uri": "https://localhost:8080/",
          "height": 282
        }
      },
      "source": [
        "plt.plot(r.history['accuracy'], label='acc')\n",
        "plt.plot(r.history['val_accuracy'], label='val_acc')\n",
        "plt.legend()"
      ],
      "execution_count": 0,
      "outputs": [
        {
          "output_type": "execute_result",
          "data": {
            "text/plain": [
              "<matplotlib.legend.Legend at 0x7f338f429d68>"
            ]
          },
          "metadata": {
            "tags": []
          },
          "execution_count": 16
        },
        {
          "output_type": "display_data",
          "data": {
            "image/png": "[encoded data removed]",
            "text/plain": [
              "<Figure size 432x288 with 1 Axes>"
            ]
          },
          "metadata": {
            "tags": []
          }
        }
      ]
    }
  ]
}