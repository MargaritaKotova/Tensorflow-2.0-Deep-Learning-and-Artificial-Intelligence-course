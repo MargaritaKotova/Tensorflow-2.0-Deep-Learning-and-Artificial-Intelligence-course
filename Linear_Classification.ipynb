{
  "nbformat": 4,
  "nbformat_minor": 0,
  "metadata": {
    "colab": {
      "name": "Linear Classification.ipynb",
      "provenance": [],
      "collapsed_sections": [],
      "authorship_tag": "ABX9TyPAHg/yIownbR4dj1cmVBJ4",
      "include_colab_link": true
    },
    "kernelspec": {
      "name": "python3",
      "display_name": "Python 3"
    }
  },
  "cells": [
    {
      "cell_type": "markdown",
      "metadata": {
        "id": "view-in-github",
        "colab_type": "text"
      },
      "source": [
        "<a href=\"https://colab.research.google.com/github/MargaritaKotova/Tensorflow-2.0-Deep-Learning-and-Artificial-Intelligence-course/blob/master/Linear_Classification.ipynb\" target=\"_parent\"><img src=\"https://colab.research.google.com/assets/colab-badge.svg\" alt=\"Open In Colab\"/></a>"
      ]
    },
    {
      "cell_type": "code",
      "metadata": {
        "id": "IwJSATi47lbc",
        "colab_type": "code",
        "outputId": "aeacd474-6533-4ff7-bf99-01e916785d3e",
        "colab": {
          "base_uri": "https://localhost:8080/",
          "height": 927
        }
      },
      "source": [
        " !pip install \"tensorflow>=2.0.0\"\n",
        " import tensorflow as tf\n",
        "print(tf.__version__)"
      ],
      "execution_count": 1,
      "outputs": [
        {
          "output_type": "stream",
          "text": [
            "Collecting tensorflow>=2.0.0\n",
            "\u001b[?25l  Downloading https://files.pythonhosted.org/packages/85/d4/c0cd1057b331bc38b65478302114194bd8e1b9c2bbc06e300935c0e93d90/tensorflow-2.1.0-cp36-cp36m-manylinux2010_x86_64.whl (421.8MB)\n",
            "\u001b[K     |████████████████████████████████| 421.8MB 34kB/s \n",
            "\u001b[?25hRequirement already satisfied: wheel>=0.26; python_version >= \"3\" in /usr/local/lib/python3.6/dist-packages (from tensorflow>=2.0.0) (0.34.2)\n",
            "Requirement already satisfied: opt-einsum>=2.3.2 in /usr/local/lib/python3.6/dist-packages (from tensorflow>=2.0.0) (3.1.0)\n",
            "Requirement already satisfied: six>=1.12.0 in /usr/local/lib/python3.6/dist-packages (from tensorflow>=2.0.0) (1.12.0)\n",
            "Requirement already satisfied: astor>=0.6.0 in /usr/local/lib/python3.6/dist-packages (from tensorflow>=2.0.0) (0.8.1)\n",
            "Requirement already satisfied: absl-py>=0.7.0 in /usr/local/lib/python3.6/dist-packages (from tensorflow>=2.0.0) (0.9.0)\n",
            "Requirement already satisfied: grpcio>=1.8.6 in /usr/local/lib/python3.6/dist-packages (from tensorflow>=2.0.0) (1.27.1)\n",
            "Requirement already satisfied: scipy==1.4.1; python_version >= \"3\" in /usr/local/lib/python3.6/dist-packages (from tensorflow>=2.0.0) (1.4.1)\n",
            "Requirement already satisfied: numpy<2.0,>=1.16.0 in /usr/local/lib/python3.6/dist-packages (from tensorflow>=2.0.0) (1.17.5)\n",
            "Requirement already satisfied: protobuf>=3.8.0 in /usr/local/lib/python3.6/dist-packages (from tensorflow>=2.0.0) (3.10.0)\n",
            "Collecting tensorboard<2.2.0,>=2.1.0\n",
            "\u001b[?25l  Downloading https://files.pythonhosted.org/packages/d9/41/bbf49b61370e4f4d245d4c6051dfb6db80cec672605c91b1652ac8cc3d38/tensorboard-2.1.1-py3-none-any.whl (3.8MB)\n",
            "\u001b[K     |████████████████████████████████| 3.9MB 33.2MB/s \n",
            "\u001b[?25hRequirement already satisfied: keras-preprocessing>=1.1.0 in /usr/local/lib/python3.6/dist-packages (from tensorflow>=2.0.0) (1.1.0)\n",
            "Requirement already satisfied: gast==0.2.2 in /usr/local/lib/python3.6/dist-packages (from tensorflow>=2.0.0) (0.2.2)\n",
            "Requirement already satisfied: wrapt>=1.11.1 in /usr/local/lib/python3.6/dist-packages (from tensorflow>=2.0.0) (1.11.2)\n",
            "Requirement already satisfied: termcolor>=1.1.0 in /usr/local/lib/python3.6/dist-packages (from tensorflow>=2.0.0) (1.1.0)\n",
            "Requirement already satisfied: keras-applications>=1.0.8 in /usr/local/lib/python3.6/dist-packages (from tensorflow>=2.0.0) (1.0.8)\n",
            "Collecting tensorflow-estimator<2.2.0,>=2.1.0rc0\n",
            "\u001b[?25l  Downloading https://files.pythonhosted.org/packages/18/90/b77c328a1304437ab1310b463e533fa7689f4bfc41549593056d812fab8e/tensorflow_estimator-2.1.0-py2.py3-none-any.whl (448kB)\n",
            "\u001b[K     |████████████████████████████████| 450kB 54.2MB/s \n",
            "\u001b[?25hRequirement already satisfied: google-pasta>=0.1.6 in /usr/local/lib/python3.6/dist-packages (from tensorflow>=2.0.0) (0.1.8)\n",
            "Requirement already satisfied: setuptools in /usr/local/lib/python3.6/dist-packages (from protobuf>=3.8.0->tensorflow>=2.0.0) (45.2.0)\n",
            "Requirement already satisfied: werkzeug>=0.11.15 in /usr/local/lib/python3.6/dist-packages (from tensorboard<2.2.0,>=2.1.0->tensorflow>=2.0.0) (1.0.0)\n",
            "Requirement already satisfied: google-auth-oauthlib<0.5,>=0.4.1 in /usr/local/lib/python3.6/dist-packages (from tensorboard<2.2.0,>=2.1.0->tensorflow>=2.0.0) (0.4.1)\n",
            "Requirement already satisfied: markdown>=2.6.8 in /usr/local/lib/python3.6/dist-packages (from tensorboard<2.2.0,>=2.1.0->tensorflow>=2.0.0) (3.2.1)\n",
            "Requirement already satisfied: google-auth<2,>=1.6.3 in /usr/local/lib/python3.6/dist-packages (from tensorboard<2.2.0,>=2.1.0->tensorflow>=2.0.0) (1.7.2)\n",
            "Requirement already satisfied: requests<3,>=2.21.0 in /usr/local/lib/python3.6/dist-packages (from tensorboard<2.2.0,>=2.1.0->tensorflow>=2.0.0) (2.21.0)\n",
            "Requirement already satisfied: h5py in /usr/local/lib/python3.6/dist-packages (from keras-applications>=1.0.8->tensorflow>=2.0.0) (2.8.0)\n",
            "Requirement already satisfied: requests-oauthlib>=0.7.0 in /usr/local/lib/python3.6/dist-packages (from google-auth-oauthlib<0.5,>=0.4.1->tensorboard<2.2.0,>=2.1.0->tensorflow>=2.0.0) (1.3.0)\n",
            "Requirement already satisfied: rsa<4.1,>=3.1.4 in /usr/local/lib/python3.6/dist-packages (from google-auth<2,>=1.6.3->tensorboard<2.2.0,>=2.1.0->tensorflow>=2.0.0) (4.0)\n",
            "Requirement already satisfied: pyasn1-modules>=0.2.1 in /usr/local/lib/python3.6/dist-packages (from google-auth<2,>=1.6.3->tensorboard<2.2.0,>=2.1.0->tensorflow>=2.0.0) (0.2.8)\n",
            "Requirement already satisfied: cachetools<3.2,>=2.0.0 in /usr/local/lib/python3.6/dist-packages (from google-auth<2,>=1.6.3->tensorboard<2.2.0,>=2.1.0->tensorflow>=2.0.0) (3.1.1)\n",
            "Requirement already satisfied: idna<2.9,>=2.5 in /usr/local/lib/python3.6/dist-packages (from requests<3,>=2.21.0->tensorboard<2.2.0,>=2.1.0->tensorflow>=2.0.0) (2.8)\n",
            "Requirement already satisfied: chardet<3.1.0,>=3.0.2 in /usr/local/lib/python3.6/dist-packages (from requests<3,>=2.21.0->tensorboard<2.2.0,>=2.1.0->tensorflow>=2.0.0) (3.0.4)\n",
            "Requirement already satisfied: urllib3<1.25,>=1.21.1 in /usr/local/lib/python3.6/dist-packages (from requests<3,>=2.21.0->tensorboard<2.2.0,>=2.1.0->tensorflow>=2.0.0) (1.24.3)\n",
            "Requirement already satisfied: certifi>=2017.4.17 in /usr/local/lib/python3.6/dist-packages (from requests<3,>=2.21.0->tensorboard<2.2.0,>=2.1.0->tensorflow>=2.0.0) (2019.11.28)\n",
            "Requirement already satisfied: oauthlib>=3.0.0 in /usr/local/lib/python3.6/dist-packages (from requests-oauthlib>=0.7.0->google-auth-oauthlib<0.5,>=0.4.1->tensorboard<2.2.0,>=2.1.0->tensorflow>=2.0.0) (3.1.0)\n",
            "Requirement already satisfied: pyasn1>=0.1.3 in /usr/local/lib/python3.6/dist-packages (from rsa<4.1,>=3.1.4->google-auth<2,>=1.6.3->tensorboard<2.2.0,>=2.1.0->tensorflow>=2.0.0) (0.4.8)\n",
            "Installing collected packages: tensorboard, tensorflow-estimator, tensorflow\n",
            "  Found existing installation: tensorboard 1.15.0\n",
            "    Uninstalling tensorboard-1.15.0:\n",
            "      Successfully uninstalled tensorboard-1.15.0\n",
            "  Found existing installation: tensorflow-estimator 1.15.1\n",
            "    Uninstalling tensorflow-estimator-1.15.1:\n",
            "      Successfully uninstalled tensorflow-estimator-1.15.1\n",
            "  Found existing installation: tensorflow 1.15.0\n",
            "    Uninstalling tensorflow-1.15.0:\n",
            "      Successfully uninstalled tensorflow-1.15.0\n",
            "Successfully installed tensorboard-2.1.1 tensorflow-2.1.0 tensorflow-estimator-2.1.0\n",
            "2.1.0\n"
          ],
          "name": "stdout"
        }
      ]
    },
    {
      "cell_type": "code",
      "metadata": {
        "id": "dPuOF5-n7zZq",
        "colab_type": "code",
        "colab": {}
      },
      "source": [
        "from sklearn.datasets import load_breast_cancer "
      ],
      "execution_count": 0,
      "outputs": []
    },
    {
      "cell_type": "code",
      "metadata": {
        "id": "ZlGOSeJw8Atd",
        "colab_type": "code",
        "colab": {}
      },
      "source": [
        "data = load_breast_cancer()"
      ],
      "execution_count": 0,
      "outputs": []
    },
    {
      "cell_type": "code",
      "metadata": {
        "id": "haytqWlw8Jrk",
        "colab_type": "code",
        "colab": {}
      },
      "source": [
        "type(data)"
      ],
      "execution_count": 0,
      "outputs": []
    },
    {
      "cell_type": "code",
      "metadata": {
        "id": "ZOzbz1VJ8MMd",
        "colab_type": "code",
        "outputId": "15ecba74-1bb0-4392-81c2-951a2dd20d5c",
        "colab": {
          "base_uri": "https://localhost:8080/",
          "height": 34
        }
      },
      "source": [
        "data.keys()"
      ],
      "execution_count": 6,
      "outputs": [
        {
          "output_type": "execute_result",
          "data": {
            "text/plain": [
              "dict_keys(['data', 'target', 'target_names', 'DESCR', 'feature_names', 'filename'])"
            ]
          },
          "metadata": {
            "tags": []
          },
          "execution_count": 6
        }
      ]
    },
    {
      "cell_type": "code",
      "metadata": {
        "id": "SdORdohD8Ra7",
        "colab_type": "code",
        "outputId": "14092bb1-2960-4313-cf05-f7e3fb411c19",
        "colab": {
          "base_uri": "https://localhost:8080/",
          "height": 34
        }
      },
      "source": [
        "data.data.shape"
      ],
      "execution_count": 7,
      "outputs": [
        {
          "output_type": "execute_result",
          "data": {
            "text/plain": [
              "(569, 30)"
            ]
          },
          "metadata": {
            "tags": []
          },
          "execution_count": 7
        }
      ]
    },
    {
      "cell_type": "code",
      "metadata": {
        "id": "BMOnADPw8e3f",
        "colab_type": "code",
        "outputId": "f6b7a782-69df-48c7-9f06-7480f8436657",
        "colab": {
          "base_uri": "https://localhost:8080/",
          "height": 454
        }
      },
      "source": [
        "data.target"
      ],
      "execution_count": 8,
      "outputs": [
        {
          "output_type": "execute_result",
          "data": {
            "text/plain": [
              "array([0, 0, 0, 0, 0, 0, 0, 0, 0, 0, 0, 0, 0, 0, 0, 0, 0, 0, 0, 1, 1, 1,\n",
              "       0, 0, 0, 0, 0, 0, 0, 0, 0, 0, 0, 0, 0, 0, 0, 1, 0, 0, 0, 0, 0, 0,\n",
              "       0, 0, 1, 0, 1, 1, 1, 1, 1, 0, 0, 1, 0, 0, 1, 1, 1, 1, 0, 1, 0, 0,\n",
              "       1, 1, 1, 1, 0, 1, 0, 0, 1, 0, 1, 0, 0, 1, 1, 1, 0, 0, 1, 0, 0, 0,\n",
              "       1, 1, 1, 0, 1, 1, 0, 0, 1, 1, 1, 0, 0, 1, 1, 1, 1, 0, 1, 1, 0, 1,\n",
              "       1, 1, 1, 1, 1, 1, 1, 0, 0, 0, 1, 0, 0, 1, 1, 1, 0, 0, 1, 0, 1, 0,\n",
              "       0, 1, 0, 0, 1, 1, 0, 1, 1, 0, 1, 1, 1, 1, 0, 1, 1, 1, 1, 1, 1, 1,\n",
              "       1, 1, 0, 1, 1, 1, 1, 0, 0, 1, 0, 1, 1, 0, 0, 1, 1, 0, 0, 1, 1, 1,\n",
              "       1, 0, 1, 1, 0, 0, 0, 1, 0, 1, 0, 1, 1, 1, 0, 1, 1, 0, 0, 1, 0, 0,\n",
              "       0, 0, 1, 0, 0, 0, 1, 0, 1, 0, 1, 1, 0, 1, 0, 0, 0, 0, 1, 1, 0, 0,\n",
              "       1, 1, 1, 0, 1, 1, 1, 1, 1, 0, 0, 1, 1, 0, 1, 1, 0, 0, 1, 0, 1, 1,\n",
              "       1, 1, 0, 1, 1, 1, 1, 1, 0, 1, 0, 0, 0, 0, 0, 0, 0, 0, 0, 0, 0, 0,\n",
              "       0, 0, 1, 1, 1, 1, 1, 1, 0, 1, 0, 1, 1, 0, 1, 1, 0, 1, 0, 0, 1, 1,\n",
              "       1, 1, 1, 1, 1, 1, 1, 1, 1, 1, 1, 0, 1, 1, 0, 1, 0, 1, 1, 1, 1, 1,\n",
              "       1, 1, 1, 1, 1, 1, 1, 1, 1, 0, 1, 1, 1, 0, 1, 0, 1, 1, 1, 1, 0, 0,\n",
              "       0, 1, 1, 1, 1, 0, 1, 0, 1, 0, 1, 1, 1, 0, 1, 1, 1, 1, 1, 1, 1, 0,\n",
              "       0, 0, 1, 1, 1, 1, 1, 1, 1, 1, 1, 1, 1, 0, 0, 1, 0, 0, 0, 1, 0, 0,\n",
              "       1, 1, 1, 1, 1, 0, 1, 1, 1, 1, 1, 0, 1, 1, 1, 0, 1, 1, 0, 0, 1, 1,\n",
              "       1, 1, 1, 1, 0, 1, 1, 1, 1, 1, 1, 1, 0, 1, 1, 1, 1, 1, 0, 1, 1, 0,\n",
              "       1, 1, 1, 1, 1, 1, 1, 1, 1, 1, 1, 1, 0, 1, 0, 0, 1, 0, 1, 1, 1, 1,\n",
              "       1, 0, 1, 1, 0, 1, 0, 1, 1, 0, 1, 0, 1, 1, 1, 1, 1, 1, 1, 1, 0, 0,\n",
              "       1, 1, 1, 1, 1, 1, 0, 1, 1, 1, 1, 1, 1, 1, 1, 1, 1, 0, 1, 1, 1, 1,\n",
              "       1, 1, 1, 0, 1, 0, 1, 1, 0, 1, 1, 1, 1, 1, 0, 0, 1, 0, 1, 0, 1, 1,\n",
              "       1, 1, 1, 0, 1, 1, 0, 1, 0, 1, 0, 0, 1, 1, 1, 0, 1, 1, 1, 1, 1, 1,\n",
              "       1, 1, 1, 1, 1, 0, 1, 0, 0, 1, 1, 1, 1, 1, 1, 1, 1, 1, 1, 1, 1, 1,\n",
              "       1, 1, 1, 1, 1, 1, 1, 1, 1, 1, 1, 1, 0, 0, 0, 0, 0, 0, 1])"
            ]
          },
          "metadata": {
            "tags": []
          },
          "execution_count": 8
        }
      ]
    },
    {
      "cell_type": "code",
      "metadata": {
        "id": "8Yuqf4cU8nan",
        "colab_type": "code",
        "outputId": "6cc3ef1c-77da-45f0-aca9-5f1eb0d1346f",
        "colab": {
          "base_uri": "https://localhost:8080/",
          "height": 34
        }
      },
      "source": [
        "data.target_names"
      ],
      "execution_count": 9,
      "outputs": [
        {
          "output_type": "execute_result",
          "data": {
            "text/plain": [
              "array(['malignant', 'benign'], dtype='<U9')"
            ]
          },
          "metadata": {
            "tags": []
          },
          "execution_count": 9
        }
      ]
    },
    {
      "cell_type": "code",
      "metadata": {
        "id": "kxK7_RAo8yZ-",
        "colab_type": "code",
        "outputId": "a48b13c2-8dd3-40ff-978b-225f804265bc",
        "colab": {
          "base_uri": "https://localhost:8080/",
          "height": 34
        }
      },
      "source": [
        "data.target.shape"
      ],
      "execution_count": 10,
      "outputs": [
        {
          "output_type": "execute_result",
          "data": {
            "text/plain": [
              "(569,)"
            ]
          },
          "metadata": {
            "tags": []
          },
          "execution_count": 10
        }
      ]
    },
    {
      "cell_type": "code",
      "metadata": {
        "id": "h_E3DtRQ8-vD",
        "colab_type": "code",
        "outputId": "f787248f-af9e-43cc-fa50-e2a75b508a01",
        "colab": {
          "base_uri": "https://localhost:8080/",
          "height": 185
        }
      },
      "source": [
        "data.feature_names"
      ],
      "execution_count": 11,
      "outputs": [
        {
          "output_type": "execute_result",
          "data": {
            "text/plain": [
              "array(['mean radius', 'mean texture', 'mean perimeter', 'mean area',\n",
              "       'mean smoothness', 'mean compactness', 'mean concavity',\n",
              "       'mean concave points', 'mean symmetry', 'mean fractal dimension',\n",
              "       'radius error', 'texture error', 'perimeter error', 'area error',\n",
              "       'smoothness error', 'compactness error', 'concavity error',\n",
              "       'concave points error', 'symmetry error',\n",
              "       'fractal dimension error', 'worst radius', 'worst texture',\n",
              "       'worst perimeter', 'worst area', 'worst smoothness',\n",
              "       'worst compactness', 'worst concavity', 'worst concave points',\n",
              "       'worst symmetry', 'worst fractal dimension'], dtype='<U23')"
            ]
          },
          "metadata": {
            "tags": []
          },
          "execution_count": 11
        }
      ]
    },
    {
      "cell_type": "code",
      "metadata": {
        "id": "QIOocWQF9C8t",
        "colab_type": "code",
        "colab": {}
      },
      "source": [
        "from sklearn.model_selection import train_test_split\n",
        "\n",
        "X_train, X_test, y_train, y_test = train_test_split(data.data, data.target, test_size=0.33)\n",
        "N, D = X_train.shape"
      ],
      "execution_count": 0,
      "outputs": []
    },
    {
      "cell_type": "code",
      "metadata": {
        "id": "R8-d2EkQ9pKR",
        "colab_type": "code",
        "colab": {}
      },
      "source": [
        "from sklearn.preprocessing import StandardScaler\n",
        "\n",
        "scaler = StandardScaler()\n",
        "X_train = scaler.fit_transform(X_train)\n",
        "X_test = scaler.transform(X_test)"
      ],
      "execution_count": 0,
      "outputs": []
    },
    {
      "cell_type": "code",
      "metadata": {
        "id": "sW9jk9Bq-T8A",
        "colab_type": "code",
        "outputId": "44c8256d-5fe9-43ed-e313-0284f24f4671",
        "colab": {
          "base_uri": "https://localhost:8080/",
          "height": 34
        }
      },
      "source": [
        "N"
      ],
      "execution_count": 14,
      "outputs": [
        {
          "output_type": "execute_result",
          "data": {
            "text/plain": [
              "381"
            ]
          },
          "metadata": {
            "tags": []
          },
          "execution_count": 14
        }
      ]
    },
    {
      "cell_type": "code",
      "metadata": {
        "id": "3PJT7XLV_hXk",
        "colab_type": "code",
        "outputId": "36cb3f0e-b6cf-49f5-9da2-0e3052478d54",
        "colab": {
          "base_uri": "https://localhost:8080/",
          "height": 1000
        }
      },
      "source": [
        "model = tf.keras.models.Sequential([tf.keras.layers.Input(shape=(D,)), tf.keras.layers.Dense(1,activation='sigmoid')])\n",
        "\n",
        "model.compile(optimizer='adam', loss = 'binary_crossentropy', metrics = ['accuracy'] )\n",
        "\n",
        "r = model.fit(X_train, y_train, validation_data = (X_test, y_test), epochs=100)\n",
        "\n",
        "\n",
        "print(\"Train score:\", model.evaluate(X_train, y_train))\n",
        "print(\"Test score\", model.evaluate(X_test, y_test))"
      ],
      "execution_count": 15,
      "outputs": [
        {
          "output_type": "stream",
          "text": [
            "Train on 381 samples, validate on 188 samples\n",
            "Epoch 1/100\n",
            "381/381 [==============================] - 0s 1ms/sample - loss: 0.6370 - accuracy: 0.7060 - val_loss: 0.4950 - val_accuracy: 0.7713\n",
            "Epoch 2/100\n",
            "381/381 [==============================] - 0s 87us/sample - loss: 0.5877 - accuracy: 0.7270 - val_loss: 0.4578 - val_accuracy: 0.8032\n",
            "Epoch 3/100\n",
            "381/381 [==============================] - 0s 81us/sample - loss: 0.5425 - accuracy: 0.7559 - val_loss: 0.4255 - val_accuracy: 0.8138\n",
            "Epoch 4/100\n",
            "381/381 [==============================] - 0s 88us/sample - loss: 0.5033 - accuracy: 0.7743 - val_loss: 0.3967 - val_accuracy: 0.8511\n",
            "Epoch 5/100\n",
            "381/381 [==============================] - 0s 102us/sample - loss: 0.4680 - accuracy: 0.8005 - val_loss: 0.3719 - val_accuracy: 0.8617\n",
            "Epoch 6/100\n",
            "381/381 [==============================] - 0s 85us/sample - loss: 0.4370 - accuracy: 0.8163 - val_loss: 0.3500 - val_accuracy: 0.8617\n",
            "Epoch 7/100\n",
            "381/381 [==============================] - 0s 90us/sample - loss: 0.4089 - accuracy: 0.8268 - val_loss: 0.3314 - val_accuracy: 0.8670\n",
            "Epoch 8/100\n",
            "381/381 [==============================] - 0s 82us/sample - loss: 0.3849 - accuracy: 0.8478 - val_loss: 0.3145 - val_accuracy: 0.8830\n",
            "Epoch 9/100\n",
            "381/381 [==============================] - 0s 90us/sample - loss: 0.3631 - accuracy: 0.8688 - val_loss: 0.2994 - val_accuracy: 0.8830\n",
            "Epoch 10/100\n",
            "381/381 [==============================] - 0s 79us/sample - loss: 0.3434 - accuracy: 0.8819 - val_loss: 0.2860 - val_accuracy: 0.8936\n",
            "Epoch 11/100\n",
            "381/381 [==============================] - 0s 94us/sample - loss: 0.3255 - accuracy: 0.8898 - val_loss: 0.2742 - val_accuracy: 0.8989\n",
            "Epoch 12/100\n",
            "381/381 [==============================] - 0s 89us/sample - loss: 0.3097 - accuracy: 0.8924 - val_loss: 0.2636 - val_accuracy: 0.9043\n",
            "Epoch 13/100\n",
            "381/381 [==============================] - 0s 87us/sample - loss: 0.2949 - accuracy: 0.8976 - val_loss: 0.2541 - val_accuracy: 0.9043\n",
            "Epoch 14/100\n",
            "381/381 [==============================] - 0s 78us/sample - loss: 0.2820 - accuracy: 0.9055 - val_loss: 0.2454 - val_accuracy: 0.9096\n",
            "Epoch 15/100\n",
            "381/381 [==============================] - 0s 85us/sample - loss: 0.2701 - accuracy: 0.9134 - val_loss: 0.2375 - val_accuracy: 0.9096\n",
            "Epoch 16/100\n",
            "381/381 [==============================] - 0s 94us/sample - loss: 0.2589 - accuracy: 0.9134 - val_loss: 0.2304 - val_accuracy: 0.9096\n",
            "Epoch 17/100\n",
            "381/381 [==============================] - 0s 97us/sample - loss: 0.2496 - accuracy: 0.9186 - val_loss: 0.2238 - val_accuracy: 0.9149\n",
            "Epoch 18/100\n",
            "381/381 [==============================] - 0s 88us/sample - loss: 0.2399 - accuracy: 0.9186 - val_loss: 0.2178 - val_accuracy: 0.9149\n",
            "Epoch 19/100\n",
            "381/381 [==============================] - 0s 91us/sample - loss: 0.2316 - accuracy: 0.9213 - val_loss: 0.2122 - val_accuracy: 0.9202\n",
            "Epoch 20/100\n",
            "381/381 [==============================] - 0s 89us/sample - loss: 0.2237 - accuracy: 0.9213 - val_loss: 0.2071 - val_accuracy: 0.9202\n",
            "Epoch 21/100\n",
            "381/381 [==============================] - 0s 85us/sample - loss: 0.2167 - accuracy: 0.9265 - val_loss: 0.2024 - val_accuracy: 0.9202\n",
            "Epoch 22/100\n",
            "381/381 [==============================] - 0s 90us/sample - loss: 0.2097 - accuracy: 0.9265 - val_loss: 0.1981 - val_accuracy: 0.9202\n",
            "Epoch 23/100\n",
            "381/381 [==============================] - 0s 85us/sample - loss: 0.2038 - accuracy: 0.9265 - val_loss: 0.1940 - val_accuracy: 0.9202\n",
            "Epoch 24/100\n",
            "381/381 [==============================] - 0s 85us/sample - loss: 0.1979 - accuracy: 0.9291 - val_loss: 0.1902 - val_accuracy: 0.9255\n",
            "Epoch 25/100\n",
            "381/381 [==============================] - 0s 87us/sample - loss: 0.1925 - accuracy: 0.9291 - val_loss: 0.1866 - val_accuracy: 0.9309\n",
            "Epoch 26/100\n",
            "381/381 [==============================] - 0s 117us/sample - loss: 0.1874 - accuracy: 0.9318 - val_loss: 0.1834 - val_accuracy: 0.9309\n",
            "Epoch 27/100\n",
            "381/381 [==============================] - 0s 96us/sample - loss: 0.1829 - accuracy: 0.9318 - val_loss: 0.1803 - val_accuracy: 0.9362\n",
            "Epoch 28/100\n",
            "381/381 [==============================] - 0s 105us/sample - loss: 0.1784 - accuracy: 0.9396 - val_loss: 0.1774 - val_accuracy: 0.9362\n",
            "Epoch 29/100\n",
            "381/381 [==============================] - 0s 98us/sample - loss: 0.1744 - accuracy: 0.9396 - val_loss: 0.1747 - val_accuracy: 0.9362\n",
            "Epoch 30/100\n",
            "381/381 [==============================] - 0s 90us/sample - loss: 0.1704 - accuracy: 0.9396 - val_loss: 0.1721 - val_accuracy: 0.9362\n",
            "Epoch 31/100\n",
            "381/381 [==============================] - 0s 109us/sample - loss: 0.1669 - accuracy: 0.9423 - val_loss: 0.1697 - val_accuracy: 0.9362\n",
            "Epoch 32/100\n",
            "381/381 [==============================] - 0s 93us/sample - loss: 0.1633 - accuracy: 0.9475 - val_loss: 0.1674 - val_accuracy: 0.9362\n",
            "Epoch 33/100\n",
            "381/381 [==============================] - 0s 88us/sample - loss: 0.1601 - accuracy: 0.9475 - val_loss: 0.1653 - val_accuracy: 0.9415\n",
            "Epoch 34/100\n",
            "381/381 [==============================] - 0s 93us/sample - loss: 0.1570 - accuracy: 0.9475 - val_loss: 0.1632 - val_accuracy: 0.9415\n",
            "Epoch 35/100\n",
            "381/381 [==============================] - 0s 100us/sample - loss: 0.1542 - accuracy: 0.9475 - val_loss: 0.1613 - val_accuracy: 0.9415\n",
            "Epoch 36/100\n",
            "381/381 [==============================] - 0s 96us/sample - loss: 0.1514 - accuracy: 0.9475 - val_loss: 0.1594 - val_accuracy: 0.9362\n",
            "Epoch 37/100\n",
            "381/381 [==============================] - 0s 111us/sample - loss: 0.1489 - accuracy: 0.9475 - val_loss: 0.1576 - val_accuracy: 0.9362\n",
            "Epoch 38/100\n",
            "381/381 [==============================] - 0s 100us/sample - loss: 0.1462 - accuracy: 0.9475 - val_loss: 0.1559 - val_accuracy: 0.9362\n",
            "Epoch 39/100\n",
            "381/381 [==============================] - 0s 102us/sample - loss: 0.1438 - accuracy: 0.9475 - val_loss: 0.1544 - val_accuracy: 0.9415\n",
            "Epoch 40/100\n",
            "381/381 [==============================] - 0s 87us/sample - loss: 0.1416 - accuracy: 0.9475 - val_loss: 0.1528 - val_accuracy: 0.9468\n",
            "Epoch 41/100\n",
            "381/381 [==============================] - 0s 94us/sample - loss: 0.1394 - accuracy: 0.9475 - val_loss: 0.1513 - val_accuracy: 0.9468\n",
            "Epoch 42/100\n",
            "381/381 [==============================] - 0s 115us/sample - loss: 0.1374 - accuracy: 0.9501 - val_loss: 0.1500 - val_accuracy: 0.9521\n",
            "Epoch 43/100\n",
            "381/381 [==============================] - 0s 100us/sample - loss: 0.1353 - accuracy: 0.9501 - val_loss: 0.1487 - val_accuracy: 0.9521\n",
            "Epoch 44/100\n",
            "381/381 [==============================] - 0s 94us/sample - loss: 0.1334 - accuracy: 0.9528 - val_loss: 0.1473 - val_accuracy: 0.9521\n",
            "Epoch 45/100\n",
            "381/381 [==============================] - 0s 87us/sample - loss: 0.1316 - accuracy: 0.9528 - val_loss: 0.1461 - val_accuracy: 0.9521\n",
            "Epoch 46/100\n",
            "381/381 [==============================] - 0s 91us/sample - loss: 0.1299 - accuracy: 0.9528 - val_loss: 0.1449 - val_accuracy: 0.9521\n",
            "Epoch 47/100\n",
            "381/381 [==============================] - 0s 110us/sample - loss: 0.1281 - accuracy: 0.9528 - val_loss: 0.1438 - val_accuracy: 0.9521\n",
            "Epoch 48/100\n",
            "381/381 [==============================] - 0s 115us/sample - loss: 0.1266 - accuracy: 0.9554 - val_loss: 0.1427 - val_accuracy: 0.9521\n",
            "Epoch 49/100\n",
            "381/381 [==============================] - 0s 88us/sample - loss: 0.1249 - accuracy: 0.9554 - val_loss: 0.1416 - val_accuracy: 0.9521\n",
            "Epoch 50/100\n",
            "381/381 [==============================] - 0s 86us/sample - loss: 0.1234 - accuracy: 0.9554 - val_loss: 0.1406 - val_accuracy: 0.9521\n",
            "Epoch 51/100\n",
            "381/381 [==============================] - 0s 99us/sample - loss: 0.1219 - accuracy: 0.9554 - val_loss: 0.1396 - val_accuracy: 0.9521\n",
            "Epoch 52/100\n",
            "381/381 [==============================] - 0s 117us/sample - loss: 0.1205 - accuracy: 0.9554 - val_loss: 0.1386 - val_accuracy: 0.9521\n",
            "Epoch 53/100\n",
            "381/381 [==============================] - 0s 96us/sample - loss: 0.1190 - accuracy: 0.9554 - val_loss: 0.1377 - val_accuracy: 0.9574\n",
            "Epoch 54/100\n",
            "381/381 [==============================] - 0s 94us/sample - loss: 0.1177 - accuracy: 0.9554 - val_loss: 0.1368 - val_accuracy: 0.9574\n",
            "Epoch 55/100\n",
            "381/381 [==============================] - 0s 99us/sample - loss: 0.1164 - accuracy: 0.9554 - val_loss: 0.1359 - val_accuracy: 0.9574\n",
            "Epoch 56/100\n",
            "381/381 [==============================] - 0s 100us/sample - loss: 0.1152 - accuracy: 0.9554 - val_loss: 0.1351 - val_accuracy: 0.9574\n",
            "Epoch 57/100\n",
            "381/381 [==============================] - 0s 113us/sample - loss: 0.1140 - accuracy: 0.9554 - val_loss: 0.1343 - val_accuracy: 0.9574\n",
            "Epoch 58/100\n",
            "381/381 [==============================] - 0s 119us/sample - loss: 0.1128 - accuracy: 0.9554 - val_loss: 0.1335 - val_accuracy: 0.9574\n",
            "Epoch 59/100\n",
            "381/381 [==============================] - 0s 86us/sample - loss: 0.1116 - accuracy: 0.9554 - val_loss: 0.1327 - val_accuracy: 0.9574\n",
            "Epoch 60/100\n",
            "381/381 [==============================] - 0s 92us/sample - loss: 0.1105 - accuracy: 0.9554 - val_loss: 0.1320 - val_accuracy: 0.9574\n",
            "Epoch 61/100\n",
            "381/381 [==============================] - 0s 87us/sample - loss: 0.1094 - accuracy: 0.9554 - val_loss: 0.1313 - val_accuracy: 0.9574\n",
            "Epoch 62/100\n",
            "381/381 [==============================] - 0s 101us/sample - loss: 0.1083 - accuracy: 0.9554 - val_loss: 0.1306 - val_accuracy: 0.9574\n",
            "Epoch 63/100\n",
            "381/381 [==============================] - 0s 106us/sample - loss: 0.1073 - accuracy: 0.9554 - val_loss: 0.1300 - val_accuracy: 0.9574\n",
            "Epoch 64/100\n",
            "381/381 [==============================] - 0s 106us/sample - loss: 0.1063 - accuracy: 0.9554 - val_loss: 0.1293 - val_accuracy: 0.9574\n",
            "Epoch 65/100\n",
            "381/381 [==============================] - 0s 87us/sample - loss: 0.1053 - accuracy: 0.9554 - val_loss: 0.1286 - val_accuracy: 0.9574\n",
            "Epoch 66/100\n",
            "381/381 [==============================] - 0s 91us/sample - loss: 0.1044 - accuracy: 0.9554 - val_loss: 0.1281 - val_accuracy: 0.9628\n",
            "Epoch 67/100\n",
            "381/381 [==============================] - 0s 103us/sample - loss: 0.1034 - accuracy: 0.9554 - val_loss: 0.1274 - val_accuracy: 0.9628\n",
            "Epoch 68/100\n",
            "381/381 [==============================] - 0s 115us/sample - loss: 0.1025 - accuracy: 0.9554 - val_loss: 0.1269 - val_accuracy: 0.9681\n",
            "Epoch 69/100\n",
            "381/381 [==============================] - 0s 83us/sample - loss: 0.1016 - accuracy: 0.9554 - val_loss: 0.1263 - val_accuracy: 0.9681\n",
            "Epoch 70/100\n",
            "381/381 [==============================] - 0s 101us/sample - loss: 0.1008 - accuracy: 0.9580 - val_loss: 0.1257 - val_accuracy: 0.9681\n",
            "Epoch 71/100\n",
            "381/381 [==============================] - 0s 89us/sample - loss: 0.0999 - accuracy: 0.9580 - val_loss: 0.1252 - val_accuracy: 0.9681\n",
            "Epoch 72/100\n",
            "381/381 [==============================] - 0s 89us/sample - loss: 0.0991 - accuracy: 0.9580 - val_loss: 0.1247 - val_accuracy: 0.9681\n",
            "Epoch 73/100\n",
            "381/381 [==============================] - 0s 99us/sample - loss: 0.0983 - accuracy: 0.9606 - val_loss: 0.1242 - val_accuracy: 0.9681\n",
            "Epoch 74/100\n",
            "381/381 [==============================] - 0s 85us/sample - loss: 0.0975 - accuracy: 0.9606 - val_loss: 0.1237 - val_accuracy: 0.9681\n",
            "Epoch 75/100\n",
            "381/381 [==============================] - 0s 95us/sample - loss: 0.0967 - accuracy: 0.9606 - val_loss: 0.1232 - val_accuracy: 0.9681\n",
            "Epoch 76/100\n",
            "381/381 [==============================] - 0s 96us/sample - loss: 0.0959 - accuracy: 0.9606 - val_loss: 0.1227 - val_accuracy: 0.9681\n",
            "Epoch 77/100\n",
            "381/381 [==============================] - 0s 90us/sample - loss: 0.0952 - accuracy: 0.9606 - val_loss: 0.1223 - val_accuracy: 0.9681\n",
            "Epoch 78/100\n",
            "381/381 [==============================] - 0s 95us/sample - loss: 0.0945 - accuracy: 0.9606 - val_loss: 0.1218 - val_accuracy: 0.9681\n",
            "Epoch 79/100\n",
            "381/381 [==============================] - 0s 97us/sample - loss: 0.0937 - accuracy: 0.9633 - val_loss: 0.1214 - val_accuracy: 0.9681\n",
            "Epoch 80/100\n",
            "381/381 [==============================] - 0s 99us/sample - loss: 0.0930 - accuracy: 0.9633 - val_loss: 0.1210 - val_accuracy: 0.9681\n",
            "Epoch 81/100\n",
            "381/381 [==============================] - 0s 95us/sample - loss: 0.0924 - accuracy: 0.9633 - val_loss: 0.1206 - val_accuracy: 0.9681\n",
            "Epoch 82/100\n",
            "381/381 [==============================] - 0s 87us/sample - loss: 0.0917 - accuracy: 0.9633 - val_loss: 0.1201 - val_accuracy: 0.9681\n",
            "Epoch 83/100\n",
            "381/381 [==============================] - 0s 88us/sample - loss: 0.0910 - accuracy: 0.9633 - val_loss: 0.1198 - val_accuracy: 0.9681\n",
            "Epoch 84/100\n",
            "381/381 [==============================] - 0s 96us/sample - loss: 0.0904 - accuracy: 0.9633 - val_loss: 0.1194 - val_accuracy: 0.9681\n",
            "Epoch 85/100\n",
            "381/381 [==============================] - 0s 92us/sample - loss: 0.0898 - accuracy: 0.9633 - val_loss: 0.1190 - val_accuracy: 0.9681\n",
            "Epoch 86/100\n",
            "381/381 [==============================] - 0s 97us/sample - loss: 0.0891 - accuracy: 0.9633 - val_loss: 0.1186 - val_accuracy: 0.9681\n",
            "Epoch 87/100\n",
            "381/381 [==============================] - 0s 89us/sample - loss: 0.0885 - accuracy: 0.9633 - val_loss: 0.1182 - val_accuracy: 0.9681\n",
            "Epoch 88/100\n",
            "381/381 [==============================] - 0s 92us/sample - loss: 0.0879 - accuracy: 0.9633 - val_loss: 0.1178 - val_accuracy: 0.9681\n",
            "Epoch 89/100\n",
            "381/381 [==============================] - 0s 102us/sample - loss: 0.0873 - accuracy: 0.9659 - val_loss: 0.1175 - val_accuracy: 0.9681\n",
            "Epoch 90/100\n",
            "381/381 [==============================] - 0s 105us/sample - loss: 0.0868 - accuracy: 0.9659 - val_loss: 0.1172 - val_accuracy: 0.9681\n",
            "Epoch 91/100\n",
            "381/381 [==============================] - 0s 96us/sample - loss: 0.0862 - accuracy: 0.9659 - val_loss: 0.1169 - val_accuracy: 0.9681\n",
            "Epoch 92/100\n",
            "381/381 [==============================] - 0s 90us/sample - loss: 0.0857 - accuracy: 0.9659 - val_loss: 0.1165 - val_accuracy: 0.9681\n",
            "Epoch 93/100\n",
            "381/381 [==============================] - 0s 96us/sample - loss: 0.0851 - accuracy: 0.9659 - val_loss: 0.1162 - val_accuracy: 0.9681\n",
            "Epoch 94/100\n",
            "381/381 [==============================] - 0s 94us/sample - loss: 0.0846 - accuracy: 0.9659 - val_loss: 0.1159 - val_accuracy: 0.9681\n",
            "Epoch 95/100\n",
            "381/381 [==============================] - 0s 103us/sample - loss: 0.0840 - accuracy: 0.9685 - val_loss: 0.1155 - val_accuracy: 0.9681\n",
            "Epoch 96/100\n",
            "381/381 [==============================] - 0s 82us/sample - loss: 0.0835 - accuracy: 0.9685 - val_loss: 0.1153 - val_accuracy: 0.9681\n",
            "Epoch 97/100\n",
            "381/381 [==============================] - 0s 105us/sample - loss: 0.0830 - accuracy: 0.9685 - val_loss: 0.1150 - val_accuracy: 0.9681\n",
            "Epoch 98/100\n",
            "381/381 [==============================] - 0s 87us/sample - loss: 0.0825 - accuracy: 0.9711 - val_loss: 0.1147 - val_accuracy: 0.9681\n",
            "Epoch 99/100\n",
            "381/381 [==============================] - 0s 88us/sample - loss: 0.0820 - accuracy: 0.9711 - val_loss: 0.1144 - val_accuracy: 0.9681\n",
            "Epoch 100/100\n",
            "381/381 [==============================] - 0s 89us/sample - loss: 0.0815 - accuracy: 0.9711 - val_loss: 0.1141 - val_accuracy: 0.9734\n",
            "381/381 [==============================] - 0s 45us/sample - loss: 0.0813 - accuracy: 0.9738\n",
            "Train score: [0.08125889017747769, 0.9737533]\n",
            "188/188 [==============================] - 0s 61us/sample - loss: 0.1141 - accuracy: 0.9734\n",
            "Test score [0.11412486544948944, 0.9734042]\n"
          ],
          "name": "stdout"
        }
      ]
    },
    {
      "cell_type": "code",
      "metadata": {
        "id": "gmzXDosqCShb",
        "colab_type": "code",
        "outputId": "1fa66ee6-49cd-4bd6-c8bd-c123c17c260e",
        "colab": {
          "base_uri": "https://localhost:8080/",
          "height": 282
        }
      },
      "source": [
        "import matplotlib.pyplot as plt\n",
        "\n",
        "plt.plot(r.history['loss'], label='loss')\n",
        "plt.plot(r.history['val_loss'], label='val_loss')\n",
        "plt.legend()"
      ],
      "execution_count": 16,
      "outputs": [
        {
          "output_type": "execute_result",
          "data": {
            "text/plain": [
              "<matplotlib.legend.Legend at 0x7f48d7f27da0>"
            ]
          },
          "metadata": {
            "tags": []
          },
          "execution_count": 16
        },
        {
          "output_type": "display_data",
          "data": {
            "image/png": "[encoded data removed]",
            "text/plain": [
              "<Figure size 432x288 with 1 Axes>"
            ]
          },
          "metadata": {
            "tags": []
          }
        }
      ]
    },
    {
      "cell_type": "code",
      "metadata": {
        "id": "o-yM8k22Cqh1",
        "colab_type": "code",
        "outputId": "b7d2c564-c0f0-49ee-ff3d-552e5fcad670",
        "colab": {
          "base_uri": "https://localhost:8080/",
          "height": 282
        }
      },
      "source": [
        "plt.plot(r.history['accuracy'], label='acc')\n",
        "plt.plot(r.history['val_accuracy'], label='val_acc')\n",
        "plt.legend()"
      ],
      "execution_count": 17,
      "outputs": [
        {
          "output_type": "execute_result",
          "data": {
            "text/plain": [
              "<matplotlib.legend.Legend at 0x7f48d4a58588>"
            ]
          },
          "metadata": {
            "tags": []
          },
          "execution_count": 17
        },
        {
          "output_type": "display_data",
          "data": {
            "image/png": "[encoded data removed]",
            "text/plain": [
              "<Figure size 432x288 with 1 Axes>"
            ]
          },
          "metadata": {
            "tags": []
          }
        }
      ]
    },
    {
      "cell_type": "markdown",
      "metadata": {
        "id": "nAJRZQMnDeRJ",
        "colab_type": "text"
      },
      "source": [
        "# Making Predictions"
      ]
    },
    {
      "cell_type": "code",
      "metadata": {
        "id": "19LCdpQcDo9V",
        "colab_type": "code",
        "colab": {
          "base_uri": "https://localhost:8080/",
          "height": 1000
        },
        "outputId": "2b051aff-90d7-468b-e4c9-aabc3c877b9a"
      },
      "source": [
        "P = model.predict(X_test)\n",
        "print(P) #there are outputs of the sigmoid, interpreted as probabilities p(y=1|x)"
      ],
      "execution_count": 19,
      "outputs": [
        {
          "output_type": "stream",
          "text": [
            "[[9.7051346e-01]\n",
            " [9.9792981e-01]\n",
            " [9.9516195e-01]\n",
            " [1.2294322e-04]\n",
            " [3.0139706e-03]\n",
            " [2.5770403e-04]\n",
            " [8.4577137e-01]\n",
            " [8.1810164e-01]\n",
            " [9.8415011e-01]\n",
            " [9.9976856e-01]\n",
            " [9.8480636e-01]\n",
            " [5.6730294e-01]\n",
            " [9.2923713e-01]\n",
            " [4.4514646e-04]\n",
            " [9.6788937e-01]\n",
            " [6.1615282e-01]\n",
            " [9.9162579e-01]\n",
            " [8.1049603e-01]\n",
            " [9.8547965e-01]\n",
            " [9.9912971e-01]\n",
            " [6.1794168e-07]\n",
            " [3.1821690e-03]\n",
            " [9.9047571e-01]\n",
            " [9.9802375e-01]\n",
            " [1.4975488e-01]\n",
            " [9.6851236e-01]\n",
            " [9.8034602e-01]\n",
            " [9.9162251e-01]\n",
            " [1.2586108e-06]\n",
            " [2.5908621e-02]\n",
            " [9.9026251e-01]\n",
            " [6.5517962e-01]\n",
            " [9.4150692e-01]\n",
            " [9.9632758e-01]\n",
            " [7.4193403e-02]\n",
            " [9.3015587e-01]\n",
            " [9.8497492e-01]\n",
            " [9.7222555e-01]\n",
            " [1.6484625e-03]\n",
            " [9.9843806e-01]\n",
            " [9.5443052e-01]\n",
            " [9.5309818e-01]\n",
            " [9.8193109e-01]\n",
            " [8.8821912e-01]\n",
            " [9.9866426e-01]\n",
            " [9.9281478e-01]\n",
            " [1.9383140e-05]\n",
            " [9.7246766e-01]\n",
            " [8.8005143e-01]\n",
            " [9.9603540e-01]\n",
            " [3.2017893e-01]\n",
            " [9.2261422e-01]\n",
            " [4.5215194e-05]\n",
            " [9.9138331e-01]\n",
            " [9.9920326e-01]\n",
            " [2.6909319e-01]\n",
            " [9.7647637e-01]\n",
            " [9.9562931e-01]\n",
            " [9.9540246e-01]\n",
            " [3.6768338e-01]\n",
            " [9.9033570e-01]\n",
            " [9.7984070e-01]\n",
            " [8.9739567e-01]\n",
            " [1.3551135e-04]\n",
            " [7.8189790e-01]\n",
            " [7.9133650e-03]\n",
            " [9.6771395e-01]\n",
            " [6.1858161e-03]\n",
            " [4.3327940e-01]\n",
            " [9.5983231e-01]\n",
            " [8.9835930e-01]\n",
            " [9.7777939e-01]\n",
            " [5.2907165e-02]\n",
            " [4.3746591e-02]\n",
            " [9.8707539e-01]\n",
            " [9.9507397e-01]\n",
            " [9.9287415e-01]\n",
            " [9.9520963e-01]\n",
            " [9.8365360e-01]\n",
            " [9.9490273e-01]\n",
            " [9.9623799e-01]\n",
            " [5.6179299e-04]\n",
            " [6.6456407e-02]\n",
            " [9.5642972e-01]\n",
            " [8.7239844e-01]\n",
            " [9.7745728e-01]\n",
            " [9.4905114e-01]\n",
            " [3.8011911e-04]\n",
            " [7.7512121e-01]\n",
            " [9.5989215e-01]\n",
            " [3.6819789e-01]\n",
            " [9.9947315e-01]\n",
            " [3.0823608e-04]\n",
            " [9.9783844e-01]\n",
            " [9.9144441e-01]\n",
            " [7.7459753e-01]\n",
            " [9.9973971e-01]\n",
            " [9.9904174e-01]\n",
            " [9.9016577e-01]\n",
            " [9.6039361e-01]\n",
            " [9.8905247e-01]\n",
            " [9.8679280e-01]\n",
            " [3.4721925e-05]\n",
            " [9.9857938e-01]\n",
            " [9.3418503e-01]\n",
            " [9.9222249e-01]\n",
            " [9.9513644e-01]\n",
            " [9.9978083e-01]\n",
            " [9.6583432e-01]\n",
            " [9.9948621e-01]\n",
            " [1.2973178e-03]\n",
            " [9.7249460e-01]\n",
            " [9.9201912e-01]\n",
            " [4.3161735e-02]\n",
            " [9.9741769e-01]\n",
            " [2.9915336e-13]\n",
            " [4.1007292e-03]\n",
            " [5.9750330e-01]\n",
            " [9.7590542e-01]\n",
            " [9.6647769e-01]\n",
            " [9.8562521e-01]\n",
            " [1.7263726e-03]\n",
            " [6.0017496e-01]\n",
            " [1.6229543e-01]\n",
            " [9.5264941e-01]\n",
            " [9.1684991e-01]\n",
            " [1.4523742e-07]\n",
            " [2.8054962e-01]\n",
            " [8.0185361e-09]\n",
            " [3.7219584e-01]\n",
            " [9.5056212e-01]\n",
            " [9.4984525e-01]\n",
            " [9.8678756e-01]\n",
            " [8.9162058e-01]\n",
            " [8.8642335e-01]\n",
            " [9.8419434e-01]\n",
            " [9.9843425e-01]\n",
            " [9.8845822e-01]\n",
            " [1.0077116e-03]\n",
            " [9.8667568e-01]\n",
            " [3.7356210e-03]\n",
            " [9.5797491e-01]\n",
            " [9.1637576e-01]\n",
            " [2.1285203e-04]\n",
            " [9.5779216e-01]\n",
            " [9.9327481e-01]\n",
            " [9.9379188e-01]\n",
            " [5.4477034e-03]\n",
            " [8.1919301e-03]\n",
            " [9.9760461e-01]\n",
            " [4.0660125e-06]\n",
            " [9.7517949e-01]\n",
            " [4.9886757e-01]\n",
            " [9.9487442e-01]\n",
            " [7.4300247e-01]\n",
            " [9.9595296e-01]\n",
            " [8.1298423e-01]\n",
            " [1.2472817e-01]\n",
            " [9.9775714e-01]\n",
            " [5.7705432e-02]\n",
            " [8.8623106e-01]\n",
            " [9.8183835e-01]\n",
            " [4.4089286e-03]\n",
            " [6.7646673e-05]\n",
            " [9.2799752e-04]\n",
            " [4.2203803e-05]\n",
            " [9.9814260e-01]\n",
            " [9.7704720e-01]\n",
            " [9.9946636e-01]\n",
            " [1.4573964e-08]\n",
            " [9.1887850e-01]\n",
            " [9.9436098e-01]\n",
            " [9.5057350e-01]\n",
            " [9.1320145e-01]\n",
            " [9.0962695e-04]\n",
            " [9.5422304e-01]\n",
            " [9.9349666e-01]\n",
            " [8.3310634e-01]\n",
            " [4.0505598e-03]\n",
            " [9.4944149e-01]\n",
            " [9.8056144e-01]\n",
            " [9.9835604e-01]\n",
            " [9.5090520e-01]\n",
            " [1.1237276e-01]\n",
            " [9.8781186e-01]\n",
            " [8.2659763e-01]\n",
            " [9.9363446e-01]\n",
            " [9.8776430e-01]]\n"
          ],
          "name": "stdout"
        }
      ]
    },
    {
      "cell_type": "code",
      "metadata": {
        "id": "Hs92tg1MFmpI",
        "colab_type": "code",
        "colab": {
          "base_uri": "https://localhost:8080/",
          "height": 151
        },
        "outputId": "ee40d813-4a82-4545-e4a5-4412c8b906bf"
      },
      "source": [
        "import numpy as np\n",
        "\n",
        "P = np.round(P).flatten()\n",
        "print(P)"
      ],
      "execution_count": 20,
      "outputs": [
        {
          "output_type": "stream",
          "text": [
            "[1. 1. 1. 0. 0. 0. 1. 1. 1. 1. 1. 1. 1. 0. 1. 1. 1. 1. 1. 1. 0. 0. 1. 1.\n",
            " 0. 1. 1. 1. 0. 0. 1. 1. 1. 1. 0. 1. 1. 1. 0. 1. 1. 1. 1. 1. 1. 1. 0. 1.\n",
            " 1. 1. 0. 1. 0. 1. 1. 0. 1. 1. 1. 0. 1. 1. 1. 0. 1. 0. 1. 0. 0. 1. 1. 1.\n",
            " 0. 0. 1. 1. 1. 1. 1. 1. 1. 0. 0. 1. 1. 1. 1. 0. 1. 1. 0. 1. 0. 1. 1. 1.\n",
            " 1. 1. 1. 1. 1. 1. 0. 1. 1. 1. 1. 1. 1. 1. 0. 1. 1. 0. 1. 0. 0. 1. 1. 1.\n",
            " 1. 0. 1. 0. 1. 1. 0. 0. 0. 0. 1. 1. 1. 1. 1. 1. 1. 1. 0. 1. 0. 1. 1. 0.\n",
            " 1. 1. 1. 0. 0. 1. 0. 1. 0. 1. 1. 1. 1. 0. 1. 0. 1. 1. 0. 0. 0. 0. 1. 1.\n",
            " 1. 0. 1. 1. 1. 1. 0. 1. 1. 1. 0. 1. 1. 1. 1. 0. 1. 1. 1. 1.]\n"
          ],
          "name": "stdout"
        }
      ]
    },
    {
      "cell_type": "code",
      "metadata": {
        "id": "4s5tLTwWGLDP",
        "colab_type": "code",
        "colab": {
          "base_uri": "https://localhost:8080/",
          "height": 67
        },
        "outputId": "94908278-c43e-4291-cbc9-399998f60af9"
      },
      "source": [
        "print(\"Manually calculated accuracy\", np.mean(P == y_test))\n",
        "print(\"Evaulated accuracy\", model.evaluate(X_test, y_test))"
      ],
      "execution_count": 21,
      "outputs": [
        {
          "output_type": "stream",
          "text": [
            "Manually calculated accuracy 0.973404255319149\n",
            "188/188 [==============================] - 0s 74us/sample - loss: 0.1141 - accuracy: 0.9734\n",
            "Evaulated accuracy [0.11412486544948944, 0.9734042]\n"
          ],
          "name": "stdout"
        }
      ]
    }
  ]
}